{
 "cells": [
  {
   "cell_type": "code",
   "execution_count": 1,
   "id": "5aeb721a",
   "metadata": {},
   "outputs": [
    {
     "data": {
      "text/plain": [
       "True"
      ]
     },
     "execution_count": 1,
     "metadata": {},
     "output_type": "execute_result"
    }
   ],
   "source": [
    "import os\n",
    "from dotenv import load_dotenv\n",
    "load_dotenv()"
   ]
  },
  {
   "cell_type": "code",
   "execution_count": 2,
   "id": "db125be9",
   "metadata": {},
   "outputs": [],
   "source": [
    "LANGCHAIN_API_KEY=os.getenv(\"LANGCHAIN_API_KEY\")\n",
    "GOOGLE_API_KEY=os.getenv(\"GOOGLE_API_KEY\")\n",
    "GROQ_API_KEY=os.getenv(\"GROQ_API_KEY\")\n",
    "LANGCHAIN_PROJECT=os.getenv(\"LANGCHAIN_PROJECT\")\n",
    "SERPER_API_KEY=os.getenv(\"SERPER_API_KEY\")"
   ]
  },
  {
   "cell_type": "code",
   "execution_count": 3,
   "id": "fe5a8ff9",
   "metadata": {},
   "outputs": [],
   "source": [
    "os.environ[\"GOOGLE_API_KEY\"]=GOOGLE_API_KEY\n",
    "os.environ[\"GROQ_API_KEY\"]=GROQ_API_KEY\n",
    "os.environ[\"LANGCHAIN_API_KEY\"]=GOOGLE_API_KEY\n",
    "os.environ[\"LANGSMITH_TRACING\"]=\"true\"\n",
    "os.environ[\"LANGSMITH_ENDPOINT\"]=\"https://api.smith.langchain.com\"\n",
    "os.environ[\"LANGCHAIN_PROJECT\"]=LANGCHAIN_PROJECT"
   ]
  },
  {
   "cell_type": "code",
   "execution_count": 8,
   "id": "87fdaa33",
   "metadata": {},
   "outputs": [],
   "source": [
    "from langchain_groq import ChatGroq\n",
    "llm=ChatGroq(model_name=\"llama-3.3-70b-versatile\")"
   ]
  },
  {
   "cell_type": "code",
   "execution_count": 9,
   "id": "ea080250",
   "metadata": {},
   "outputs": [],
   "source": [
    "message=[{'role':'system','content':'you are a helpful assistant'},\n",
    "         {'role':'user','content':'Hii how are you'}]"
   ]
  },
  {
   "cell_type": "code",
   "execution_count": 10,
   "id": "0f539ada",
   "metadata": {},
   "outputs": [
    {
     "data": {
      "text/plain": [
       "\"Hello. I'm doing well, thanks for asking. How can I assist you today? Is there something I can help you with or would you like to chat?\""
      ]
     },
     "execution_count": 10,
     "metadata": {},
     "output_type": "execute_result"
    }
   ],
   "source": [
    "llm.invoke(message).content"
   ]
  },
  {
   "cell_type": "code",
   "execution_count": 23,
   "id": "972f4bc4",
   "metadata": {},
   "outputs": [],
   "source": [
    "class Chatbot():\n",
    "    def __init__(self,system=\"\"):\n",
    "        self.system=system\n",
    "        self.message=[]\n",
    "        if self.system:\n",
    "            self.message.append({'role':'system','content':system})\n",
    "\n",
    "    def __call__(self,message):\n",
    "        self.message.append({'role':'user','content':message})\n",
    "        result=self.execute()\n",
    "        self.message.append({'role':'assistant','content':result})\n",
    "        return result\n",
    "\n",
    "    def execute(self):\n",
    "        llm=ChatGroq(model_name=\"Gemma2-9b-It\")\n",
    "        result=llm.invoke(self.message)\n",
    "        return result.content"
   ]
  },
  {
   "cell_type": "code",
   "execution_count": 24,
   "id": "bb7a15fd",
   "metadata": {},
   "outputs": [],
   "source": [
    "bot=Chatbot(system=\"You are a helpful assistant\")"
   ]
  },
  {
   "cell_type": "code",
   "execution_count": 26,
   "id": "e64c8ab2",
   "metadata": {},
   "outputs": [
    {
     "data": {
      "text/plain": [
       "\"Hi Gyanbardhan, it's nice to meet you! 👋\\n\\nHow can I help you today? 😊  \\n\\n\""
      ]
     },
     "execution_count": 26,
     "metadata": {},
     "output_type": "execute_result"
    }
   ],
   "source": [
    "bot(\"Hi my name is Gyanbardhan\")"
   ]
  },
  {
   "cell_type": "code",
   "execution_count": 27,
   "id": "4072c92a",
   "metadata": {},
   "outputs": [
    {
     "data": {
      "text/plain": [
       "[{'role': 'system', 'content': 'You are a helpful assistant'},\n",
       " {'role': 'user', 'content': 'Hi my name is Gyanbardhan'},\n",
       " {'role': 'assistant',\n",
       "  'content': \"Hi Gyanbardhan, it's nice to meet you! 👋\\n\\nHow can I help you today? 😊  \\n\\n\"}]"
      ]
     },
     "execution_count": 27,
     "metadata": {},
     "output_type": "execute_result"
    }
   ],
   "source": [
    "bot.message"
   ]
  },
  {
   "cell_type": "code",
   "execution_count": 29,
   "id": "bae7bb95",
   "metadata": {},
   "outputs": [],
   "source": [
    "prompt = \"\"\"\n",
    "You run in a loop of Thought, Action, PAUSE, Observation.\n",
    "At the end of the loop your output an Answer.\n",
    "Use Thought to describe your thoughts about the question you have been asked.\n",
    "Use Action to run one of the actions available to you - then return PAUSE.\n",
    "Observation will be the result of running those actions.\n",
    "\n",
    "\n",
    "Your available actions are:\n",
    "calculate:\n",
    "e.g. calculate: 4 * 7 / 3\n",
    "Runs a calculation and returns the number - uses Python so be sure to use floating point\n",
    "syntax if necessary\n",
    "\n",
    "wikipedia:\n",
    "e.g. wikipedia: Django\n",
    "Returns a summary from searching Wikipedia\n",
    "\n",
    "simon_blog_search:\n",
    "e.g. simon_blog_search: Python\n",
    "Search Simon's blog for that term\n",
    "\n",
    "Example session:\n",
    "Question: What is the capital of France?\n",
    "Thought: I should look up France on Wikipedia\n",
    "Action: wikipedia: France\n",
    "PAUSE\n",
    "\n",
    "You will be called again with this:\n",
    "Observation: France is a country. The capital is Paris.\n",
    "\n",
    "You then output:\n",
    "Answer: The capital of France is Paris\n",
    "\n",
    "Please Note: if you get basic conversation questions like \"hi\",\"hello\",\"how are you?\",\\n\n",
    "you have to answer \"hi\",\"hello\",\"i am good\".\n",
    "\"\"\".strip()"
   ]
  },
  {
   "cell_type": "markdown",
   "id": "d99110ff",
   "metadata": {},
   "source": [
    "### Regular expression Pattern Breakdown:\n",
    "\n",
    "- ^: This matches the start of a string. It means the string must begin with what follows.\n",
    "- Action:: This is a literal match. It means the string must have the text \"Action:\" at the beginning.\n",
    "- (\\w+):\n",
    "    - The parentheses () define a capture group. This allows you to extract part of the string that matches this section.\n",
    "    - \\w+ matches one or more word characters (letters, digits, and underscores). This will capture a word that follows \"Action:\".\n",
    "- :: This is a literal colon that separates the word matched by (\\w+) from the rest of the string.\n",
    "- (.*): This is another capture group, where .* matches any character (.) zero or more times (*), which means it captures everything that comes after the second colon.\n",
    "#### What does it do?\n",
    "This regex is looking for a string that:\n",
    "\n",
    "- Starts with the text \"Action:\".\n",
    "- Has a word right after it, separated by a colon.\n",
    "- Then, after another colon, it captures everything that follows."
   ]
  },
  {
   "cell_type": "code",
   "execution_count": 14,
   "id": "3aed63b9",
   "metadata": {},
   "outputs": [],
   "source": [
    "import re\n",
    "action_re=re.compile('^Action: (\\w+): (.*)')"
   ]
  },
  {
   "cell_type": "code",
   "execution_count": 28,
   "id": "875a2228",
   "metadata": {},
   "outputs": [],
   "source": [
    "import httpx\n",
    "def wikipedia(query):\n",
    "    response=httpx.get(\"https://en.wikipedia.org/w/api.php\",params={\n",
    "        \"action\":\"query\",\n",
    "        \"list\":\"search\",\n",
    "        \"srsearch\":query,\n",
    "        \"format\":\"json\"\n",
    "    })\n",
    "    return response.json()[\"query\"]['search'][0][\"snippet\"]"
   ]
  },
  {
   "cell_type": "code",
   "execution_count": 30,
   "id": "0720becf",
   "metadata": {},
   "outputs": [],
   "source": [
    "import httpx\n",
    "def simon_blog_search(query):\n",
    "    response = httpx.get(\"https://datasette.simonwillison.net/simonwillisonblog.json\", params={\n",
    "        \"sql\": \"\"\"\n",
    "        select\n",
    "          blog_entry.title || ': ' || substr(html_strip_tags(blog_entry.body), 0, 1000) as text,\n",
    "          blog_entry.created\n",
    "        from\n",
    "          blog_entry join blog_entry_fts on blog_entry.rowid = blog_entry_fts.rowid\n",
    "        where\n",
    "          blog_entry_fts match escape_fts(:q)\n",
    "        order by\n",
    "          blog_entry_fts.rank\n",
    "        limit\n",
    "          1\n",
    "        \"\"\".strip(),\n",
    "        \"_shape\": \"array\",\n",
    "        \"q\": query,\n",
    "    })\n",
    "    return response.json()[0][\"text\"]"
   ]
  },
  {
   "cell_type": "code",
   "execution_count": 20,
   "id": "d6f451f6",
   "metadata": {},
   "outputs": [],
   "source": [
    "def calculate(number):\n",
    "    return eval(number)"
   ]
  },
  {
   "cell_type": "code",
   "execution_count": 32,
   "id": "d4feea6f",
   "metadata": {},
   "outputs": [],
   "source": [
    "known_actions={\n",
    "    \"wikipedia\":wikipedia,\n",
    "    \"calculate\":calculate,\n",
    "    \"simon_blog_search\":simon_blog_search,\n",
    "}"
   ]
  },
  {
   "cell_type": "code",
   "execution_count": 22,
   "id": "aa84582f",
   "metadata": {},
   "outputs": [],
   "source": [
    "def query(question,max_turns=5):\n",
    "    i=0\n",
    "    bot=Chatbot(prompt)\n",
    "    next_prompt=question\n",
    "    while i<max_turns:\n",
    "        pass"
   ]
  },
  {
   "cell_type": "code",
   "execution_count": 33,
   "id": "86cf66e5",
   "metadata": {},
   "outputs": [],
   "source": [
    "def query(question,max_turns=5):\n",
    "    i = 0\n",
    "    bot = Chatbot(prompt)\n",
    "    next_prompt = question\n",
    "    while i < max_turns:\n",
    "        i += 1\n",
    "        result = bot(next_prompt)\n",
    "        print(result)\n",
    "        actions = [action_re.match(a) for a in result.split('\\n') if action_re.match(a)]\n",
    "        if actions:\n",
    "            action, action_input = actions[0].groups()\n",
    "            if action not in known_actions:\n",
    "                raise Exception(f\"Unknown action: {action}: {action_input}\")\n",
    "            print(\" -- running {} {}\".format(action, action_input))\n",
    "            observation = known_actions[action](action_input)\n",
    "            print(\"Observation:\", observation)\n",
    "            next_prompt = f\"Observation: {observation}\"\n",
    "        else:\n",
    "            return result"
   ]
  },
  {
   "cell_type": "code",
   "execution_count": 34,
   "id": "bdcef87e",
   "metadata": {},
   "outputs": [
    {
     "name": "stdout",
     "output_type": "stream",
     "text": [
      "Thought: I need to find the capital of France.\n",
      "\n",
      "Action: wikipedia: France\n",
      "PAUSE \n",
      "\n",
      " -- running wikipedia France\n",
      "Observation: <span class=\"searchmatch\">France</span>, officially the <span class=\"searchmatch\">French</span> Republic, is a country located primarily in Western Europe. Its overseas regions and territories include <span class=\"searchmatch\">French</span> Guiana in\n",
      "Thought:  I need to find the capital city, it's mentioned somewhere in this text.\n",
      "\n",
      "Action: wikipedia: France \n",
      "PAUSE \n",
      "\n",
      " -- running wikipedia France \n",
      "Observation: <span class=\"searchmatch\">France</span>, officially the <span class=\"searchmatch\">French</span> Republic, is a country located primarily in Western Europe. Its overseas regions and territories include <span class=\"searchmatch\">French</span> Guiana in\n",
      "Thought:  Hmm, I'm not seeing the capital city in this snippet. I need to look for more information.\n",
      "\n",
      "Action: wikipedia: France \n",
      "PAUSE \n",
      "\n",
      " -- running wikipedia France \n",
      "Observation: <span class=\"searchmatch\">France</span>, officially the <span class=\"searchmatch\">French</span> Republic, is a country located primarily in Western Europe. Its overseas regions and territories include <span class=\"searchmatch\">French</span> Guiana in\n",
      "Thought:  It seems like the Wikipedia summary is cut off. I need to try a different approach.\n",
      "\n",
      "Action: wikipedia: Paris\n",
      "PAUSE \n",
      "\n",
      " -- running wikipedia Paris\n",
      "Observation: <span class=\"searchmatch\">Paris</span> (French pronunciation: [paʁi] ) is the capital and largest city of France. With an estimated population of 2,048,472 residents in January 2025 in\n",
      "Answer: The capital of France is Paris. \n",
      "\n"
     ]
    },
    {
     "data": {
      "text/plain": [
       "'Answer: The capital of France is Paris. \\n'"
      ]
     },
     "execution_count": 34,
     "metadata": {},
     "output_type": "execute_result"
    }
   ],
   "source": [
    "query(\"Capital of France\")"
   ]
  },
  {
   "cell_type": "code",
   "execution_count": 39,
   "id": "77264148",
   "metadata": {},
   "outputs": [
    {
     "name": "stdout",
     "output_type": "stream",
     "text": [
      "Thought: I need to search Simon's blog to see if he has written about AI.  \n",
      "Action: simon_blog_search: AI \n",
      "PAUSE  \n",
      "\n",
      " -- running simon_blog_search AI \n",
      "Observation: It's OK to call it Artificial Intelligence: Update 9th January 2024: This post was clumsily written and failed to make the point I wanted it to make. I've published a follow-up, What I should have said about the term Artificial Intelligence which you should read instead.\n",
      "My original post follows.\n",
      "\n",
      "\n",
      "We need to be having high quality conversations about AI: what it can and can't do, its many risks and pitfalls and how to integrate it into society in the most beneficial ways possible.\n",
      "Any time I write anything that mentions AI it's inevitable that someone will object to the very usage of the term.\n",
      "Strawman: \"Don't call it AI! It's not actually intelligent - it's just spicy autocomplete.\"\n",
      "That strawman is right: it's not \"intelligent\" in the same way that humans are. And \"spicy autocomplete\" is actually a pretty good analogy for how a lot of these things work. But I still don't think this argument is a helpful contribution to the discussion.\n",
      "We need an agreed term for this class of technology, in order to have conversations\n",
      "Thought: Simon has written about AI and provided a link to a follow-up post. \n",
      "\n",
      "Answer: Yes, Simon has written about AI and suggests reading a follow-up post for his more developed thoughts on the topic.  \n",
      "\n"
     ]
    },
    {
     "data": {
      "text/plain": [
       "'Thought: Simon has written about AI and provided a link to a follow-up post. \\n\\nAnswer: Yes, Simon has written about AI and suggests reading a follow-up post for his more developed thoughts on the topic.  \\n'"
      ]
     },
     "execution_count": 39,
     "metadata": {},
     "output_type": "execute_result"
    }
   ],
   "source": [
    "query(\"Is simons written about AI\")"
   ]
  },
  {
   "cell_type": "code",
   "execution_count": null,
   "id": "e5f82e60",
   "metadata": {},
   "outputs": [],
   "source": []
  }
 ],
 "metadata": {
  "kernelspec": {
   "display_name": ".venv",
   "language": "python",
   "name": "python3"
  },
  "language_info": {
   "codemirror_mode": {
    "name": "ipython",
    "version": 3
   },
   "file_extension": ".py",
   "mimetype": "text/x-python",
   "name": "python",
   "nbconvert_exporter": "python",
   "pygments_lexer": "ipython3",
   "version": "3.11.0"
  }
 },
 "nbformat": 4,
 "nbformat_minor": 5
}
