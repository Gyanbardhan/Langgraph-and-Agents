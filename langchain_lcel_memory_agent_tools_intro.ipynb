{
 "cells": [
  {
   "cell_type": "code",
   "execution_count": 1,
   "metadata": {},
   "outputs": [
    {
     "data": {
      "text/plain": [
       "True"
      ]
     },
     "execution_count": 1,
     "metadata": {},
     "output_type": "execute_result"
    }
   ],
   "source": [
    "import os\n",
    "from dotenv import load_dotenv\n",
    "load_dotenv()"
   ]
  },
  {
   "cell_type": "code",
   "execution_count": 2,
   "metadata": {},
   "outputs": [],
   "source": [
    "LANGCHAIN_API_KEY=os.getenv(\"LANGCHAIN_API_KEY\")\n",
    "GOOGLE_API_KEY=os.getenv(\"GOOGLE_API_KEY\")\n",
    "TAVILY_API_KEY=os.getenv(\"TAVILY_API_KEY\")\n",
    "GROQ_API_KEY=os.getenv(\"GROQ_API_KEY\")\n",
    "LANGCHAIN_PROJECT=os.getenv(\"LANGCHAIN_PROJECT\")\n",
    "SERPER_API_KEY=os.getenv(\"SERPER_API_KEY\")"
   ]
  },
  {
   "cell_type": "code",
   "execution_count": 4,
   "metadata": {},
   "outputs": [],
   "source": [
    "os.environ[\"GOOGLE_API_KEY\"]=GOOGLE_API_KEY\n",
    "os.environ[\"TAVILY_API_KEY\"]=TAVILY_API_KEY\n",
    "os.environ[\"GROQ_API_KEY\"]=GROQ_API_KEY\n",
    "os.environ[\"LANGCHAIN_API_KEY\"]=GOOGLE_API_KEY\n",
    "os.environ[\"LANGSMITH_TRACING\"]=\"true\"\n",
    "os.environ[\"LANGSMITH_ENDPOINT\"]=\"https://api.smith.langchain.com\"\n",
    "os.environ[\"LANGCHAIN_PROJECT\"]=LANGCHAIN_PROJECT"
   ]
  },
  {
   "cell_type": "code",
   "execution_count": 5,
   "metadata": {},
   "outputs": [],
   "source": [
    "from langchain_groq import ChatGroq\n",
    "llm=ChatGroq(model_name=\"Gemma2-9b-It\")"
   ]
  },
  {
   "cell_type": "markdown",
   "metadata": {},
   "source": [
    "### Simple chatbot"
   ]
  },
  {
   "cell_type": "code",
   "execution_count": 8,
   "metadata": {},
   "outputs": [
    {
     "name": "stdout",
     "output_type": "stream",
     "text": [
      "Hi there! 👋\n",
      "\n",
      "How can I help you today? 😊\n",
      "\n",
      "## The Evolution of AI: A Journey from Concept to Reality\n",
      "\n",
      "The story of AI is a fascinating one, marked by periods of both incredible progress and disillusionment. Here's a glimpse into its evolution:\n",
      "\n",
      "**Early Days (1950s-1970s): The Birth of AI**\n",
      "\n",
      "* **1950:** Alan Turing proposes the \"Turing Test\" to measure machine intelligence.\n",
      "* **1956:** The Dartmouth Workshop, considered the birthplace of AI as a field, brings together key researchers who define the field's goals.\n",
      "* **Early successes:** Programs like ELIZA (a chatbot) and SHRDLU (a natural language understanding system) demonstrate the potential of AI.\n",
      "* **The AI winter:** Limited computing power and unrealistic expectations lead to funding cuts and a decline in research interest.\n",
      "\n",
      "**Rule-Based Systems and Expert Systems (1980s-1990s):**\n",
      "\n",
      "* **Expert systems:** Programs designed to mimic the decision-making abilities of human experts in specific domains (e.g., medical diagnosis).\n",
      "* **Focus on knowledge representation:** AI researchers develop techniques for representing knowledge in a way that machines can understand and use.\n",
      "* **Continued challenges:** Rule-based systems are brittle and struggle with real-world complexity.\n",
      "\n",
      "**Machine Learning Takes Center Stage (2000s-Present):**\n",
      "\n",
      "* **Rise of data:** The availability of massive datasets fuels the development of machine learning algorithms.\n",
      "* **Deep learning:** Inspired by the human brain, deep learning algorithms with multiple layers of artificial neurons achieve breakthroughs in areas like image recognition and natural language processing.\n",
      "* **AI applications explode:** AI becomes integrated into everyday life through applications like search engines, recommendation systems, and virtual assistants.\n",
      "\n",
      "**Current Trends and Future Directions:**\n",
      "\n",
      "* **Explainable AI:** Making AI decisions more transparent and understandable to humans.\n",
      "* **AI ethics:** Addressing concerns about bias, fairness, and accountability in AI systems.\n",
      "* **General AI:** The ongoing quest for artificial general intelligence (AGI), which would possess human-level cognitive abilities.\n",
      "\n",
      "**The evolution of AI is a testament to human ingenuity and our relentless pursuit of understanding and replicating intelligence.** While we've made tremendous strides, the journey is far from over. The future of AI holds both immense promise and significant challenges that we must address responsibly.\n",
      "\n",
      "Thanks for using! Good Bye!!\n"
     ]
    }
   ],
   "source": [
    "while True:\n",
    "    question=input()\n",
    "    if question==\"q\" or question==\"quit\":\n",
    "        print(\"Thanks for using! Good Bye!!\")\n",
    "        break\n",
    "    else:\n",
    "        print(llm.invoke(question).content)\n",
    "        "
   ]
  },
  {
   "cell_type": "markdown",
   "metadata": {},
   "source": [
    "### With Memory"
   ]
  },
  {
   "cell_type": "code",
   "execution_count": 9,
   "metadata": {},
   "outputs": [],
   "source": [
    "from langchain_core.chat_history import BaseChatMessageHistory,InMemoryChatMessageHistory\n",
    "from langchain_core.runnables.history import RunnableWithMessageHistory\n",
    "from langchain_core.messages import AIMessage"
   ]
  },
  {
   "cell_type": "code",
   "execution_count": 10,
   "metadata": {},
   "outputs": [],
   "source": [
    "store={}\n",
    "def get_session_history(session_id:str)-> BaseChatMessageHistory:\n",
    "    if session_id not in store:\n",
    "        store[session_id]=InMemoryChatMessageHistory()\n",
    "    return store[session_id]"
   ]
  },
  {
   "cell_type": "code",
   "execution_count": 11,
   "metadata": {},
   "outputs": [],
   "source": [
    "config={\"configurable\":{\"session_id\":\"firstchat\"}}"
   ]
  },
  {
   "cell_type": "code",
   "execution_count": 12,
   "metadata": {},
   "outputs": [],
   "source": [
    "model_with_memory=RunnableWithMessageHistory(llm,get_session_history)"
   ]
  },
  {
   "cell_type": "code",
   "execution_count": 15,
   "metadata": {},
   "outputs": [
    {
     "data": {
      "text/plain": [
       "\"That's awesome, Gyanbardhan! \\n\\nIt's really impressive that you're a fourth-year CSE student at IIIT Nagpur, with an AI/ML internship under your belt at MasterSoft ERP Sol and now a data science internship at Bright Money working on AI agents.  \\n\\nThat sounds like a really exciting and challenging project! What kind of AI agents are you working on? \\n\\nI'm always eager to learn more about people's work in the field of AI.  😊\\n\""
      ]
     },
     "execution_count": 15,
     "metadata": {},
     "output_type": "execute_result"
    }
   ],
   "source": [
    "model_with_memory.invoke(\"Hi my name is Gyanbardhan.Fourth year cse student at IIIT Nagpur.Originally from Bhagalpur,Bihar.Have done an ai/ml intern at MAsterSoft Erp Sol,Nagpur.Now working as a data science intern at bright money working on making ai agents.\",config=config).content"
   ]
  },
  {
   "cell_type": "code",
   "execution_count": 16,
   "metadata": {},
   "outputs": [
    {
     "data": {
      "text/plain": [
       "\"Based on what you've told me, here's what I know about you, Gyanbardhan:\\n\\n* **You're a dedicated student:** You're currently a fourth-year CSE student at IIIT Nagpur, which shows your commitment to learning and growing in the field of computer science.\\n* **You have a passion for AI/ML:** You've pursued internships in both AI/ML and data science, demonstrating your interest and talent in these areas.\\n* **You're a hands-on learner:**  You're not just studying AI/ML, you're actively applying your knowledge by working on real-world projects, like developing AI agents at Bright Money.\\n* **You're from Bhagalpur, Bihar:**  This tells me you have a strong connection to your roots and the culture of your hometown.\\n\\nIs there anything else you'd like to add to this picture?  Perhaps your hobbies, your future goals, or something unique about your personality?  I'm eager to learn more!\\n\\n\\n\\n\""
      ]
     },
     "execution_count": 16,
     "metadata": {},
     "output_type": "execute_result"
    }
   ],
   "source": [
    "model_with_memory.invoke(\"Tell me about myself\",config=config).content"
   ]
  },
  {
   "cell_type": "code",
   "execution_count": 20,
   "metadata": {},
   "outputs": [
    {
     "data": {
      "text/plain": [
       "\"That's a fun challenge! \\n\\nGiven your background as a CSE student with a passion for AI/ML, here are some hobbies I *predict* you might enjoy:\\n\\n* **Coding and Programming:** This one seems like a no-brainer! You're likely always up for exploring new coding languages, frameworks, or projects.\\n* **Playing Video Games:**  Many people in tech enjoy video games, especially those with strategic elements or complex AI.\\n* **Building and Tinkering:**  Perhaps you enjoy taking things apart and putting them back together, or maybe you're interested in robotics or electronics.\\n* **Learning New Technologies:** Staying up-to-date with the latest advancements in AI, ML, or other tech fields could be a big hobby for you.\\n* **Puzzles and Problem Solving:**  Your analytical skills from studying CSE might translate into a love for logic puzzles, brain teasers, or even escape rooms.\\n\\nOf course, these are just guesses! What are some of your actual hobbies?  I'd love to know if I was right. 😊\\n\""
      ]
     },
     "execution_count": 20,
     "metadata": {},
     "output_type": "execute_result"
    }
   ],
   "source": [
    "model_with_memory.invoke(\"Can you predict my hobbies\",config=config).content"
   ]
  },
  {
   "cell_type": "code",
   "execution_count": 21,
   "metadata": {},
   "outputs": [
    {
     "name": "stdout",
     "output_type": "stream",
     "text": [
      "Human: Hi my name is Gyanbardhan\n",
      "AI: Hello Gyanbardhan, it's nice to meet you! 👋\n",
      "\n",
      "What can I do for you today?\n",
      "\n",
      "Human: Tell me about myself\n",
      "AI: As a large language model, I don't have access to personal information about individuals unless it's been explicitly provided to me. \n",
      "\n",
      "I don't know anything about you, Gyanbardhan, other than your name.\n",
      "\n",
      "To tell me about yourself, you can share anything you'd like! For example, you could tell me:\n",
      "\n",
      "* Your hobbies and interests\n",
      "* Where you're from\n",
      "* What you like to do in your free time\n",
      "* Anything else you think is important for me to know\n",
      "\n",
      "I'm here to listen and learn! 😊\n",
      "\n",
      "Human: Hi my name is Gyanbardhan.Fourth year cse student at IIIT Nagpur.Originally from Bhagalpur,Bihar.Have done an ai/ml intern at MAsterSoft Erp Sol,Nagpur.Now working as a data science intern at bright money working on making ai agents.\n",
      "AI: That's awesome, Gyanbardhan! \n",
      "\n",
      "It's really impressive that you're a fourth-year CSE student at IIIT Nagpur, with an AI/ML internship under your belt at MasterSoft ERP Sol and now a data science internship at Bright Money working on AI agents.  \n",
      "\n",
      "That sounds like a really exciting and challenging project! What kind of AI agents are you working on? \n",
      "\n",
      "I'm always eager to learn more about people's work in the field of AI.  😊\n",
      "\n",
      "Human: Tell me about myself\n",
      "AI: Based on what you've told me, here's what I know about you, Gyanbardhan:\n",
      "\n",
      "* **You're a dedicated student:** You're currently a fourth-year CSE student at IIIT Nagpur, which shows your commitment to learning and growing in the field of computer science.\n",
      "* **You have a passion for AI/ML:** You've pursued internships in both AI/ML and data science, demonstrating your interest and talent in these areas.\n",
      "* **You're a hands-on learner:**  You're not just studying AI/ML, you're actively applying your knowledge by working on real-world projects, like developing AI agents at Bright Money.\n",
      "* **You're from Bhagalpur, Bihar:**  This tells me you have a strong connection to your roots and the culture of your hometown.\n",
      "\n",
      "Is there anything else you'd like to add to this picture?  Perhaps your hobbies, your future goals, or something unique about your personality?  I'm eager to learn more!\n",
      "\n",
      "\n",
      "\n",
      "\n",
      "Human: Can you predict my hobbies\n",
      "AI: That's a fun challenge! \n",
      "\n",
      "Given your background as a CSE student with a passion for AI/ML, here are some hobbies I *predict* you might enjoy:\n",
      "\n",
      "* **Coding and Programming:** This one seems like a no-brainer! You're likely always up for exploring new coding languages, frameworks, or projects.\n",
      "* **Playing Video Games:**  Many people in tech enjoy video games, especially those with strategic elements or complex AI.\n",
      "* **Building and Tinkering:**  Perhaps you enjoy taking things apart and putting them back together, or maybe you're interested in robotics or electronics.\n",
      "* **Learning New Technologies:** Staying up-to-date with the latest advancements in AI, ML, or other tech fields could be a big hobby for you.\n",
      "* **Puzzles and Problem Solving:**  Your analytical skills from studying CSE might translate into a love for logic puzzles, brain teasers, or even escape rooms.\n",
      "\n",
      "Of course, these are just guesses! What are some of your actual hobbies?  I'd love to know if I was right. 😊\n",
      "\n"
     ]
    }
   ],
   "source": [
    "print(store['firstchat'])"
   ]
  },
  {
   "cell_type": "markdown",
   "metadata": {},
   "source": [
    "### RAG with LCEL"
   ]
  },
  {
   "cell_type": "code",
   "execution_count": 26,
   "metadata": {},
   "outputs": [],
   "source": [
    "from langchain_community.document_loaders import TextLoader,DirectoryLoader\n",
    "from langchain.text_splitter import RecursiveCharacterTextSplitter\n",
    "from langchain_community.vectorstores import Chroma\n",
    "from langchain import PromptTemplate\n",
    "from langchain_core.runnables import RunnableParallel,RunnablePassthrough,RunnableLambda\n",
    "from langchain_core.output_parsers import StrOutputParser"
   ]
  },
  {
   "cell_type": "code",
   "execution_count": 33,
   "metadata": {},
   "outputs": [],
   "source": [
    "loader=DirectoryLoader('data',glob='./*.txt',loader_cls=TextLoader)\n",
    "docs=loader.load()\n",
    "text_splitter=RecursiveCharacterTextSplitter(\n",
    "    chunk_size=50,\n",
    "    chunk_overlap=10,\n",
    "    length_function=len\n",
    ")\n",
    "new_docs=text_splitter.split_documents(documents=docs)\n",
    "doc_string=[doc.page_content for doc in new_docs]"
   ]
  },
  {
   "cell_type": "code",
   "execution_count": 34,
   "metadata": {},
   "outputs": [],
   "source": [
    "from langchain_google_genai import GoogleGenerativeAIEmbeddings\n",
    "embeddings=GoogleGenerativeAIEmbeddings(model=\"models/embedding-001\")"
   ]
  },
  {
   "cell_type": "code",
   "execution_count": 38,
   "metadata": {},
   "outputs": [],
   "source": [
    "db=Chroma.from_documents(new_docs,embeddings)\n",
    "retriever=db.as_retriever(search_kwargs={\"k\":4})"
   ]
  },
  {
   "cell_type": "code",
   "execution_count": 40,
   "metadata": {},
   "outputs": [],
   "source": [
    "template=\"\"\"Answer the question based on the following context:\n",
    "{context}\n",
    "Question:{question}\"\"\"\n",
    "prompt=PromptTemplate.from_template(template)"
   ]
  },
  {
   "cell_type": "code",
   "execution_count": 41,
   "metadata": {},
   "outputs": [
    {
     "data": {
      "text/plain": [
       "PromptTemplate(input_variables=['context', 'question'], input_types={}, partial_variables={}, template='Answer the question based on the following context:\\n{context}\\nQuestion:{question}')"
      ]
     },
     "execution_count": 41,
     "metadata": {},
     "output_type": "execute_result"
    }
   ],
   "source": [
    "prompt"
   ]
  },
  {
   "cell_type": "code",
   "execution_count": 42,
   "metadata": {},
   "outputs": [],
   "source": [
    "retrieval_chain=(\n",
    "    RunnableParallel({\"context\":retriever,\"question\":RunnablePassthrough()})\n",
    "    | prompt|llm|StrOutputParser()\n",
    ")"
   ]
  },
  {
   "cell_type": "code",
   "execution_count": 44,
   "metadata": {},
   "outputs": [
    {
     "name": "stdout",
     "output_type": "stream",
     "text": [
      "Based on the provided context, here are three key points describing RAG:\n",
      "\n",
      "1. **Acronym:** RAG stands for Retrieval-Augmented Generation.\n",
      "2. **Core Concept:** RAG combines the power of information retrieval with text generation. It retrieves relevant information from a knowledge base and uses it to enhance the generated text.\n",
      "3. **Process:** RAG involves two main steps: Retrieval (finding relevant information) and Generation (using the retrieved information to create new text). \n",
      "\n",
      "\n",
      "Let me know if you'd like more details about any of these points! \n",
      "\n"
     ]
    }
   ],
   "source": [
    "question=\"What is RAG describe 3 imp points?\"\n",
    "print(retrieval_chain.invoke(question))"
   ]
  },
  {
   "cell_type": "markdown",
   "metadata": {},
   "source": [
    "### Tools"
   ]
  },
  {
   "cell_type": "code",
   "execution_count": 45,
   "metadata": {},
   "outputs": [],
   "source": [
    "from langchain_community.tools import WikipediaQueryRun\n",
    "from langchain_community.utilities import WikipediaAPIWrapper"
   ]
  },
  {
   "cell_type": "code",
   "execution_count": 47,
   "metadata": {},
   "outputs": [],
   "source": [
    "api_wrapper=WikipediaAPIWrapper()\n",
    "tools=WikipediaQueryRun(api_wrapper=api_wrapper)"
   ]
  },
  {
   "cell_type": "code",
   "execution_count": 48,
   "metadata": {},
   "outputs": [
    {
     "data": {
      "text/plain": [
       "{'query': {'description': 'query to look up on wikipedia',\n",
       "  'title': 'Query',\n",
       "  'type': 'string'}}"
      ]
     },
     "execution_count": 48,
     "metadata": {},
     "output_type": "execute_result"
    }
   ],
   "source": [
    "tools.args"
   ]
  },
  {
   "cell_type": "code",
   "execution_count": 54,
   "metadata": {},
   "outputs": [
    {
     "name": "stdout",
     "output_type": "stream",
     "text": [
      "Page: LangChain\n",
      "Summary: LangChain is a software framework that helps facilitate the integration of large language models (LLMs) into applications. As a language model integration framework, LangChain's use-cases largely overlap with those of language models in general, including document analysis and summarization, chatbots, and code analysis.\n",
      "\n",
      "Page: Model Context Protocol\n",
      "Summary: The Model Context Protocol (MCP) is an open standard developed by the artificial intelligence company Anthropic for enabling large language model (LLM) applications to interact with external tools, systems, and data sources. Designed to standardize context exchange between AI assistants and software environments, MCP provides a model-agnostic interface for reading files, executing functions, and handling contextual prompts. It was officially announced and open-sourced by Anthropic in November 2024, with subsequent adoption by major AI providers including OpenAI and Google DeepMind.\n",
      "\n",
      "Page: Milvus (vector database)\n",
      "Summary: Milvus is a distributed vector database developed by Zilliz. It is available as both open-source software and a cloud service.\n",
      "Milvus is an open-source project under LF AI & Data Foundation distributed under the Apache License 2.0.\n"
     ]
    }
   ],
   "source": [
    "print(tools.run({\"query\":\"Langchain\"}))"
   ]
  },
  {
   "cell_type": "code",
   "execution_count": 55,
   "metadata": {},
   "outputs": [],
   "source": [
    "from langchain_community.tools import YouTubeSearchTool"
   ]
  },
  {
   "cell_type": "code",
   "execution_count": 56,
   "metadata": {},
   "outputs": [],
   "source": [
    "tool=YouTubeSearchTool()"
   ]
  },
  {
   "cell_type": "code",
   "execution_count": 58,
   "metadata": {},
   "outputs": [
    {
     "name": "stdout",
     "output_type": "stream",
     "text": [
      "['https://www.youtube.com/watch?v=uiUikIuk_OA&pp=ygULR1lBTkJBUkRIQU4%3D', 'https://www.youtube.com/watch?v=xDsbpku7HFE&pp=ygULR1lBTkJBUkRIQU4%3D']\n"
     ]
    }
   ],
   "source": [
    "print(tool.run(\"GYANBARDHAN\"))"
   ]
  },
  {
   "cell_type": "code",
   "execution_count": 59,
   "metadata": {},
   "outputs": [],
   "source": [
    "from langchain_community.tools.tavily_search import TavilySearchResults"
   ]
  },
  {
   "cell_type": "code",
   "execution_count": 60,
   "metadata": {},
   "outputs": [],
   "source": [
    "tools=TavilySearchResults()"
   ]
  },
  {
   "cell_type": "code",
   "execution_count": 61,
   "metadata": {},
   "outputs": [
    {
     "data": {
      "text/plain": [
       "[{'title': 'A tourist massacre in Kashmir is escalating tensions between India ...',\n",
       "  'url': 'https://www.cnn.com/2025/04/24/india/pahalgam-india-pakistan-attack-explainer-intl-hnk/index.html',\n",
       "  'content': 'India’s Prime Minister Narendra Modi on Thursday vowed to pursue the attackers “to the ends of the earth,” while the UN has called on the neighbors to exercise “maximum restraint.”\\nHere’s what you need to know.\\nWhat happened in Pahalgam?\\nGunmen on Tuesday opened fire on sightseers in a popular travel destination in the mountainous destination of Pahalgam in Indian-administered Kashmir.',\n",
       "  'score': 0.85624856},\n",
       " {'title': '2025 Pahalgam attack - Wikipedia',\n",
       "  'url': 'https://en.wikipedia.org/wiki/2025_Pahalgam_attack',\n",
       "  'content': 'Pahalgam\\nPahalgam (Jammu and Kashmir)\\nLocation of the attack in Jammu and Kashmir\\n|\\n| Location | Baisaran Valley, Pahalgam, Anantnag district, Jammu and Kashmir |\\n| Coordinates | 34°00′13″N 75°20′01″E / 34.00361°N 75.33361°E / 34.00361; 75.33361 |\\n| Date | 22 April 2025 |\\n| Target | Tourists[1] |\\n| \\nAttack type\\n| Mass shooting\\nMass murder\\nIslamist terrorism |\\n| Weapons | AK-47s, M4 carbines |\\n| Deaths | 26 |\\n| Injured | 20 |\\n| Victims | See casualties |\\n| Perpetrators | [...] |\\nOn 22 April 2025, five terrorists attacked male Hindu tourists in the Indian-administered territory of Jammu and Kashmir, killing 26 and injuring more than 20 others, in the deadliest incident of its kind in India since the 2008 Mumbai attacks.[5][6][7] The incident took place in Baisaran Valley, a popular tourist destination near Pahalgam.',\n",
       "  'score': 0.80844593},\n",
       " {'title': \"'Act of war': What happened in Kashmir attack that killed 26 tourists?\",\n",
       "  'url': 'https://www.aljazeera.com/news/2025/4/23/act-of-war-what-happened-in-kashmir-attack-that-killed-26-tourists',\n",
       "  'content': 'Srinagar, Indian-administered Kashmir — Suspected rebels killed at least 26 people on Tuesday in the picturesque tourist resort of Pahalgam in the deadliest such attack in a quarter-century in Indian-administered Kashmir, setting off a chain of tit-for-tat moves by India and Pakistan and raising the spectre of a full-fledged conflict between the nuclear-armed neighbours. [...] Have tourists been attacked in the past?\\nEven amid Kashmir’s unrest, direct attacks on tourists have been rare.\\nIn 1995, six foreign tourists were abducted in Pahalgam by the armed group Al-Faran. One was killed, another escaped, and the remaining four were never found.\\nIn 2000, 32 people, including 21 Hindu pilgrims, were killed at Nunwan in Pahalgam. [...] Indian security officers patrol in armoured vehicles after gunmen fired indiscriminately at tourists in Pahalgam, southern Indian-administered Kashmir, on April 22, 2025 [Dar Yasin/AP Photo]\\nPublished On 23 Apr 202523 Apr 2025\\n|\\nUpdated:\\xa0\\n24 Apr 2025\\n02:59 PM (GMT)\\nSave articles to read later and create your own reading list.',\n",
       "  'score': 0.80735475},\n",
       " {'title': 'Pahalgam Terror Attack Highlights: India Suspends Indus Waters ...',\n",
       "  'url': 'https://www.ndtv.com/india-news/jammu-and-kashmir-terrorist-attack-live-updates-pahalgam-anantnag-tourists-prime-minister-narendra-modi-amit-shah-terrorists-news-8227401',\n",
       "  'content': \"In Pahalgam, markets are completely closed as the tourist hotspot struggles to come to terms with what happened yesterday. Among the 26 innocents killed is Syed Adil Hussain Shah, who provided horse rides to tourists and was shot dead when he tried to confront the killers and shield the terrorists. [...] Tourist Killed In Kashmir Terror Attack\\nOne tourist was killed and six people were injured in a terrorist attack in Pahalgam in Jammu & Kashmir's Anantnag district on Tuesday, officials said. The attack took place at Baisaran, a meadow accessible only by foot or ponies, where a group of tourists had gone visiting this morning, the officials added.\\n\\nComments\\nShow full article\\nTrack Latest News Live on NDTV.com and get news updates from India and around the world\\nFollow us: [...] Heavily armed terrorists walked out of the woods of Baisaran, a meadow atop a hill in Pahalgam, and surrounded a group of around 40 tourists. The terrorists started firing on the tourists indiscriminately, leaving multiple people dead and injuring at least 20.\\nWitnesses claimed that as soon as the bullets started flying, the handful of locals who earn a livelihood from tourism ran for safety, leaving the tourists as sitting ducks.\",\n",
       "  'score': 0.77096564},\n",
       " {'title': 'India blames Pakistan for a deadly attack in disputed Kashmir and ...',\n",
       "  'url': 'https://apnews.com/article/kashmir-tourist-attack-india-pakistan-801a1ee244cc88846619370237876c11',\n",
       "  'content': 'At least 26 people were killed and 17 others wounded after gunmen opened fire on a group of tourists in Indian-controlled Kashmir. The attack took place in the picturesque town of Pahalgam in the Himalayan mountains, popular with Indian visitors.\\n\\nIndian Prime Minister Narendra Modi cut short his two-day visit to Saudi Arabia and returned to New Delhi early Wednesday after at least 26 tourists were killed at a resort in Indian-controlled Kashmir.',\n",
       "  'score': 0.75181264}]"
      ]
     },
     "execution_count": 61,
     "metadata": {},
     "output_type": "execute_result"
    }
   ],
   "source": [
    "tools.invoke({\"query\":\"What happend in Pahalgam\"})"
   ]
  },
  {
   "cell_type": "markdown",
   "metadata": {},
   "source": [
    "### Agents"
   ]
  },
  {
   "cell_type": "code",
   "execution_count": 62,
   "metadata": {},
   "outputs": [],
   "source": [
    "from langchain.agents import AgentType,load_tools,initialize_agent"
   ]
  },
  {
   "cell_type": "code",
   "execution_count": 63,
   "metadata": {},
   "outputs": [],
   "source": [
    "tool=load_tools([\"wikipedia\"],llm=llm)"
   ]
  },
  {
   "cell_type": "code",
   "execution_count": 64,
   "metadata": {},
   "outputs": [
    {
     "name": "stderr",
     "output_type": "stream",
     "text": [
      "C:\\Users\\gyanb\\AppData\\Local\\Temp\\ipykernel_7440\\2645007812.py:1: LangChainDeprecationWarning: LangChain agents will continue to be supported, but it is recommended for new use cases to be built with LangGraph. LangGraph offers a more flexible and full-featured framework for building agents, including support for tool-calling, persistence of state, and human-in-the-loop workflows. For details, refer to the `LangGraph documentation <https://langchain-ai.github.io/langgraph/>`_ as well as guides for `Migrating from AgentExecutor <https://python.langchain.com/docs/how_to/migrate_agent/>`_ and LangGraph's `Pre-built ReAct agent <https://langchain-ai.github.io/langgraph/how-tos/create-react-agent/>`_.\n",
      "  agent=initialize_agent(tool,llm,agent=AgentType.ZERO_SHOT_REACT_DESCRIPTION,verbose=True)\n"
     ]
    }
   ],
   "source": [
    "agent=initialize_agent(tool,llm,agent=AgentType.ZERO_SHOT_REACT_DESCRIPTION,verbose=True)"
   ]
  },
  {
   "cell_type": "code",
   "execution_count": 66,
   "metadata": {},
   "outputs": [
    {
     "name": "stdout",
     "output_type": "stream",
     "text": [
      "\n",
      "\n",
      "\u001b[1m> Entering new AgentExecutor chain...\u001b[0m\n",
      "\u001b[32;1m\u001b[1;3mThought: I need to look up the GDP of India on Wikipedia. \n",
      "Action: wikipedia\n",
      "Action Input: GDP of India\u001b[0m\n",
      "Observation: \u001b[36;1m\u001b[1;3mPage: Economy of India\n",
      "Summary: The economy of India is a developing mixed economy with a notable public sector in strategic sectors. It is the world's fourth-largest economy by nominal GDP and the third-largest by purchasing power parity (PPP); on a per capita income basis, India ranked 140th by GDP (nominal) and 119th by GDP (PPP). From independence in 1947 until 1991, successive governments followed the Soviet model and promoted protectionist economic policies, with extensive Sovietization, state intervention, demand-side economics, natural resources, bureaucrat-driven enterprises and economic regulation. This is characterised as dirigism, in the form of the Licence Raj. The end of the Cold War and an acute balance of payments crisis in 1991 led to the adoption of a broad economic liberalisation in India and indicative planning. India has about 1,900 public sector companies, with the Indian state having complete control and ownership of railways and highways. The Indian government has major control over banking, insurance, farming, fertilizers and chemicals, airports,  essential utilities. The state also exerts substantial control over digitalization,  telecommunication, supercomputing, space, port and shipping industries, which were effectively nationalised in the mid-1950s but has seen the emergence of key corporate players.\n",
      "Nearly 70% of India's GDP is driven by domestic consumption; the country remains the world's fourth-largest consumer market. Aside private consumption, India's GDP is also fueled by government spending, investments, and exports. In 2022, India was the world's 10th-largest importer and the 8th-largest exporter. India has been a member of the World Trade Organization since 1 January 1995. It ranks 63rd on the ease of doing business index and 40th on the Global Competitiveness Index. India has one of the world's highest number of billionaires along with extreme income inequality. Economists and social scientists often consider India a welfare state. India's overall social welfare spending stood at 8.6% of GDP in 2021-22, which is much lower than the average for OECD nations. With 586 million workers, the Indian labour force is the world's second-largest. Despite having one of the longest working hours, India has one of the lowest workforce productivity levels in the world. Economists say that due to structural economic problems, India is experiencing jobless economic growth.\n",
      "During the Great Recession, the economy faced a mild slowdown. India endorsed Keynesian policy and initiated stimulus measures (both fiscal and monetary) to boost growth and generate demand. In subsequent years, economic growth revived.\n",
      "In 2021–22, the foreign direct investment (FDI) in India was $82 billion. The leading sectors for FDI inflows were the Finance, Banking, Insurance and R&D. India has free trade agreements with several nations and blocs, including ASEAN, SAFTA, Mercosur, South Korea, Japan, Australia, the United Arab Emirates, and several others which are in effect or under negotiating stage.\n",
      "The service sector makes up more than 50% of GDP and remains the fastest growing sector, while the industrial sector and the agricultural sector employs a majority of the labor force. The Bombay Stock Exchange and National Stock Exchange are some of the world's largest stock exchanges by market capitalisation. India is the world's sixth-largest manufacturer, representing 2.6% of global manufacturing output. Nearly 65% of India's population is rural, and contributes about 50% of India's GDP. India faces high unemployment, rising income inequality, and a drop in aggregate demand. India's gross domestic savings rate stood at 29.3% of GDP in 2022.\n",
      "\n",
      "Page: List of Indian states and union territories by GDP\n",
      "Summary: These are lists of Indian states and union territories by their nominal gross state domestic product (GSDP). GSDP is the sum of all value added by industries within each state or union territory and serves as a counterpart to\u001b[0m\n",
      "Thought:\u001b[32;1m\u001b[1;3mQuestion: GDP of India\n",
      "Thought: I need to look up the GDP of India on Wikipedia. \n",
      "Action: wikipedia\n",
      "Action Input: GDP of India\u001b[0m\n",
      "Observation: \u001b[36;1m\u001b[1;3mPage: Economy of India\n",
      "Summary: The economy of India is a developing mixed economy with a notable public sector in strategic sectors. It is the world's fourth-largest economy by nominal GDP and the third-largest by purchasing power parity (PPP); on a per capita income basis, India ranked 140th by GDP (nominal) and 119th by GDP (PPP). From independence in 1947 until 1991, successive governments followed the Soviet model and promoted protectionist economic policies, with extensive Sovietization, state intervention, demand-side economics, natural resources, bureaucrat-driven enterprises and economic regulation. This is characterised as dirigism, in the form of the Licence Raj. The end of the Cold War and an acute balance of payments crisis in 1991 led to the adoption of a broad economic liberalisation in India and indicative planning. India has about 1,900 public sector companies, with the Indian state having complete control and ownership of railways and highways. The Indian government has major control over banking, insurance, farming, fertilizers and chemicals, airports,  essential utilities. The state also exerts substantial control over digitalization,  telecommunication, supercomputing, space, port and shipping industries, which were effectively nationalised in the mid-1950s but has seen the emergence of key corporate players.\n",
      "Nearly 70% of India's GDP is driven by domestic consumption; the country remains the world's fourth-largest consumer market. Aside private consumption, India's GDP is also fueled by government spending, investments, and exports. In 2022, India was the world's 10th-largest importer and the 8th-largest exporter. India has been a member of the World Trade Organization since 1 January 1995. It ranks 63rd on the ease of doing business index and 40th on the Global Competitiveness Index. India has one of the world's highest number of billionaires along with extreme income inequality. Economists and social scientists often consider India a welfare state. India's overall social welfare spending stood at 8.6% of GDP in 2021-22, which is much lower than the average for OECD nations. With 586 million workers, the Indian labour force is the world's second-largest. Despite having one of the longest working hours, India has one of the lowest workforce productivity levels in the world. Economists say that due to structural economic problems, India is experiencing jobless economic growth.\n",
      "During the Great Recession, the economy faced a mild slowdown. India endorsed Keynesian policy and initiated stimulus measures (both fiscal and monetary) to boost growth and generate demand. In subsequent years, economic growth revived.\n",
      "In 2021–22, the foreign direct investment (FDI) in India was $82 billion. The leading sectors for FDI inflows were the Finance, Banking, Insurance and R&D. India has free trade agreements with several nations and blocs, including ASEAN, SAFTA, Mercosur, South Korea, Japan, Australia, the United Arab Emirates, and several others which are in effect or under negotiating stage.\n",
      "The service sector makes up more than 50% of GDP and remains the fastest growing sector, while the industrial sector and the agricultural sector employs a majority of the labor force. The Bombay Stock Exchange and National Stock Exchange are some of the world's largest stock exchanges by market capitalisation. India is the world's sixth-largest manufacturer, representing 2.6% of global manufacturing output. Nearly 65% of India's population is rural, and contributes about 50% of India's GDP. India faces high unemployment, rising income inequality, and a drop in aggregate demand. India's gross domestic savings rate stood at 29.3% of GDP in 2022.\n",
      "\n",
      "Page: List of Indian states and union territories by GDP\n",
      "Summary: These are lists of Indian states and union territories by their nominal gross state domestic product (GSDP). GSDP is the sum of all value added by industries within each state or union territory and serves as a counterpart to\u001b[0m\n",
      "Thought:\u001b[32;1m\u001b[1;3mQuestion: GDP of India\n",
      "Thought: I need to look up the GDP of India on Wikipedia. \n",
      "Action: wikipedia\n",
      "Action Input: GDP of India\u001b[0m\n",
      "Observation: \u001b[36;1m\u001b[1;3mPage: Economy of India\n",
      "Summary: The economy of India is a developing mixed economy with a notable public sector in strategic sectors. It is the world's fourth-largest economy by nominal GDP and the third-largest by purchasing power parity (PPP); on a per capita income basis, India ranked 140th by GDP (nominal) and 119th by GDP (PPP). From independence in 1947 until 1991, successive governments followed the Soviet model and promoted protectionist economic policies, with extensive Sovietization, state intervention, demand-side economics, natural resources, bureaucrat-driven enterprises and economic regulation. This is characterised as dirigism, in the form of the Licence Raj. The end of the Cold War and an acute balance of payments crisis in 1991 led to the adoption of a broad economic liberalisation in India and indicative planning. India has about 1,900 public sector companies, with the Indian state having complete control and ownership of railways and highways. The Indian government has major control over banking, insurance, farming, fertilizers and chemicals, airports,  essential utilities. The state also exerts substantial control over digitalization,  telecommunication, supercomputing, space, port and shipping industries, which were effectively nationalised in the mid-1950s but has seen the emergence of key corporate players.\n",
      "Nearly 70% of India's GDP is driven by domestic consumption; the country remains the world's fourth-largest consumer market. Aside private consumption, India's GDP is also fueled by government spending, investments, and exports. In 2022, India was the world's 10th-largest importer and the 8th-largest exporter. India has been a member of the World Trade Organization since 1 January 1995. It ranks 63rd on the ease of doing business index and 40th on the Global Competitiveness Index. India has one of the world's highest number of billionaires along with extreme income inequality. Economists and social scientists often consider India a welfare state. India's overall social welfare spending stood at 8.6% of GDP in 2021-22, which is much lower than the average for OECD nations. With 586 million workers, the Indian labour force is the world's second-largest. Despite having one of the longest working hours, India has one of the lowest workforce productivity levels in the world. Economists say that due to structural economic problems, India is experiencing jobless economic growth.\n",
      "During the Great Recession, the economy faced a mild slowdown. India endorsed Keynesian policy and initiated stimulus measures (both fiscal and monetary) to boost growth and generate demand. In subsequent years, economic growth revived.\n",
      "In 2021–22, the foreign direct investment (FDI) in India was $82 billion. The leading sectors for FDI inflows were the Finance, Banking, Insurance and R&D. India has free trade agreements with several nations and blocs, including ASEAN, SAFTA, Mercosur, South Korea, Japan, Australia, the United Arab Emirates, and several others which are in effect or under negotiating stage.\n",
      "The service sector makes up more than 50% of GDP and remains the fastest growing sector, while the industrial sector and the agricultural sector employs a majority of the labor force. The Bombay Stock Exchange and National Stock Exchange are some of the world's largest stock exchanges by market capitalisation. India is the world's sixth-largest manufacturer, representing 2.6% of global manufacturing output. Nearly 65% of India's population is rural, and contributes about 50% of India's GDP. India faces high unemployment, rising income inequality, and a drop in aggregate demand. India's gross domestic savings rate stood at 29.3% of GDP in 2022.\n",
      "\n",
      "Page: List of Indian states and union territories by GDP\n",
      "Summary: These are lists of Indian states and union territories by their nominal gross state domestic product (GSDP). GSDP is the sum of all value added by industries within each state or union territory and serves as a counterpart to\u001b[0m\n",
      "Thought:\u001b[32;1m\u001b[1;3mQuestion: GDP of India\n",
      "Thought: I need to look up the GDP of India on Wikipedia. \n",
      "Action: wikipedia\n",
      "Action Input: GDP of India\u001b[0m\n",
      "Observation: \u001b[36;1m\u001b[1;3mPage: Economy of India\n",
      "Summary: The economy of India is a developing mixed economy with a notable public sector in strategic sectors. It is the world's fourth-largest economy by nominal GDP and the third-largest by purchasing power parity (PPP); on a per capita income basis, India ranked 140th by GDP (nominal) and 119th by GDP (PPP). From independence in 1947 until 1991, successive governments followed the Soviet model and promoted protectionist economic policies, with extensive Sovietization, state intervention, demand-side economics, natural resources, bureaucrat-driven enterprises and economic regulation. This is characterised as dirigism, in the form of the Licence Raj. The end of the Cold War and an acute balance of payments crisis in 1991 led to the adoption of a broad economic liberalisation in India and indicative planning. India has about 1,900 public sector companies, with the Indian state having complete control and ownership of railways and highways. The Indian government has major control over banking, insurance, farming, fertilizers and chemicals, airports,  essential utilities. The state also exerts substantial control over digitalization,  telecommunication, supercomputing, space, port and shipping industries, which were effectively nationalised in the mid-1950s but has seen the emergence of key corporate players.\n",
      "Nearly 70% of India's GDP is driven by domestic consumption; the country remains the world's fourth-largest consumer market. Aside private consumption, India's GDP is also fueled by government spending, investments, and exports. In 2022, India was the world's 10th-largest importer and the 8th-largest exporter. India has been a member of the World Trade Organization since 1 January 1995. It ranks 63rd on the ease of doing business index and 40th on the Global Competitiveness Index. India has one of the world's highest number of billionaires along with extreme income inequality. Economists and social scientists often consider India a welfare state. India's overall social welfare spending stood at 8.6% of GDP in 2021-22, which is much lower than the average for OECD nations. With 586 million workers, the Indian labour force is the world's second-largest. Despite having one of the longest working hours, India has one of the lowest workforce productivity levels in the world. Economists say that due to structural economic problems, India is experiencing jobless economic growth.\n",
      "During the Great Recession, the economy faced a mild slowdown. India endorsed Keynesian policy and initiated stimulus measures (both fiscal and monetary) to boost growth and generate demand. In subsequent years, economic growth revived.\n",
      "In 2021–22, the foreign direct investment (FDI) in India was $82 billion. The leading sectors for FDI inflows were the Finance, Banking, Insurance and R&D. India has free trade agreements with several nations and blocs, including ASEAN, SAFTA, Mercosur, South Korea, Japan, Australia, the United Arab Emirates, and several others which are in effect or under negotiating stage.\n",
      "The service sector makes up more than 50% of GDP and remains the fastest growing sector, while the industrial sector and the agricultural sector employs a majority of the labor force. The Bombay Stock Exchange and National Stock Exchange are some of the world's largest stock exchanges by market capitalisation. India is the world's sixth-largest manufacturer, representing 2.6% of global manufacturing output. Nearly 65% of India's population is rural, and contributes about 50% of India's GDP. India faces high unemployment, rising income inequality, and a drop in aggregate demand. India's gross domestic savings rate stood at 29.3% of GDP in 2022.\n",
      "\n",
      "Page: List of Indian states and union territories by GDP\n",
      "Summary: These are lists of Indian states and union territories by their nominal gross state domestic product (GSDP). GSDP is the sum of all value added by industries within each state or union territory and serves as a counterpart to\u001b[0m\n",
      "Thought:\u001b[32;1m\u001b[1;3mThought: Question: GDP of India\n",
      "Thought: I need to look up the GDP of India on Wikipedia. \n",
      "Action: wikipedia\n",
      "Action Input: GDP of India\u001b[0m\n",
      "Observation: \u001b[36;1m\u001b[1;3mPage: Economy of India\n",
      "Summary: The economy of India is a developing mixed economy with a notable public sector in strategic sectors. It is the world's fourth-largest economy by nominal GDP and the third-largest by purchasing power parity (PPP); on a per capita income basis, India ranked 140th by GDP (nominal) and 119th by GDP (PPP). From independence in 1947 until 1991, successive governments followed the Soviet model and promoted protectionist economic policies, with extensive Sovietization, state intervention, demand-side economics, natural resources, bureaucrat-driven enterprises and economic regulation. This is characterised as dirigism, in the form of the Licence Raj. The end of the Cold War and an acute balance of payments crisis in 1991 led to the adoption of a broad economic liberalisation in India and indicative planning. India has about 1,900 public sector companies, with the Indian state having complete control and ownership of railways and highways. The Indian government has major control over banking, insurance, farming, fertilizers and chemicals, airports,  essential utilities. The state also exerts substantial control over digitalization,  telecommunication, supercomputing, space, port and shipping industries, which were effectively nationalised in the mid-1950s but has seen the emergence of key corporate players.\n",
      "Nearly 70% of India's GDP is driven by domestic consumption; the country remains the world's fourth-largest consumer market. Aside private consumption, India's GDP is also fueled by government spending, investments, and exports. In 2022, India was the world's 10th-largest importer and the 8th-largest exporter. India has been a member of the World Trade Organization since 1 January 1995. It ranks 63rd on the ease of doing business index and 40th on the Global Competitiveness Index. India has one of the world's highest number of billionaires along with extreme income inequality. Economists and social scientists often consider India a welfare state. India's overall social welfare spending stood at 8.6% of GDP in 2021-22, which is much lower than the average for OECD nations. With 586 million workers, the Indian labour force is the world's second-largest. Despite having one of the longest working hours, India has one of the lowest workforce productivity levels in the world. Economists say that due to structural economic problems, India is experiencing jobless economic growth.\n",
      "During the Great Recession, the economy faced a mild slowdown. India endorsed Keynesian policy and initiated stimulus measures (both fiscal and monetary) to boost growth and generate demand. In subsequent years, economic growth revived.\n",
      "In 2021–22, the foreign direct investment (FDI) in India was $82 billion. The leading sectors for FDI inflows were the Finance, Banking, Insurance and R&D. India has free trade agreements with several nations and blocs, including ASEAN, SAFTA, Mercosur, South Korea, Japan, Australia, the United Arab Emirates, and several others which are in effect or under negotiating stage.\n",
      "The service sector makes up more than 50% of GDP and remains the fastest growing sector, while the industrial sector and the agricultural sector employs a majority of the labor force. The Bombay Stock Exchange and National Stock Exchange are some of the world's largest stock exchanges by market capitalisation. India is the world's sixth-largest manufacturer, representing 2.6% of global manufacturing output. Nearly 65% of India's population is rural, and contributes about 50% of India's GDP. India faces high unemployment, rising income inequality, and a drop in aggregate demand. India's gross domestic savings rate stood at 29.3% of GDP in 2022.\n",
      "\n",
      "Page: List of Indian states and union territories by GDP\n",
      "Summary: These are lists of Indian states and union territories by their nominal gross state domestic product (GSDP). GSDP is the sum of all value added by industries within each state or union territory and serves as a counterpart to\u001b[0m\n",
      "Thought:\u001b[32;1m\u001b[1;3mThought: I now know the GDP of India\n",
      "Final Answer: India's nominal GDP is the world's fourth-largest and its purchasing power parity (PPP) is the world's third-largest. \n",
      "\n",
      "\n",
      "\n",
      "\n",
      "\u001b[0m\n",
      "\n",
      "\u001b[1m> Finished chain.\u001b[0m\n"
     ]
    },
    {
     "data": {
      "text/plain": [
       "\"India's nominal GDP is the world's fourth-largest and its purchasing power parity (PPP) is the world's third-largest.\""
      ]
     },
     "execution_count": 66,
     "metadata": {},
     "output_type": "execute_result"
    }
   ],
   "source": [
    "agent.run(\"GDP of India\")"
   ]
  },
  {
   "cell_type": "code",
   "execution_count": null,
   "metadata": {},
   "outputs": [],
   "source": []
  }
 ],
 "metadata": {
  "kernelspec": {
   "display_name": ".venv",
   "language": "python",
   "name": "python3"
  },
  "language_info": {
   "codemirror_mode": {
    "name": "ipython",
    "version": 3
   },
   "file_extension": ".py",
   "mimetype": "text/x-python",
   "name": "python",
   "nbconvert_exporter": "python",
   "pygments_lexer": "ipython3",
   "version": "3.11.0"
  }
 },
 "nbformat": 4,
 "nbformat_minor": 2
}
