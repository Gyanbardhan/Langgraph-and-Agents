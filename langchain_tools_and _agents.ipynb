{
 "cells": [
  {
   "cell_type": "code",
   "execution_count": 1,
   "metadata": {},
   "outputs": [
    {
     "data": {
      "text/plain": [
       "True"
      ]
     },
     "execution_count": 1,
     "metadata": {},
     "output_type": "execute_result"
    }
   ],
   "source": [
    "import os\n",
    "from dotenv import load_dotenv\n",
    "load_dotenv()"
   ]
  },
  {
   "cell_type": "code",
   "execution_count": 2,
   "metadata": {},
   "outputs": [],
   "source": [
    "LANGCHAIN_API_KEY=os.getenv(\"LANGCHAIN_API_KEY\")\n",
    "GOOGLE_API_KEY=os.getenv(\"GOOGLE_API_KEY\")\n",
    "TAVILY_API_KEY=os.getenv(\"TAVILY_API_KEY\")\n",
    "GROQ_API_KEY=os.getenv(\"GROQ_API_KEY\")\n",
    "LANGCHAIN_PROJECT=os.getenv(\"LANGCHAIN_PROJECT\")\n",
    "SERPER_API_KEY=os.getenv(\"SERPER_API_KEY\")"
   ]
  },
  {
   "cell_type": "code",
   "execution_count": 3,
   "metadata": {},
   "outputs": [],
   "source": [
    "os.environ[\"GOOGLE_API_KEY\"]=GOOGLE_API_KEY\n",
    "os.environ[\"TAVILY_API_KEY\"]=TAVILY_API_KEY\n",
    "os.environ[\"GROQ_API_KEY\"]=GROQ_API_KEY\n",
    "os.environ[\"LANGCHAIN_API_KEY\"]=GOOGLE_API_KEY\n",
    "os.environ[\"LANGSMITH_TRACING\"]=\"true\"\n",
    "os.environ[\"LANGSMITH_ENDPOINT\"]=\"https://api.smith.langchain.com\"\n",
    "os.environ[\"LANGCHAIN_PROJECT\"]=LANGCHAIN_PROJECT"
   ]
  },
  {
   "cell_type": "code",
   "execution_count": 4,
   "metadata": {},
   "outputs": [],
   "source": [
    "from langchain_groq import ChatGroq\n",
    "llm=ChatGroq(model_name=\"Gemma2-9b-It\")"
   ]
  },
  {
   "cell_type": "code",
   "execution_count": 5,
   "metadata": {},
   "outputs": [],
   "source": [
    "from langchain_google_genai import GoogleGenerativeAIEmbeddings\n",
    "embeddings=GoogleGenerativeAIEmbeddings(model=\"models/embedding-001\")"
   ]
  },
  {
   "cell_type": "markdown",
   "metadata": {},
   "source": [
    "## Predefine tools in the previous ipynb"
   ]
  },
  {
   "cell_type": "markdown",
   "metadata": {},
   "source": [
    "## Custom Tool"
   ]
  },
  {
   "cell_type": "code",
   "execution_count": 8,
   "metadata": {},
   "outputs": [],
   "source": [
    "from langchain.agents import tool\n",
    "@tool\n",
    "def get_word_length(word:str)->int:\n",
    "    \"\"\"Return the word length\"\"\"\n",
    "    return len(word)"
   ]
  },
  {
   "cell_type": "code",
   "execution_count": 9,
   "metadata": {},
   "outputs": [
    {
     "data": {
      "text/plain": [
       "11"
      ]
     },
     "execution_count": 9,
     "metadata": {},
     "output_type": "execute_result"
    }
   ],
   "source": [
    "get_word_length.invoke(\"Gyanbardhan\")"
   ]
  },
  {
   "cell_type": "code",
   "execution_count": 11,
   "metadata": {},
   "outputs": [],
   "source": [
    "@tool\n",
    "def multiply(a:int,b:int)->int:\n",
    "    \"Multiply two numbers\"\n",
    "    return a*b"
   ]
  },
  {
   "cell_type": "code",
   "execution_count": 14,
   "metadata": {},
   "outputs": [
    {
     "name": "stdout",
     "output_type": "stream",
     "text": [
      "multiply\n",
      "Multiply two numbers\n",
      "{'a': {'title': 'A', 'type': 'integer'}, 'b': {'title': 'B', 'type': 'integer'}}\n"
     ]
    }
   ],
   "source": [
    "print(multiply.name)\n",
    "print(multiply.description)\n",
    "print(multiply.args)"
   ]
  },
  {
   "cell_type": "code",
   "execution_count": 16,
   "metadata": {},
   "outputs": [
    {
     "data": {
      "text/plain": [
       "200"
      ]
     },
     "execution_count": 16,
     "metadata": {},
     "output_type": "execute_result"
    }
   ],
   "source": [
    "multiply.invoke({'a':10,'b':20})"
   ]
  },
  {
   "cell_type": "code",
   "execution_count": 17,
   "metadata": {},
   "outputs": [],
   "source": [
    "from langchain_community.tools.tavily_search import TavilySearchResults"
   ]
  },
  {
   "cell_type": "code",
   "execution_count": 18,
   "metadata": {},
   "outputs": [],
   "source": [
    "search=TavilySearchResults()"
   ]
  },
  {
   "cell_type": "code",
   "execution_count": 19,
   "metadata": {},
   "outputs": [],
   "source": [
    "tools=[search]"
   ]
  },
  {
   "cell_type": "code",
   "execution_count": 20,
   "metadata": {},
   "outputs": [],
   "source": [
    "from langchain import hub"
   ]
  },
  {
   "cell_type": "code",
   "execution_count": 21,
   "metadata": {},
   "outputs": [],
   "source": [
    "prompt=hub.pull(\"hwchase17/openai-functions-agent\")"
   ]
  },
  {
   "cell_type": "code",
   "execution_count": 23,
   "metadata": {},
   "outputs": [
    {
     "data": {
      "text/plain": [
       "[SystemMessagePromptTemplate(prompt=PromptTemplate(input_variables=[], input_types={}, partial_variables={}, template='You are a helpful assistant'), additional_kwargs={}),\n",
       " MessagesPlaceholder(variable_name='chat_history', optional=True),\n",
       " HumanMessagePromptTemplate(prompt=PromptTemplate(input_variables=['input'], input_types={}, partial_variables={}, template='{input}'), additional_kwargs={}),\n",
       " MessagesPlaceholder(variable_name='agent_scratchpad')]"
      ]
     },
     "execution_count": 23,
     "metadata": {},
     "output_type": "execute_result"
    }
   ],
   "source": [
    "prompt.messages"
   ]
  },
  {
   "cell_type": "markdown",
   "metadata": {},
   "source": [
    "agent_scratchpad: basically a structure in which agent should work\n"
   ]
  },
  {
   "cell_type": "code",
   "execution_count": 24,
   "metadata": {},
   "outputs": [],
   "source": [
    "from langchain.agents import create_tool_calling_agent\n",
    "agent=create_tool_calling_agent(llm,tools,prompt)"
   ]
  },
  {
   "cell_type": "code",
   "execution_count": 25,
   "metadata": {},
   "outputs": [],
   "source": [
    "from langchain.agents import AgentExecutor\n",
    "agent_executor=AgentExecutor(agent=agent,tools=tools,verbose=True)"
   ]
  },
  {
   "cell_type": "code",
   "execution_count": 30,
   "metadata": {},
   "outputs": [
    {
     "name": "stdout",
     "output_type": "stream",
     "text": [
      "\n",
      "\n",
      "\u001b[1m> Entering new AgentExecutor chain...\u001b[0m\n",
      "\u001b[32;1m\u001b[1;3m\n",
      "Invoking: `tavily_search_results_json` with `{'query': 'Weather in Bangalore'}`\n",
      "\n",
      "\n",
      "\u001b[0m\u001b[36;1m\u001b[1;3m[{'title': 'Weather in Bangalore', 'url': 'https://www.weatherapi.com/', 'content': \"{'location': {'name': 'Bangalore', 'region': 'Karnataka', 'country': 'India', 'lat': 12.9833, 'lon': 77.5833, 'tz_id': 'Asia/Kolkata', 'localtime_epoch': 1745814602, 'localtime': '2025-04-28 10:00'}, 'current': {'last_updated_epoch': 1745813700, 'last_updated': '2025-04-28 09:45', 'temp_c': 27.4, 'temp_f': 81.3, 'is_day': 1, 'condition': {'text': 'Sunny', 'icon': '//cdn.weatherapi.com/weather/64x64/day/113.png', 'code': 1000}, 'wind_mph': 7.4, 'wind_kph': 11.9, 'wind_degree': 141, 'wind_dir': 'SE', 'pressure_mb': 1016.0, 'pressure_in': 30.0, 'precip_mm': 0.0, 'precip_in': 0.0, 'humidity': 70, 'cloud': 25, 'feelslike_c': 27.9, 'feelslike_f': 82.1, 'windchill_c': 28.4, 'windchill_f': 83.1, 'heatindex_c': 29.0, 'heatindex_f': 84.2, 'dewpoint_c': 16.3, 'dewpoint_f': 61.3, 'vis_km': 6.0, 'vis_miles': 3.0, 'uv': 5.3, 'gust_mph': 8.5, 'gust_kph': 13.7}}\", 'score': 0.9483281}, {'title': 'Weather in Bangalore Urban for April 2025', 'url': 'https://www.easeweather.com/asia/india/karnataka/bangalore-urban/april', 'content': 'Patchy rain possible\\n| 33° /22° | 0.2\\xa0mm | 7 |  |\\n| 28 Apr. | \\nPatchy rain possible\\n| 35° /23° | 0.1\\xa0mm | 8 |  |\\n| 29 Apr. | \\nHeavy rain at times\\n| 35° /23° | 2.2\\xa0mm | 8 |  |\\n| 30 Apr. | \\nModerate or heavy rain shower\\n| 34° /23° | 7.9\\xa0mm | 8 |  |\\n| Next |\\nImportant Notice [...] April\\nJanuaryFebruaryMarch\\nApril\\nMayJuneJulyAugustSeptemberOctoberNovemberDecember\\nWeather in Bangalore Urban for April 2025\\nYour guide to Bangalore Urban weather in April - trends and predictions\\nTemperatures\\n\\n\\nThe forecast for the next days in Bangalore Urban predicts temperatures to be around 33\\xa0°C, close to the historical average. [...] April 2025 Weather - Bangalore Urban\\n\\nUnits\\n°C\\n°F\\nBangalore Urban\\nForecast Today Tomorrow\\nmore\\nKarnataka IndiaUnited States\\nForecastAprilMayTodayTomorrowHistory\\nBangalore Urban (Bengaluru)\\nAgraAhmedabadAmritsarBengaluruBhopālChandīgarhChennaiCoimbatoreDelhiHyderābādIndoreJaipurJalandharJammuKallakurichiKanpurKolkataLucknowLudhiānaMaduraiMumbaiNagpurPatnaPrayagrajPuneShimlaSrinagarSuratUdaipurVadodaraVaranasi More Locations', 'score': 0.9247491}, {'title': 'April 2025 Weather History in Bengaluru Karnataka, India', 'url': 'https://weatherspark.com/h/m/108998/2025/4/Historical-Weather-in-April-2025-in-Bengaluru-Karnataka-India', 'content': 'PMENE8:42 PMN244,395 mi883%-3:10 AMWNW3:02 PMENE9:27 PMN246,843 mi990%-3:49 AMWNW3:49 PME10:08 PMS248,831 mi1095%-4:24 AMW4:35 PME10:47 PMS250,370 mi1199%-4:58 AMW5:20 PME11:26 PMS251,481 mi1299%-5:32 AMW6:05 PME--13100%-6:06 AMWSW6:51 PMESE12:05 AMS252,177 mi1499%-6:42 AMWSW7:38 PMESE12:46 AMS252,455 mi1597%-7:21 AMWSW8:28 PMESE1:29 AMS252,293 mi1693%-8:04 AMWSW9:20 PMESE2:15 AMS251,649 mi1787%-8:50 AMWSW10:14 PMESE3:05 AMS250,472 mi1880%-9:41 AMWSW11:08 PMESE3:57 AMS248,717 mi1971%-10:35 [...] AMWSW-4:51 AMS246,362 mi2061%12:00 AMESE11:31 AMWSW-5:46 AMS243,429 mi2150%12:51 AMESE12:28 PMWSW-6:40 AMS239,999 mi2240%1:38 AMESE1:24 PMWSW-7:32 AMS236,229 mi2329%2:23 AMESE2:20 PMWSW-8:22 AMS232,348 mi2419%3:06 AME3:16 PMW-9:11 AMS228,654 mi2510%3:48 AME4:12 PMW-10:00 AMS225,487 mi264%4:31 AME5:10 PMW-10:50 AMS223,182 mi270%5:17 AMENE6:11 PMWNW-11:42 AMN222,015 mi280%6:06 AMENE7:16 PMWNW-12:39 PMN222,141 mi294%7:00 AMENE8:23 PMWNW-1:40 PMN223,560 mi3010%8:00 AMENE9:30 PMWNW-2:44 PMN226,111 [...] shaded overlays indicate night and civil twilight.© OpenStreetMap contributorsCompare Bengaluru to another city:     Compare MapCloud Cover in April 2025 in BengaluruSpring 2025LinkDownloadCompareAveragesHistory:JFMAprMJJASOND2024202320222021Cloud Cover in April 2025 in Bengaluru1815222911223344556677889912 AM12 AM3 AM3 AM6 AM6 AM9 AM9 AM12 PM12 PM3 PM3 PM6 PM6 PM9 PM9 PM12 AM12 AMMarMayNowNow0% clear 20% mostly clear 40% partly cloudy 60% mostly cloudy 80% overcast 100%no significant cloudno', 'score': 0.8898454}, {'title': 'Weather Bengaluru in April 2025: Temperature & Climate', 'url': 'https://en.climate-data.org/asia/india/karnataka/bengaluru-4562/t/april-4/', 'content': '| 26. April | Thunderstorm with rain | 39 °C 102.2 °F | 22 °C 71.6 °F | 55 % | 10 km/h 6 mph | 4mm 0.16 in | 76% |\\n| 27. April | Few clouds | 40 °C 104 °F | 21 °C 69.8 °F | 25 % | 15 km/h 9 mph | 1mm 0.04 in | 39% |\\n| 28. April | Few clouds | 40 °C 104 °F | 21 °C 69.8 °F | 0 % | 13 km/h 8 mph | 0mm 0 in | 50% |\\n| 29. April | Broken clouds | 37 °C 98.6 °F | 21 °C 69.8 °F | 20 % | 12 km/h 7 mph | 0mm 0 in | 54% |\\nAirport close to Bengaluru [...] | 26. April | 26 °C | 79 °F | 33 °C | 91 °F | 21 °C | 70 °F | 0.4 mm | 0.0 inch. |\\n| 27. April | 26 °C | 80 °F | 33 °C | 91 °F | 21 °C | 70 °F | 0.5 mm | 0.0 inch. |\\n| 28. April | 26 °C | 80 °F | 33 °C | 91 °F | 21 °C | 70 °F | 0.8 mm | 0.0 inch. |\\n| 29. April | 27 °C | 80 °F | 33 °C | 91 °F | 21 °C | 70 °F | 0.6 mm | 0.0 inch. |\\n| 30. April | 26 °C | 80 °F | 33 °C | 91 °F | 21 °C | 70 °F | 0.6 mm | 0.0 inch. |\\nData: 1999 - 2019', 'score': 0.8724455}, {'title': 'Bangalore weather in April 2025 | India: How hot?', 'url': 'https://www.weather2travel.com/india/bangalore/april/', 'content': 'Bangalore weather in April 2025 | India: How hot?\\n\\n\\nWeather\\nDeals\\nInspiration\\nInsights\\nNews\\nTravel advice\\nHolidays\\nExtras\\n\\n\\n\\n\\nHome\\nAsia / Southern Asia\\nIndia\\nBangalore\\nWhere is hot in April?\\n\\nBangalore weather in April 2025\\nExpect daytime maximum temperatures of 34°C in Bangalore, India in April and high heat and humidity based on long-term weather averages. There are 9 hours of sunshine per day on average with typically 41 mm of rainfall in the month. [...] 34\\n34°C max day temperature\\n*   9\\n9 hours of sunshine per day\\n*   3\\n3 days with some rainfall\\n*   21\\n21°C min night temperature\\n*   12\\n12 hours of daylight per day\\n*   H\\nHigh heat & humidity\\n*   41\\n41 mm of monthly rainfall\\n*   11\\n11+ (Extreme) UV index\\n\\n\\nMore about Bangalore\\n\\n\\n\\nOverview\\n*   \\nBest time to visit\\n*   \\nWeather by month\\n*   \\n5-day weather forecast\\n*   \\nDestinations\\n*   \\nTravel advice\\n*   \\nDeals & discounts', 'score': 0.8703443}]\u001b[0m\u001b[32;1m\u001b[1;3m\n",
      "Invoking: `tavily_search_results_json` with `{'query': 'Weather in Bangalore'}`\n",
      "\n",
      "\n",
      "\u001b[0m\u001b[36;1m\u001b[1;3m[{'title': 'Weather in Bangalore', 'url': 'https://www.weatherapi.com/', 'content': \"{'location': {'name': 'Bangalore', 'region': 'Karnataka', 'country': 'India', 'lat': 12.9833, 'lon': 77.5833, 'tz_id': 'Asia/Kolkata', 'localtime_epoch': 1745814602, 'localtime': '2025-04-28 10:00'}, 'current': {'last_updated_epoch': 1745813700, 'last_updated': '2025-04-28 09:45', 'temp_c': 27.4, 'temp_f': 81.3, 'is_day': 1, 'condition': {'text': 'Sunny', 'icon': '//cdn.weatherapi.com/weather/64x64/day/113.png', 'code': 1000}, 'wind_mph': 7.4, 'wind_kph': 11.9, 'wind_degree': 141, 'wind_dir': 'SE', 'pressure_mb': 1016.0, 'pressure_in': 30.0, 'precip_mm': 0.0, 'precip_in': 0.0, 'humidity': 70, 'cloud': 25, 'feelslike_c': 27.9, 'feelslike_f': 82.1, 'windchill_c': 28.4, 'windchill_f': 83.1, 'heatindex_c': 29.0, 'heatindex_f': 84.2, 'dewpoint_c': 16.3, 'dewpoint_f': 61.3, 'vis_km': 6.0, 'vis_miles': 3.0, 'uv': 5.3, 'gust_mph': 8.5, 'gust_kph': 13.7}}\", 'score': 0.9483281}, {'title': 'Weather in Bangalore Urban for April 2025', 'url': 'https://www.easeweather.com/asia/india/karnataka/bangalore-urban/april', 'content': 'Patchy rain possible\\n| 33° /22° | 0.2\\xa0mm | 7 |  |\\n| 28 Apr. | \\nPatchy rain possible\\n| 35° /23° | 0.1\\xa0mm | 8 |  |\\n| 29 Apr. | \\nHeavy rain at times\\n| 35° /23° | 2.2\\xa0mm | 8 |  |\\n| 30 Apr. | \\nModerate or heavy rain shower\\n| 34° /23° | 7.9\\xa0mm | 8 |  |\\n| Next |\\nImportant Notice [...] April\\nJanuaryFebruaryMarch\\nApril\\nMayJuneJulyAugustSeptemberOctoberNovemberDecember\\nWeather in Bangalore Urban for April 2025\\nYour guide to Bangalore Urban weather in April - trends and predictions\\nTemperatures\\n\\n\\nThe forecast for the next days in Bangalore Urban predicts temperatures to be around 33\\xa0°C, close to the historical average. [...] April 2025 Weather - Bangalore Urban\\n\\nUnits\\n°C\\n°F\\nBangalore Urban\\nForecast Today Tomorrow\\nmore\\nKarnataka IndiaUnited States\\nForecastAprilMayTodayTomorrowHistory\\nBangalore Urban (Bengaluru)\\nAgraAhmedabadAmritsarBengaluruBhopālChandīgarhChennaiCoimbatoreDelhiHyderābādIndoreJaipurJalandharJammuKallakurichiKanpurKolkataLucknowLudhiānaMaduraiMumbaiNagpurPatnaPrayagrajPuneShimlaSrinagarSuratUdaipurVadodaraVaranasi More Locations', 'score': 0.9247491}, {'title': 'April 2025 Weather History in Bengaluru Karnataka, India', 'url': 'https://weatherspark.com/h/m/108998/2025/4/Historical-Weather-in-April-2025-in-Bengaluru-Karnataka-India', 'content': 'PMENE8:42 PMN244,395 mi883%-3:10 AMWNW3:02 PMENE9:27 PMN246,843 mi990%-3:49 AMWNW3:49 PME10:08 PMS248,831 mi1095%-4:24 AMW4:35 PME10:47 PMS250,370 mi1199%-4:58 AMW5:20 PME11:26 PMS251,481 mi1299%-5:32 AMW6:05 PME--13100%-6:06 AMWSW6:51 PMESE12:05 AMS252,177 mi1499%-6:42 AMWSW7:38 PMESE12:46 AMS252,455 mi1597%-7:21 AMWSW8:28 PMESE1:29 AMS252,293 mi1693%-8:04 AMWSW9:20 PMESE2:15 AMS251,649 mi1787%-8:50 AMWSW10:14 PMESE3:05 AMS250,472 mi1880%-9:41 AMWSW11:08 PMESE3:57 AMS248,717 mi1971%-10:35 [...] AMWSW-4:51 AMS246,362 mi2061%12:00 AMESE11:31 AMWSW-5:46 AMS243,429 mi2150%12:51 AMESE12:28 PMWSW-6:40 AMS239,999 mi2240%1:38 AMESE1:24 PMWSW-7:32 AMS236,229 mi2329%2:23 AMESE2:20 PMWSW-8:22 AMS232,348 mi2419%3:06 AME3:16 PMW-9:11 AMS228,654 mi2510%3:48 AME4:12 PMW-10:00 AMS225,487 mi264%4:31 AME5:10 PMW-10:50 AMS223,182 mi270%5:17 AMENE6:11 PMWNW-11:42 AMN222,015 mi280%6:06 AMENE7:16 PMWNW-12:39 PMN222,141 mi294%7:00 AMENE8:23 PMWNW-1:40 PMN223,560 mi3010%8:00 AMENE9:30 PMWNW-2:44 PMN226,111 [...] shaded overlays indicate night and civil twilight.© OpenStreetMap contributorsCompare Bengaluru to another city:     Compare MapCloud Cover in April 2025 in BengaluruSpring 2025LinkDownloadCompareAveragesHistory:JFMAprMJJASOND2024202320222021Cloud Cover in April 2025 in Bengaluru1815222911223344556677889912 AM12 AM3 AM3 AM6 AM6 AM9 AM9 AM12 PM12 PM3 PM3 PM6 PM6 PM9 PM9 PM12 AM12 AMMarMayNowNow0% clear 20% mostly clear 40% partly cloudy 60% mostly cloudy 80% overcast 100%no significant cloudno', 'score': 0.8898454}, {'title': 'Weather Bengaluru in April 2025: Temperature & Climate', 'url': 'https://en.climate-data.org/asia/india/karnataka/bengaluru-4562/t/april-4/', 'content': '| 26. April | Thunderstorm with rain | 39 °C 102.2 °F | 22 °C 71.6 °F | 55 % | 10 km/h 6 mph | 4mm 0.16 in | 76% |\\n| 27. April | Few clouds | 40 °C 104 °F | 21 °C 69.8 °F | 25 % | 15 km/h 9 mph | 1mm 0.04 in | 39% |\\n| 28. April | Few clouds | 40 °C 104 °F | 21 °C 69.8 °F | 0 % | 13 km/h 8 mph | 0mm 0 in | 50% |\\n| 29. April | Broken clouds | 37 °C 98.6 °F | 21 °C 69.8 °F | 20 % | 12 km/h 7 mph | 0mm 0 in | 54% |\\nAirport close to Bengaluru [...] | 26. April | 26 °C | 79 °F | 33 °C | 91 °F | 21 °C | 70 °F | 0.4 mm | 0.0 inch. |\\n| 27. April | 26 °C | 80 °F | 33 °C | 91 °F | 21 °C | 70 °F | 0.5 mm | 0.0 inch. |\\n| 28. April | 26 °C | 80 °F | 33 °C | 91 °F | 21 °C | 70 °F | 0.8 mm | 0.0 inch. |\\n| 29. April | 27 °C | 80 °F | 33 °C | 91 °F | 21 °C | 70 °F | 0.6 mm | 0.0 inch. |\\n| 30. April | 26 °C | 80 °F | 33 °C | 91 °F | 21 °C | 70 °F | 0.6 mm | 0.0 inch. |\\nData: 1999 - 2019', 'score': 0.8724455}, {'title': 'Bangalore weather in April 2025 | India: How hot?', 'url': 'https://www.weather2travel.com/india/bangalore/april/', 'content': 'Bangalore weather in April 2025 | India: How hot?\\n\\n\\nWeather\\nDeals\\nInspiration\\nInsights\\nNews\\nTravel advice\\nHolidays\\nExtras\\n\\n\\n\\n\\nHome\\nAsia / Southern Asia\\nIndia\\nBangalore\\nWhere is hot in April?\\n\\nBangalore weather in April 2025\\nExpect daytime maximum temperatures of 34°C in Bangalore, India in April and high heat and humidity based on long-term weather averages. There are 9 hours of sunshine per day on average with typically 41 mm of rainfall in the month. [...] 34\\n34°C max day temperature\\n*   9\\n9 hours of sunshine per day\\n*   3\\n3 days with some rainfall\\n*   21\\n21°C min night temperature\\n*   12\\n12 hours of daylight per day\\n*   H\\nHigh heat & humidity\\n*   41\\n41 mm of monthly rainfall\\n*   11\\n11+ (Extreme) UV index\\n\\n\\nMore about Bangalore\\n\\n\\n\\nOverview\\n*   \\nBest time to visit\\n*   \\nWeather by month\\n*   \\n5-day weather forecast\\n*   \\nDestinations\\n*   \\nTravel advice\\n*   \\nDeals & discounts', 'score': 0.8703443}]\u001b[0m\u001b[32;1m\u001b[1;3m\n",
      "\u001b[0m\n",
      "\n",
      "\u001b[1m> Finished chain.\u001b[0m\n"
     ]
    },
    {
     "data": {
      "text/plain": [
       "{'input': 'Weather of Bangalore', 'output': '\\n'}"
      ]
     },
     "execution_count": 30,
     "metadata": {},
     "output_type": "execute_result"
    }
   ],
   "source": [
    "agent_executor.invoke({\"input\":\"Weather of Bangalore\"})"
   ]
  }
 ],
 "metadata": {
  "kernelspec": {
   "display_name": ".venv",
   "language": "python",
   "name": "python3"
  },
  "language_info": {
   "codemirror_mode": {
    "name": "ipython",
    "version": 3
   },
   "file_extension": ".py",
   "mimetype": "text/x-python",
   "name": "python",
   "nbconvert_exporter": "python",
   "pygments_lexer": "ipython3",
   "version": "3.11.0"
  }
 },
 "nbformat": 4,
 "nbformat_minor": 2
}
