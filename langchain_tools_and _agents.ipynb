{
 "cells": [
  {
   "cell_type": "code",
   "execution_count": 1,
   "metadata": {},
   "outputs": [
    {
     "data": {
      "text/plain": [
       "True"
      ]
     },
     "execution_count": 1,
     "metadata": {},
     "output_type": "execute_result"
    }
   ],
   "source": [
    "import os\n",
    "from dotenv import load_dotenv\n",
    "load_dotenv()"
   ]
  },
  {
   "cell_type": "code",
   "execution_count": 2,
   "metadata": {},
   "outputs": [],
   "source": [
    "LANGCHAIN_API_KEY=os.getenv(\"LANGCHAIN_API_KEY\")\n",
    "GOOGLE_API_KEY=os.getenv(\"GOOGLE_API_KEY\")\n",
    "TAVILY_API_KEY=os.getenv(\"TAVILY_API_KEY\")\n",
    "GROQ_API_KEY=os.getenv(\"GROQ_API_KEY\")\n",
    "LANGCHAIN_PROJECT=os.getenv(\"LANGCHAIN_PROJECT\")\n",
    "SERPER_API_KEY=os.getenv(\"SERPER_API_KEY\")"
   ]
  },
  {
   "cell_type": "code",
   "execution_count": 3,
   "metadata": {},
   "outputs": [],
   "source": [
    "os.environ[\"GOOGLE_API_KEY\"]=GOOGLE_API_KEY\n",
    "os.environ[\"TAVILY_API_KEY\"]=TAVILY_API_KEY\n",
    "os.environ[\"GROQ_API_KEY\"]=GROQ_API_KEY\n",
    "os.environ[\"LANGCHAIN_API_KEY\"]=GOOGLE_API_KEY\n",
    "os.environ[\"LANGSMITH_TRACING\"]=\"true\"\n",
    "os.environ[\"LANGSMITH_ENDPOINT\"]=\"https://api.smith.langchain.com\"\n",
    "os.environ[\"LANGCHAIN_PROJECT\"]=LANGCHAIN_PROJECT"
   ]
  },
  {
   "cell_type": "code",
   "execution_count": 4,
   "metadata": {},
   "outputs": [],
   "source": [
    "from langchain_groq import ChatGroq\n",
    "llm=ChatGroq(model_name=\"Gemma2-9b-It\")"
   ]
  },
  {
   "cell_type": "code",
   "execution_count": 5,
   "metadata": {},
   "outputs": [],
   "source": [
    "from langchain_google_genai import GoogleGenerativeAIEmbeddings\n",
    "embeddings=GoogleGenerativeAIEmbeddings(model=\"models/embedding-001\")"
   ]
  },
  {
   "cell_type": "markdown",
   "metadata": {},
   "source": [
    "## Predefine tools in the previous ipynb"
   ]
  },
  {
   "cell_type": "markdown",
   "metadata": {},
   "source": [
    "## Custom Tool"
   ]
  },
  {
   "cell_type": "code",
   "execution_count": 94,
   "metadata": {},
   "outputs": [
    {
     "data": {
      "text/plain": [
       "11"
      ]
     },
     "execution_count": 94,
     "metadata": {},
     "output_type": "execute_result"
    }
   ],
   "source": [
    "from langchain.agents import tool\n",
    "@tool\n",
    "def get_word_length(word:str)->int:\n",
    "    \"\"\"Return the word length\"\"\"\n",
    "    return len(word)\n",
    "\n",
    "get_word_length.invoke(\"Gyanbardhan\")"
   ]
  },
  {
   "cell_type": "code",
   "execution_count": 8,
   "metadata": {},
   "outputs": [],
   "source": [
    "@tool\n",
    "def multiply(a:int,b:int)->int:\n",
    "    \"Multiply two numbers\"\n",
    "    return a*b"
   ]
  },
  {
   "cell_type": "code",
   "execution_count": 9,
   "metadata": {},
   "outputs": [
    {
     "name": "stdout",
     "output_type": "stream",
     "text": [
      "multiply\n",
      "Multiply two numbers\n",
      "{'a': {'title': 'A', 'type': 'integer'}, 'b': {'title': 'B', 'type': 'integer'}}\n"
     ]
    }
   ],
   "source": [
    "print(multiply.name)\n",
    "print(multiply.description)\n",
    "print(multiply.args)"
   ]
  },
  {
   "cell_type": "code",
   "execution_count": 10,
   "metadata": {},
   "outputs": [
    {
     "data": {
      "text/plain": [
       "200"
      ]
     },
     "execution_count": 10,
     "metadata": {},
     "output_type": "execute_result"
    }
   ],
   "source": [
    "multiply.invoke({'a':10,'b':20})"
   ]
  },
  {
   "cell_type": "code",
   "execution_count": 11,
   "metadata": {},
   "outputs": [],
   "source": [
    "from langchain_community.tools.tavily_search import TavilySearchResults"
   ]
  },
  {
   "cell_type": "code",
   "execution_count": 107,
   "metadata": {},
   "outputs": [],
   "source": [
    "search=TavilySearchResults()"
   ]
  },
  {
   "cell_type": "code",
   "execution_count": 108,
   "metadata": {},
   "outputs": [],
   "source": [
    "tools=[search]"
   ]
  },
  {
   "cell_type": "code",
   "execution_count": 109,
   "metadata": {},
   "outputs": [],
   "source": [
    "from langchain import hub"
   ]
  },
  {
   "cell_type": "code",
   "execution_count": 15,
   "metadata": {},
   "outputs": [],
   "source": [
    "prompt=hub.pull(\"hwchase17/openai-functions-agent\")"
   ]
  },
  {
   "cell_type": "code",
   "execution_count": 16,
   "metadata": {},
   "outputs": [
    {
     "data": {
      "text/plain": [
       "[SystemMessagePromptTemplate(prompt=PromptTemplate(input_variables=[], input_types={}, partial_variables={}, template='You are a helpful assistant'), additional_kwargs={}),\n",
       " MessagesPlaceholder(variable_name='chat_history', optional=True),\n",
       " HumanMessagePromptTemplate(prompt=PromptTemplate(input_variables=['input'], input_types={}, partial_variables={}, template='{input}'), additional_kwargs={}),\n",
       " MessagesPlaceholder(variable_name='agent_scratchpad')]"
      ]
     },
     "execution_count": 16,
     "metadata": {},
     "output_type": "execute_result"
    }
   ],
   "source": [
    "prompt.messages"
   ]
  },
  {
   "cell_type": "markdown",
   "metadata": {},
   "source": [
    "agent_scratchpad: basically a structure in which agent should work\n"
   ]
  },
  {
   "cell_type": "code",
   "execution_count": 110,
   "metadata": {},
   "outputs": [],
   "source": [
    "from langchain.agents import create_tool_calling_agent\n",
    "agent=create_tool_calling_agent(llm,tools,prompt)"
   ]
  },
  {
   "cell_type": "code",
   "execution_count": 111,
   "metadata": {},
   "outputs": [],
   "source": [
    "from langchain.agents import AgentExecutor\n",
    "agent_executor=AgentExecutor(agent=agent,tools=tools,verbose=True)"
   ]
  },
  {
   "cell_type": "code",
   "execution_count": 112,
   "metadata": {},
   "outputs": [
    {
     "name": "stdout",
     "output_type": "stream",
     "text": [
      "\n",
      "\n",
      "\u001b[1m> Entering new AgentExecutor chain...\u001b[0m\n",
      "\u001b[32;1m\u001b[1;3m\n",
      "Invoking: `tavily_search_results_json` with `{'query': 'agentic ai with langgraph'}`\n",
      "\n",
      "\n",
      "\u001b[0m\u001b[36;1m\u001b[1;3m[{'title': 'A Guide to Building Agentic RAG Systems with LangGraph', 'url': 'https://www.analyticsvidhya.com/blog/2024/07/building-agentic-rag-systems-with-langgraph/', 'content': 'We will be using LangGraph for our practical implementation of our Agentic RAG system. LangGraph, built on top of LangChain, facilitates the creation of cyclical graphs essential for developing AI agents powered by LLMs. The widely-used NetworkX library inspires its interface. It enables the coordination and checkpointing of multiple chains (or actors) through cyclic computational steps. LangGraph treats Agent workflows as a cyclical Graph structure, as depicted in the following figure. [...] One can use various frameworks to build Agentic AI systems, including CrewAI, LangChain, LangGraph, AutoGen, and many more. Using these frameworks enables us to develop complex workflows with ease. Remember, an agent is basically one or more LLMs having access to a set of tools that they can leverage based on specific prompt-based instructions to answer user questions. [...] We will now implement the Agentic RAG System we have discussed so far using LangGraph. We will be loading some documents from Wikipedia into our vector database, the Chroma database. and also using the Tavily Search tool for web search. Connections to LLMs and prompting will be made with LangChain, and the agent will be built using LangGraph. For our LLM, we will be using ChatGPT GPT-4o, which is a powerful LLM that has native support for tool calling. However, you are free to use any other', 'score': 0.91988057}, {'title': 'Complete Agentic AI Bootcamp With LangGraph And LangChain Is ...', 'url': 'https://www.youtube.com/watch?v=4P0mtuGfyx8', 'content': \"You will start by understanding the fundamentals of Agentic AI — how it differs from traditional AI models, the key components of agents (memory, tools, decision-making), and real-world use cases.\\nWe will then dive deep into LangGraph, a cutting-edge framework that helps you design complex agent workflows using graphs, events, and state transitions. You’ll also learn how to combine LangChain's power with LangGraph to build production-ready agent applications.\", 'score': 0.8898454}, {'title': 'Tutorials 2-Live Getting Started With LangGraph For Building AI ...', 'url': 'https://www.youtube.com/watch?v=UltwJqpNA04', 'content': 'LangGraph, created by LangChain, is an open source AI agent framework designed to build, deploy and manage complex generative AI agent workflows. It provides a set of tools and libraries that enable users to create, run and optimize large language models (LLMs) in a scalable and efficient manner.', 'score': 0.85008353}, {'title': 'LangGraph - LangChain', 'url': 'https://www.langchain.com/langgraph', 'content': \"“LangChain is streets ahead with what they've put forward with LangGraph. LangGraph sets the foundation for how we can build and scale AI workloads — from conversational agents, complex task automation, to custom LLM-backed experiences that 'just work'. The next chapter in building complex production-ready features with LLMs is agentic, and with LangGraph and LangSmith, LangChain delivers an out-of-the-box solution to iterate quickly, debug immediately, and scale effortlessly.” [...] “LangChain is streets ahead with what they've put forward with LangGraph. LangGraph sets the foundation for how we can build and scale AI workloads — from conversational agents, complex task automation, to custom LLM-backed experiences that 'just work'. The next chapter in building complex production-ready features with LLMs is agentic, and with LangGraph and LangSmith, LangChain delivers an out-of-the-box solution to iterate quickly, debug immediately, and scale effortlessly.” [...] “As Ally advances its exploration of Generative AI, our tech labs is excited by LangGraph, the new library from LangChain, which is central to our experiments with multi-actor agentic workflows. We are committed to deepening our partnership with LangChain.”\\n“As Ally advances its exploration of Generative AI,\", 'score': 0.84948516}, {'title': 'How to use LangChain and LangGraph for Agentic AI - Pluralsight', 'url': 'https://www.pluralsight.com/resources/blog/ai-and-data/langchain-langgraph-agentic-ai-guide', 'content': 'LangChain and LangGraph empower developers to create intelligent, modular, and scalable AI systems. By integrating memory, tool usage,\\xa0and workflow visualization, these frameworks unlock new possibilities for building dynamic, real-world applications. From weather chatbots to autonomous research assistants, LangChain and LangGraph provide the foundation to move beyond static AI and into the realm of adaptive, interactive systems. [...] The future of AI lies in systems that not only think but act intelligently—and frameworks like LangChain and LangGraph are leading the way. Start building your own Agentic AI systems today and be part of the transformation! [...] Artificial Intelligence (AI) has advanced to a point where we can create systems that think and act autonomously. These systems, referred to as Agentic AI, are capable of reasoning, decision-making, and tool usage in real-world tasks. Imagine a system that not only provides weather updates but also remembers what you’ve previously asked and suggests related information—this is Agentic AI in action.', 'score': 0.8473754}]\u001b[0m\u001b[32;1m\u001b[1;3mAgentic AI refers to AI systems capable of reasoning, decision-making, and tool usage in real-world tasks, acting autonomously. LangGraph, built on top of LangChain, facilitates the creation of cyclical graphs essential for developing these AI agents powered by LLMs. It allows for the coordination and checkpointing of multiple chains (or actors) through cyclic computational steps, treating agent workflows as a cyclical Graph structure. LangGraph helps design complex agent workflows using graphs, events, and state transitions, enabling the development of complex workflows with ease. It provides tools and libraries to create, run, and optimize LLMs in a scalable and efficient manner.\u001b[0m\n",
      "\n",
      "\u001b[1m> Finished chain.\u001b[0m\n"
     ]
    },
    {
     "data": {
      "text/plain": [
       "{'input': 'Explain agentic ai with langgraph',\n",
       " 'output': 'Agentic AI refers to AI systems capable of reasoning, decision-making, and tool usage in real-world tasks, acting autonomously. LangGraph, built on top of LangChain, facilitates the creation of cyclical graphs essential for developing these AI agents powered by LLMs. It allows for the coordination and checkpointing of multiple chains (or actors) through cyclic computational steps, treating agent workflows as a cyclical Graph structure. LangGraph helps design complex agent workflows using graphs, events, and state transitions, enabling the development of complex workflows with ease. It provides tools and libraries to create, run, and optimize LLMs in a scalable and efficient manner.'}"
      ]
     },
     "execution_count": 112,
     "metadata": {},
     "output_type": "execute_result"
    }
   ],
   "source": [
    "agent_executor.invoke({\"input\":\"Explain agentic ai with langgraph\"})"
   ]
  },
  {
   "cell_type": "code",
   "execution_count": 20,
   "metadata": {},
   "outputs": [
    {
     "name": "stderr",
     "output_type": "stream",
     "text": [
      "USER_AGENT environment variable not set, consider setting it to identify your requests.\n"
     ]
    }
   ],
   "source": [
    "from langchain_community.document_loaders import WebBaseLoader\n",
    "from langchain_community.vectorstores import FAISS\n",
    "from langchain_text_splitters import RecursiveCharacterTextSplitter"
   ]
  },
  {
   "cell_type": "code",
   "execution_count": 21,
   "metadata": {},
   "outputs": [
    {
     "data": {
      "text/plain": [
       "[Document(metadata={'source': 'https://blog.langchain.dev/langgraph-studio-the-first-agent-ide/', 'title': 'LangGraph Studio: The first agent IDE', 'description': 'LangGraph Studio provides a specialized agent IDE for visualizing, interacting with, and debugging complex agentic applications. See how to use it on your desktop today.', 'language': 'en'}, page_content=\"\\n\\n\\nLangGraph Studio: The first agent IDE\\n\\n\\n\\n\\n\\n\\n\\n\\n\\n\\n\\n\\n\\n\\n\\n\\n\\n\\n\\n\\n\\n\\n\\n\\n\\n\\n\\n\\n\\n\\n\\n\\n\\n\\n\\n\\n\\n\\n\\n\\n\\n\\n\\n\\n\\n\\n\\n\\n\\n\\nSkip to content\\n\\n\\n\\n\\n\\n\\n\\n\\n\\n\\n\\n\\n\\n\\n\\n\\nCase Studies\\n\\n\\n\\n\\nIn the Loop\\n\\n\\n\\n\\nLangChain\\n\\n\\n\\n\\nDocs\\n\\n\\n\\n\\nChangelog\\n\\n\\n\\n\\n\\nSign in\\nSubscribe\\n\\n\\n\\n\\n\\n\\n\\n\\n\\n\\n\\n\\n\\n\\n\\n\\n\\n\\n\\nLangGraph Studio: The first agent IDE\\nLangGraph Studio provides a specialized agent IDE for visualizing, interacting with, and debugging complex agentic applications. See how to use it on your desktop today.\\n\\n4 min read\\nAug 1, 2024\\n\\n\\n\\n\\n\\nLLMs have paved the way for the development of new types of agentic applications — and as LLM applications evolve, so must the tooling needed to efficiently develop them. Today, we're announcing LangGraph Studio - the first IDE designed specifically for agent development - in open beta.LangGraph Studio offers a new way to develop LLM applications, providing a specialized agent IDE for visualizing, interacting with, and debugging complex agentic applications. In this blog, we'll give a brief overview of LangGraph and then explore how LangGraph Studio streamlines the development of agentic applications.LangGraph: Balancing agent control with agency  In January 2023, we launched LangGraph, a highly controllable, low-level orchestration framework for building agentic applications. Since then, we've seen  teams build more complex agentic applications for production; in turn, we've heavily invested in LangGraph, leading to a stable 0.1 release this past June.LangGraph features a persistence layer that enables human-in-the-loop interactions, and it excels at building complex (i.e. more than a single LLM call) applications that require highly domain-specific cognitive architecture. Most of the agents we see in production fit this description.LangGraph is fully open source, available in both Python and Javascript. It works with or without LangChain, and integrates seamlessly with LangSmith.LangGraph Studio: Visualize and interact with agent graphs for quick iterationWhile LangGraph offers a new framework for developing agentic applications, we also strongly believe that new tooling is needed to make the development process easier. Building LLM applications differs from traditional software development, requiring different tooling outside of the traditional code editor.Coding is still important to developing LLM applications — after all, production-ready LangGraph applications have complicated custom logic in the nodes and edges of the graphs that are created. We don't aim to replace code editors but, instead, to augment the development experience with tools tailored for LangGraph applications. LangGraph Studio facilitates this by making it easy to visualize and interact with agent graphs, even if development still primarily happens in code. Visualizing graphs helps developers understand their structure. Furthermore, you can modify an agent result (or the logic underlying a specific node) halfway through the agent's trajectory. This creates an iterative process, by letting you interact with and manipulate the state at that point in time.While there is much more to explore, we're excited to introduce LangGraph Studio to start with bringing some of the core features of an agent IDE to the world.How to use LangGraph StudioLangGraph Studio is a desktop app, currently available for Apple Silicon. You can download a version here. Support for more platforms is coming soon.After you download and open LangGraph Studio, you will be prompted to log in with your LangSmith account. All users of LangSmith (including those with free accounts) currently have access to LangGraph Studio while it is in beta. You can sign up for a LangSmith account here.After downloading LangSmith, you can open a directory. At a bare minimum, this directory needs to contain a Python file with a graph defined in it. Next, you will need to create a langgraph.json file containing details such as where the agent is defined, which dependencies to install, and which environment variables to load. This file can be created in the UI, or can exist as a file in the directory already. For an example repository which meets these requirements, see this GitHub repo.After you open a directory, we will build an environment for you agent to run. After it builds, you should see a visualization of the graph along with a box for interacting with the agent.When you interact with the agent, you'll get a stream of real-time information about what steps are happening. You can see the agent decide which tools to call, call those tools, and then continue looping. You can interrupt the agent at any time if veers off course, or you can interrupt the agent to run it in a “debug mode” where it pauses after each step of the graph (so you can walk-through step by step).\\n\\n\\n\\n\\n\\n\\n\\n\\n\\n\\n\\n\\n\\n\\n\\n\\n\\n\\n\\n\\n\\n\\n0:00\\n\\n                            /0:19\\n\\n\\n1×\\n\\n\\n\\n\\n\\n\\n\\n\\n\\n\\n\\n\\n\\n\\n💡At any point, you can interact with the state of the agent.If you don’t like what the agent responded with at a specific step, you can directly modify the response and then continue with that new response. This can be useful for simulating what would have happened if the agent or a tool returned something different.\\n\\n\\n\\n\\n\\n\\n\\n\\n\\n\\n\\n\\n\\n\\n\\n\\n\\n\\n\\n\\n\\n\\n0:00\\n\\n                            /0:14\\n\\n\\n1×\\n\\n\\n\\n\\n\\n\\n\\n\\n\\n\\n\\n\\n\\n\\nYou can also modify the underlying code and then replay the node. LangGraph Studio detects changes to the underlying code files, allowing you to update prompts in your code editor and rerun nodes if an agent responds poorly. This can make it much easier to iterate on long-running agents.\\n\\n\\n\\n\\n\\n\\n\\n\\n\\n\\n\\n\\n\\n\\n\\n\\n\\n\\n\\n\\n\\n\\n0:00\\n\\n                            /0:20\\n\\n\\n1×\\n\\n\\n\\n\\n\\n\\n\\n\\n\\n\\n\\n\\n\\n\\nConclusionBuilding agentic applications differs from traditional software development. While code editors remain important, new IDEs designed for agents are also needed. LangGraph Studio is a step in this direction, and we're excited to see how it enhances your workflow.For more on LangGraph Studio, check out our documentation. You can also watch a video walkthrough on YouTube if that's more your style. You can\\xa0sign up for LangSmith\\xa0today to try out LangGraph Studio for free.We'd also love your feedback - drop us a line at hello@langchain.dev or on Twitter to share your thoughts.\\n\\n\\nJoin our newsletter\\nUpdates from the LangChain team and community\\n\\n\\nEnter your email\\n\\nSubscribe\\n\\nProcessing your application...\\nSuccess! Please check your inbox and click the link to confirm your subscription.\\nSorry, something went wrong. Please try again.\\n\\n\\n\\n\\n\\n\\n\\n\\n\\n\\n\\n\\n\\nSign up\\n\\n\\n\\n\\n\\n            © LangChain Blog 2025\\n        \\n\\n\\n\\n\\n\\n\\n\")]"
      ]
     },
     "execution_count": 21,
     "metadata": {},
     "output_type": "execute_result"
    }
   ],
   "source": [
    "loader=WebBaseLoader(\"https://blog.langchain.dev/langgraph-studio-the-first-agent-ide/\")\n",
    "docs=loader.load()\n",
    "docs"
   ]
  },
  {
   "cell_type": "code",
   "execution_count": 22,
   "metadata": {},
   "outputs": [
    {
     "data": {
      "text/plain": [
       "[Document(metadata={'source': 'https://blog.langchain.dev/langgraph-studio-the-first-agent-ide/', 'title': 'LangGraph Studio: The first agent IDE', 'description': 'LangGraph Studio provides a specialized agent IDE for visualizing, interacting with, and debugging complex agentic applications. See how to use it on your desktop today.', 'language': 'en'}, page_content='LangGraph Studio: The first agent IDE\\n\\n\\n\\n\\n\\n\\n\\n\\n\\n\\n\\n\\n\\n\\n\\n\\n\\n\\n\\n\\n\\n\\n\\n\\n\\n\\n\\n\\n\\n\\n\\n\\n\\n\\n\\n\\n\\n\\n\\n\\n\\n\\n\\n\\n\\n\\n\\n\\n\\n\\nSkip to content\\n\\n\\n\\n\\n\\n\\n\\n\\n\\n\\n\\n\\n\\n\\n\\n\\nCase Studies\\n\\n\\n\\n\\nIn the Loop\\n\\n\\n\\n\\nLangChain\\n\\n\\n\\n\\nDocs\\n\\n\\n\\n\\nChangelog\\n\\n\\n\\n\\n\\nSign in\\nSubscribe\\n\\n\\n\\n\\n\\n\\n\\n\\n\\n\\n\\n\\n\\n\\n\\n\\n\\n\\n\\nLangGraph Studio: The first agent IDE\\nLangGraph Studio provides a specialized agent IDE for visualizing, interacting with, and debugging complex agentic applications. See how to use it on your desktop today.\\n\\n4 min read\\nAug 1, 2024'),\n",
       " Document(metadata={'source': 'https://blog.langchain.dev/langgraph-studio-the-first-agent-ide/', 'title': 'LangGraph Studio: The first agent IDE', 'description': 'LangGraph Studio provides a specialized agent IDE for visualizing, interacting with, and debugging complex agentic applications. See how to use it on your desktop today.', 'language': 'en'}, page_content=\"LLMs have paved the way for the development of new types of agentic applications — and as LLM applications evolve, so must the tooling needed to efficiently develop them. Today, we're announcing LangGraph Studio - the first IDE designed specifically for agent development - in open beta.LangGraph Studio offers a new way to develop LLM applications, providing a specialized agent IDE for visualizing, interacting with, and debugging complex agentic applications. In this blog, we'll give a brief overview of LangGraph and then explore how LangGraph Studio streamlines the development of agentic applications.LangGraph: Balancing agent control with agency  In January 2023, we launched LangGraph, a highly controllable, low-level orchestration framework for building agentic applications. Since then, we've seen  teams build more complex agentic applications for production; in turn, we've heavily invested in LangGraph, leading to a stable 0.1 release this past June.LangGraph features a persistence\"),\n",
       " Document(metadata={'source': 'https://blog.langchain.dev/langgraph-studio-the-first-agent-ide/', 'title': 'LangGraph Studio: The first agent IDE', 'description': 'LangGraph Studio provides a specialized agent IDE for visualizing, interacting with, and debugging complex agentic applications. See how to use it on your desktop today.', 'language': 'en'}, page_content=\"for production; in turn, we've heavily invested in LangGraph, leading to a stable 0.1 release this past June.LangGraph features a persistence layer that enables human-in-the-loop interactions, and it excels at building complex (i.e. more than a single LLM call) applications that require highly domain-specific cognitive architecture. Most of the agents we see in production fit this description.LangGraph is fully open source, available in both Python and Javascript. It works with or without LangChain, and integrates seamlessly with LangSmith.LangGraph Studio: Visualize and interact with agent graphs for quick iterationWhile LangGraph offers a new framework for developing agentic applications, we also strongly believe that new tooling is needed to make the development process easier. Building LLM applications differs from traditional software development, requiring different tooling outside of the traditional code editor.Coding is still important to developing LLM applications — after\"),\n",
       " Document(metadata={'source': 'https://blog.langchain.dev/langgraph-studio-the-first-agent-ide/', 'title': 'LangGraph Studio: The first agent IDE', 'description': 'LangGraph Studio provides a specialized agent IDE for visualizing, interacting with, and debugging complex agentic applications. See how to use it on your desktop today.', 'language': 'en'}, page_content=\"development, requiring different tooling outside of the traditional code editor.Coding is still important to developing LLM applications — after all, production-ready LangGraph applications have complicated custom logic in the nodes and edges of the graphs that are created. We don't aim to replace code editors but, instead, to augment the development experience with tools tailored for LangGraph applications. LangGraph Studio facilitates this by making it easy to visualize and interact with agent graphs, even if development still primarily happens in code. Visualizing graphs helps developers understand their structure. Furthermore, you can modify an agent result (or the logic underlying a specific node) halfway through the agent's trajectory. This creates an iterative process, by letting you interact with and manipulate the state at that point in time.While there is much more to explore, we're excited to introduce LangGraph Studio to start with bringing some of the core features of an\"),\n",
       " Document(metadata={'source': 'https://blog.langchain.dev/langgraph-studio-the-first-agent-ide/', 'title': 'LangGraph Studio: The first agent IDE', 'description': 'LangGraph Studio provides a specialized agent IDE for visualizing, interacting with, and debugging complex agentic applications. See how to use it on your desktop today.', 'language': 'en'}, page_content=\"point in time.While there is much more to explore, we're excited to introduce LangGraph Studio to start with bringing some of the core features of an agent IDE to the world.How to use LangGraph StudioLangGraph Studio is a desktop app, currently available for Apple Silicon. You can download a version here. Support for more platforms is coming soon.After you download and open LangGraph Studio, you will be prompted to log in with your LangSmith account. All users of LangSmith (including those with free accounts) currently have access to LangGraph Studio while it is in beta. You can sign up for a LangSmith account here.After downloading LangSmith, you can open a directory. At a bare minimum, this directory needs to contain a Python file with a graph defined in it. Next, you will need to create a langgraph.json file containing details such as where the agent is defined, which dependencies to install, and which environment variables to load. This file can be created in the UI, or can exist\"),\n",
       " Document(metadata={'source': 'https://blog.langchain.dev/langgraph-studio-the-first-agent-ide/', 'title': 'LangGraph Studio: The first agent IDE', 'description': 'LangGraph Studio provides a specialized agent IDE for visualizing, interacting with, and debugging complex agentic applications. See how to use it on your desktop today.', 'language': 'en'}, page_content=\"where the agent is defined, which dependencies to install, and which environment variables to load. This file can be created in the UI, or can exist as a file in the directory already. For an example repository which meets these requirements, see this GitHub repo.After you open a directory, we will build an environment for you agent to run. After it builds, you should see a visualization of the graph along with a box for interacting with the agent.When you interact with the agent, you'll get a stream of real-time information about what steps are happening. You can see the agent decide which tools to call, call those tools, and then continue looping. You can interrupt the agent at any time if veers off course, or you can interrupt the agent to run it in a “debug mode” where it pauses after each step of the graph (so you can walk-through step by step).\"),\n",
       " Document(metadata={'source': 'https://blog.langchain.dev/langgraph-studio-the-first-agent-ide/', 'title': 'LangGraph Studio: The first agent IDE', 'description': 'LangGraph Studio provides a specialized agent IDE for visualizing, interacting with, and debugging complex agentic applications. See how to use it on your desktop today.', 'language': 'en'}, page_content='0:00\\n\\n                            /0:19\\n\\n\\n1×\\n\\n\\n\\n\\n\\n\\n\\n\\n\\n\\n\\n\\n\\n\\n💡At any point, you can interact with the state of the agent.If you don’t like what the agent responded with at a specific step, you can directly modify the response and then continue with that new response. This can be useful for simulating what would have happened if the agent or a tool returned something different.\\n\\n\\n\\n\\n\\n\\n\\n\\n\\n\\n\\n\\n\\n\\n\\n\\n\\n\\n\\n\\n\\n\\n0:00\\n\\n                            /0:14\\n\\n\\n1×\\n\\n\\n\\n\\n\\n\\n\\n\\n\\n\\n\\n\\n\\n\\nYou can also modify the underlying code and then replay the node. LangGraph Studio detects changes to the underlying code files, allowing you to update prompts in your code editor and rerun nodes if an agent responds poorly. This can make it much easier to iterate on long-running agents.\\n\\n\\n\\n\\n\\n\\n\\n\\n\\n\\n\\n\\n\\n\\n\\n\\n\\n\\n\\n\\n\\n\\n0:00\\n\\n                            /0:20\\n\\n\\n1×'),\n",
       " Document(metadata={'source': 'https://blog.langchain.dev/langgraph-studio-the-first-agent-ide/', 'title': 'LangGraph Studio: The first agent IDE', 'description': 'LangGraph Studio provides a specialized agent IDE for visualizing, interacting with, and debugging complex agentic applications. See how to use it on your desktop today.', 'language': 'en'}, page_content=\"0:00\\n\\n                            /0:20\\n\\n\\n1×\\n\\n\\n\\n\\n\\n\\n\\n\\n\\n\\n\\n\\n\\n\\nConclusionBuilding agentic applications differs from traditional software development. While code editors remain important, new IDEs designed for agents are also needed. LangGraph Studio is a step in this direction, and we're excited to see how it enhances your workflow.For more on LangGraph Studio, check out our documentation. You can also watch a video walkthrough on YouTube if that's more your style. You can\\xa0sign up for LangSmith\\xa0today to try out LangGraph Studio for free.We'd also love your feedback - drop us a line at hello@langchain.dev or on Twitter to share your thoughts.\\n\\n\\nJoin our newsletter\\nUpdates from the LangChain team and community\\n\\n\\nEnter your email\\n\\nSubscribe\\n\\nProcessing your application...\\nSuccess! Please check your inbox and click the link to confirm your subscription.\\nSorry, something went wrong. Please try again.\\n\\n\\n\\n\\n\\n\\n\\n\\n\\n\\n\\n\\n\\nSign up\\n\\n\\n\\n\\n\\n            © LangChain Blog 2025\"),\n",
       " Document(metadata={'source': 'https://blog.langchain.dev/langgraph-studio-the-first-agent-ide/', 'title': 'LangGraph Studio: The first agent IDE', 'description': 'LangGraph Studio provides a specialized agent IDE for visualizing, interacting with, and debugging complex agentic applications. See how to use it on your desktop today.', 'language': 'en'}, page_content='Sign up\\n\\n\\n\\n\\n\\n            © LangChain Blog 2025')]"
      ]
     },
     "execution_count": 22,
     "metadata": {},
     "output_type": "execute_result"
    }
   ],
   "source": [
    "documents=RecursiveCharacterTextSplitter(\n",
    "    chunk_size=1000,chunk_overlap=150,\n",
    ").split_documents(docs)\n",
    "documents"
   ]
  },
  {
   "cell_type": "code",
   "execution_count": 23,
   "metadata": {},
   "outputs": [],
   "source": [
    "vector=FAISS.from_documents(documents,embeddings)\n",
    "retriever=vector.as_retriever()"
   ]
  },
  {
   "cell_type": "code",
   "execution_count": 24,
   "metadata": {},
   "outputs": [
    {
     "data": {
      "text/plain": [
       "[Document(id='58023066-9305-48b7-9e5f-5024fe7a7bad', metadata={'source': 'https://blog.langchain.dev/langgraph-studio-the-first-agent-ide/', 'title': 'LangGraph Studio: The first agent IDE', 'description': 'LangGraph Studio provides a specialized agent IDE for visualizing, interacting with, and debugging complex agentic applications. See how to use it on your desktop today.', 'language': 'en'}, page_content=\"for production; in turn, we've heavily invested in LangGraph, leading to a stable 0.1 release this past June.LangGraph features a persistence layer that enables human-in-the-loop interactions, and it excels at building complex (i.e. more than a single LLM call) applications that require highly domain-specific cognitive architecture. Most of the agents we see in production fit this description.LangGraph is fully open source, available in both Python and Javascript. It works with or without LangChain, and integrates seamlessly with LangSmith.LangGraph Studio: Visualize and interact with agent graphs for quick iterationWhile LangGraph offers a new framework for developing agentic applications, we also strongly believe that new tooling is needed to make the development process easier. Building LLM applications differs from traditional software development, requiring different tooling outside of the traditional code editor.Coding is still important to developing LLM applications — after\"),\n",
       " Document(id='1ab2d4c9-8f0a-4713-93c6-51b9533ae557', metadata={'source': 'https://blog.langchain.dev/langgraph-studio-the-first-agent-ide/', 'title': 'LangGraph Studio: The first agent IDE', 'description': 'LangGraph Studio provides a specialized agent IDE for visualizing, interacting with, and debugging complex agentic applications. See how to use it on your desktop today.', 'language': 'en'}, page_content=\"LLMs have paved the way for the development of new types of agentic applications — and as LLM applications evolve, so must the tooling needed to efficiently develop them. Today, we're announcing LangGraph Studio - the first IDE designed specifically for agent development - in open beta.LangGraph Studio offers a new way to develop LLM applications, providing a specialized agent IDE for visualizing, interacting with, and debugging complex agentic applications. In this blog, we'll give a brief overview of LangGraph and then explore how LangGraph Studio streamlines the development of agentic applications.LangGraph: Balancing agent control with agency  In January 2023, we launched LangGraph, a highly controllable, low-level orchestration framework for building agentic applications. Since then, we've seen  teams build more complex agentic applications for production; in turn, we've heavily invested in LangGraph, leading to a stable 0.1 release this past June.LangGraph features a persistence\"),\n",
       " Document(id='62de2242-932d-43aa-aaee-7fe24e4ce35d', metadata={'source': 'https://blog.langchain.dev/langgraph-studio-the-first-agent-ide/', 'title': 'LangGraph Studio: The first agent IDE', 'description': 'LangGraph Studio provides a specialized agent IDE for visualizing, interacting with, and debugging complex agentic applications. See how to use it on your desktop today.', 'language': 'en'}, page_content=\"development, requiring different tooling outside of the traditional code editor.Coding is still important to developing LLM applications — after all, production-ready LangGraph applications have complicated custom logic in the nodes and edges of the graphs that are created. We don't aim to replace code editors but, instead, to augment the development experience with tools tailored for LangGraph applications. LangGraph Studio facilitates this by making it easy to visualize and interact with agent graphs, even if development still primarily happens in code. Visualizing graphs helps developers understand their structure. Furthermore, you can modify an agent result (or the logic underlying a specific node) halfway through the agent's trajectory. This creates an iterative process, by letting you interact with and manipulate the state at that point in time.While there is much more to explore, we're excited to introduce LangGraph Studio to start with bringing some of the core features of an\"),\n",
       " Document(id='04d33421-f302-404e-8498-3f479816a068', metadata={'source': 'https://blog.langchain.dev/langgraph-studio-the-first-agent-ide/', 'title': 'LangGraph Studio: The first agent IDE', 'description': 'LangGraph Studio provides a specialized agent IDE for visualizing, interacting with, and debugging complex agentic applications. See how to use it on your desktop today.', 'language': 'en'}, page_content=\"point in time.While there is much more to explore, we're excited to introduce LangGraph Studio to start with bringing some of the core features of an agent IDE to the world.How to use LangGraph StudioLangGraph Studio is a desktop app, currently available for Apple Silicon. You can download a version here. Support for more platforms is coming soon.After you download and open LangGraph Studio, you will be prompted to log in with your LangSmith account. All users of LangSmith (including those with free accounts) currently have access to LangGraph Studio while it is in beta. You can sign up for a LangSmith account here.After downloading LangSmith, you can open a directory. At a bare minimum, this directory needs to contain a Python file with a graph defined in it. Next, you will need to create a langgraph.json file containing details such as where the agent is defined, which dependencies to install, and which environment variables to load. This file can be created in the UI, or can exist\")]"
      ]
     },
     "execution_count": 24,
     "metadata": {},
     "output_type": "execute_result"
    }
   ],
   "source": [
    "retriever.invoke(\"What is langgraph\")"
   ]
  },
  {
   "cell_type": "code",
   "execution_count": 100,
   "metadata": {},
   "outputs": [],
   "source": [
    "from langchain.tools.retriever import create_retriever_tool\n",
    "retriever_tool=create_retriever_tool(\n",
    "    retriever,\n",
    "    \"langgraph_studio\",\n",
    "    \"Search for information about Langgraph Studio.For any question about Langgraph Studio, ypu must use this tool!\",\n",
    ")"
   ]
  },
  {
   "cell_type": "code",
   "execution_count": 101,
   "metadata": {},
   "outputs": [],
   "source": [
    "tools=[search,retriever_tool]"
   ]
  },
  {
   "cell_type": "code",
   "execution_count": 102,
   "metadata": {},
   "outputs": [],
   "source": [
    "from langchain.agents import create_tool_calling_agent\n",
    "agent=create_tool_calling_agent(llm,tools,prompt)"
   ]
  },
  {
   "cell_type": "code",
   "execution_count": 103,
   "metadata": {},
   "outputs": [],
   "source": [
    "from langchain.agents import AgentExecutor\n",
    "agent_executor=AgentExecutor(agent=agent,tools=tools,verbose=False)"
   ]
  },
  {
   "cell_type": "code",
   "execution_count": 104,
   "metadata": {},
   "outputs": [
    {
     "data": {
      "text/plain": [
       "{'input': 'Hii,what is langgraph studio',\n",
       " 'output': 'LangGraph Studio is the first IDE designed specifically for agent development, offering a way to visualize, interact with, and debug complex agentic applications. It is currently available as a desktop app for Apple Silicon and requires a LangSmith account to use. It helps developers understand the structure of their agent graphs, modify agent results, and iterate on their applications.'}"
      ]
     },
     "execution_count": 104,
     "metadata": {},
     "output_type": "execute_result"
    }
   ],
   "source": [
    "agent_executor.invoke({\"input\":\"Hii,what is langgraph studio\"})"
   ]
  },
  {
   "cell_type": "code",
   "execution_count": 105,
   "metadata": {},
   "outputs": [
    {
     "name": "stdout",
     "output_type": "stream",
     "text": [
      "The Line of Control (LoC) is a military control line between the Indian- and Pakistani-controlled parts of the former princely state of Jammu and Kashmir. It is not a legally recognized international boundary but serves as the de facto border. It was established as part of the Simla Agreement at the end of the Indo-Pakistani War of 1971.\n"
     ]
    }
   ],
   "source": [
    "print(agent_executor.invoke({\"input\":\"Waht is LoC Line of Control\"})['output'])"
   ]
  },
  {
   "cell_type": "code",
   "execution_count": null,
   "metadata": {},
   "outputs": [],
   "source": []
  },
  {
   "cell_type": "markdown",
   "metadata": {},
   "source": [
    "## ReAct(Reasoning & Action)\n",
    "### How it works:-\n",
    "- Agent retrieves the question \n",
    "- It reasons in natural language about how to solve it.\n",
    "- Based on its reasoning, it takes action.(e.g., searching a database,calculating something)\n",
    "- The results of these are integrated into its reasoning and trigger further actions.\n",
    "- It repeats the process until it arrives its solution.\n",
    "\n",
    "Combines thinking and doing (reasoning and action)\n",
    "Performs iterative steps, updating its process based on action results.\n",
    "Typically handles complex decision-making scenerios.\n",
    "\n",
    "![ReAct Agent](ReAct_Agent.gif)"
   ]
  },
  {
   "cell_type": "code",
   "execution_count": 32,
   "metadata": {},
   "outputs": [],
   "source": [
    "from langchain.utilities import GoogleSerperAPIWrapper\n",
    "from langchain.agents import Tool,AgentExecutor,create_react_agent\n",
    "from langchain_core.prompts import PromptTemplate"
   ]
  },
  {
   "cell_type": "code",
   "execution_count": 33,
   "metadata": {},
   "outputs": [],
   "source": [
    "google_search=GoogleSerperAPIWrapper()"
   ]
  },
  {
   "cell_type": "code",
   "execution_count": 34,
   "metadata": {},
   "outputs": [],
   "source": [
    "tools=[\n",
    "    Tool(\n",
    "        name=\"Web Answer by search\",\n",
    "        func=google_search.run,\n",
    "        description=\"useful for when you need to ask with search\",\n",
    "        verbose=True\n",
    "    )\n",
    "]"
   ]
  },
  {
   "cell_type": "code",
   "execution_count": 35,
   "metadata": {},
   "outputs": [],
   "source": [
    "template='''Answer the following question as best you can.You have access to the following tools:{tools}\n",
    "Use the following format:\n",
    "Question: the input question you must question\n",
    "Thought: you should always think about what to do\n",
    "Action: the action to take, should be one of [{tool_names}]\n",
    "Action Input: the input of the action\n",
    "Observation: the result of the action\n",
    ".... (this Thought/Action/Action Input/Observation can repeat N times)\n",
    "Thought: I now know the final answer\n",
    "Final Answer: the final answer to the original input question\n",
    "Begin!\n",
    "Question: {input}\n",
    "Thought: {agent_scratchpad}\n",
    "'''"
   ]
  },
  {
   "cell_type": "code",
   "execution_count": 36,
   "metadata": {},
   "outputs": [],
   "source": [
    "prompt=PromptTemplate.from_template(template)"
   ]
  },
  {
   "cell_type": "code",
   "execution_count": 37,
   "metadata": {},
   "outputs": [],
   "source": [
    "search_agent=create_react_agent(llm,tools,prompt)"
   ]
  },
  {
   "cell_type": "code",
   "execution_count": 38,
   "metadata": {},
   "outputs": [],
   "source": [
    "agent_executor=AgentExecutor(\n",
    "    agent=search_agent,\n",
    "    tools=tools,\n",
    "    verbose=True,\n",
    "    return_intermediate_steps=True,\n",
    ")"
   ]
  },
  {
   "cell_type": "code",
   "execution_count": 39,
   "metadata": {},
   "outputs": [
    {
     "name": "stdout",
     "output_type": "stream",
     "text": [
      "\n",
      "\n",
      "\u001b[1m> Entering new AgentExecutor chain...\u001b[0m\n"
     ]
    },
    {
     "name": "stderr",
     "output_type": "stream",
     "text": [
      "C:\\Users\\gyanb\\AppData\\Local\\Temp\\ipykernel_21672\\4197397583.py:1: LangChainDeprecationWarning: The method `Chain.__call__` was deprecated in langchain 0.1.0 and will be removed in 1.0. Use :meth:`~invoke` instead.\n",
      "  agent_executor({'input':\"Where is the home town of the 2024 T20 World Cup cricket winner captain and also tell its contribution with every match and its contribution in winning\"})\n"
     ]
    },
    {
     "name": "stdout",
     "output_type": "stream",
     "text": [
      "\u001b[32;1m\u001b[1;3mThought:  I need to know who won the 2024 T20 World Cup to answer this question.  \n",
      "Action: Web Answer by search\n",
      "Action Input: 2024 T20 World Cup winner\u001b[0m\u001b[36;1m\u001b[1;3mIndia won all their matches, and were the first team to win a T20 World Cup undefeated. They joined England and West Indies as the only teams to win the title ... Series result, India won the 2024 ICC Men's T20 World Cup ; Match number, T20I no. 2729 ; Match days, 29 June 2024 - day (20-over match) ; Umpires. New Zealand. In the second innings, South Africa managed to post a score of 169/8 thus India claimed the victory by 7 runs to win their second T20 World Cup title. Virat ... India script stunning title win | Match Highlights | SA v IND | T20WC 2024 Final ... ICC Men's T20 World Cup, 2024. Staten Island Cricket Club - ... The moment India clinched the ICC Men's T20 World Cup 2024 trophy · Comments1.8K. Winner. India. Matches. RESULT. Final, Bridgetown, June 29, 2024, ICC Men's T20 World Cup. IND Flag. IND. 176/7. SA Flag. SA. (20 ov, T:177) 169/8. India won by ... T20 World Cup 2024 Winner- India. India beats South Africa by 7 runs and lifts the India lifts ICC T20 World Cup 2024 for 2nd time after 2007. India achieved its first ICC trophy in 11 years by winning the 2024 T20 World Cup, defeating South Africa under Rohit Sharma's captaincy. The final – at the Kensington Oval in Barbados on 29 June – came to a nail-biting conclusion with India beating South Africa by seven runs to ... I was witness to tough men outpouring emotions after India triumphed over South Africa in Barbados. Here's my first reaction in the ...\u001b[0m\u001b[32;1m\u001b[1;3mThought: It seems India won the 2024 T20 World Cup. Now I need to find the home town of the captain and his contribution in the tournament.\n",
      "Action: Web Answer by search\n",
      "Action Input: Rohit Sharma hometown and contribution in 2024 T20 World Cup\u001b[0m\u001b[36;1m\u001b[1;3mIn May 2024, he was named as a captain in India's squad for the 2024 ICC Men's T20 World Cup tournament. In June 2024, during a match against Ireland, Rohit ... Full Name. Rohit Gurunath Sharma ; Born. April 30, 1987, Bansod, Nagpur, Maharashtra ; Age. 38y 10d ; Batting Style. Right hand Bat ; Bowling Style. Right arm ... Missing: hometown contribution. Sharma was born on April 30, 1987, in Bansod, Nagpur, in the state of Maharashtra, India. He first joined a cricket camp in 1999, when coach Dinesh Lad, a ... Rohit performed as a batsman(Tournaments best batsman) + Captain. You need to consider that Bumrah only contributed with bowling(Tournaments ... Missing: hometown | Show results with:hometown. In Bombay, it was all about the beyond Bandra schools and cricketers, but Rohit started that in the suburbs, and from there we all followed. Missing: hometown contribution. He also has the distinction of being the only player to score three ODI double-centuries and most recently also led India to back-to-back ICC trophies (the 2024 ... Missing: hometown contribution. Rohit Sharma, flag India, date of birth: 30/04/1987, role: Batter, batting style: Right Handed, bowling style: Off break. Missing: hometown contribution. Having represented India in 39 matches, he holds the record for the most appearances in the tournament, showcasing his enduring presence and stellar ... Missing: hometown | Show results with:hometown. He got off to a good start in his international career with crucial contributions in the T20 World Cup in 2007 and the CB Series in Australia. Missing: hometown | Show results with:hometown. Named the full-time skipper after the 2021 T20 World Cup, Rohit became the first captain to win 50 T20I matches. The 2024 T20 World Cup win was ... Missing: hometown | Show results with:hometown.\u001b[0m\u001b[32;1m\u001b[1;3mQuestion: Where is the home town of the 2024 T20 World Cup cricket winner captain and also tell its contribution with every match and its contribution in winning\n",
      "Thought:  I need to know who won the 2024 T20 World Cup to answer this question.  \n",
      "Action: Web Answer by search\n",
      "Action Input: 2024 T20 World Cup winner\u001b[0m\u001b[36;1m\u001b[1;3mIndia won all their matches, and were the first team to win a T20 World Cup undefeated. They joined England and West Indies as the only teams to win the title ... Series result, India won the 2024 ICC Men's T20 World Cup ; Match number, T20I no. 2729 ; Match days, 29 June 2024 - day (20-over match) ; Umpires. New Zealand. In the second innings, South Africa managed to post a score of 169/8 thus India claimed the victory by 7 runs to win their second T20 World Cup title. Virat ... India script stunning title win | Match Highlights | SA v IND | T20WC 2024 Final ... ICC Men's T20 World Cup, 2024. Staten Island Cricket Club - ... The moment India clinched the ICC Men's T20 World Cup 2024 trophy · Comments1.8K. Winner. India. Matches. RESULT. Final, Bridgetown, June 29, 2024, ICC Men's T20 World Cup. IND Flag. IND. 176/7. SA Flag. SA. (20 ov, T:177) 169/8. India won by ... T20 World Cup 2024 Winner- India. India beats South Africa by 7 runs and lifts the India lifts ICC T20 World Cup 2024 for 2nd time after 2007. India achieved its first ICC trophy in 11 years by winning the 2024 T20 World Cup, defeating South Africa under Rohit Sharma's captaincy. The final – at the Kensington Oval in Barbados on 29 June – came to a nail-biting conclusion with India beating South Africa by seven runs to ... I was witness to tough men outpouring emotions after India triumphed over South Africa in Barbados. Here's my first reaction in the ...\u001b[0m\u001b[32;1m\u001b[1;3mThought: It seems India won the 2024 T20 World Cup. Now I need to find the home town of the captain and his contribution in the tournament.\n",
      "Action: Web Answer by search\n",
      "Action Input: Rohit Sharma hometown and contribution in 2024 T20 World Cup\u001b[0m\u001b[36;1m\u001b[1;3mHe is the only Indian player to win two T20 World Cups. He became the second Indian captain to win a T20 World Cup. He has received two national honours, the ... In 2024, Rohit became the first men's player to appear in over 150 T20Is, though he announced his retirement from the format after India's T20 World Cup win. Missing: hometown contribution. Sharma was born on April 30, 1987, in Bansod, Nagpur, in the state of Maharashtra, India. He first joined a cricket camp in 1999, when coach Dinesh Lad, a ... Rohit performed as a batsman(Tournaments best batsman) + Captain. You need to consider that Bumrah only contributed with bowling(Tournaments ... Missing: hometown | Show results with:hometown. In Bombay, it was all about the beyond Bandra schools and cricketers, but Rohit started that in the suburbs, and from there we all followed. Missing: hometown contribution. He also has the distinction of being the only player to score three ODI double-centuries and most recently also led India to back-to-back ICC trophies (the 2024 ... Missing: hometown contribution. Rohit Sharma, flag India, date of birth: 30/04/1987, role: Batter, batting style: Right Handed, bowling style: Off break. Missing: hometown contribution. Having represented India in 39 matches, he holds the record for the most appearances in the tournament, showcasing his enduring presence and stellar ... Missing: hometown | Show results with:hometown. He got off to a good start in his international career with crucial contributions in the T20 World Cup in 2007 and the CB Series in Australia. Missing: hometown | Show results with:hometown. The ninth man made his international debut during the inaugural T20 World Cup, and played an important role in helping India win the trophy. Missing: hometown | Show results with:hometown.\u001b[0m\u001b[32;1m\u001b[1;3mQuestion: Where is the home town of the 2024 T20 World Cup cricket winner captain and also tell its contribution with every match and its contribution in winning\n",
      "Thought:  I need to know who won the 2024 T20 World Cup to answer this question.  \n",
      "Action: Web Answer by search\n",
      "Action Input: 2024 T20 World Cup winner\u001b[0m\u001b[36;1m\u001b[1;3mIndia won all their matches, and were the first team to win a T20 World Cup undefeated. They joined England and West Indies as the only teams to win the title ... Series result, India won the 2024 ICC Men's T20 World Cup ; Match number, T20I no. 2729 ; Match days, 29 June 2024 - day (20-over match) ; Umpires. New Zealand. In the second innings, South Africa managed to post a score of 169/8 thus India claimed the victory by 7 runs to win their second T20 World Cup title. Virat ... India script stunning title win | Match Highlights | SA v IND | T20WC 2024 Final ... ICC Men's T20 World Cup, 2024. Staten Island Cricket Club - ... The moment India clinched the ICC Men's T20 World Cup 2024 trophy · Comments1.8K. Winner. India. Matches. RESULT. Final, Bridgetown, June 29, 2024, ICC Men's T20 World Cup. IND Flag. IND. 176/7. SA Flag. SA. (20 ov, T:177) 169/8. India won by ... T20 World Cup 2024 Winner- India. India beats South Africa by 7 runs and lifts the India lifts ICC T20 World Cup 2024 for 2nd time after 2007. India achieved its first ICC trophy in 11 years by winning the 2024 T20 World Cup, defeating South Africa under Rohit Sharma's captaincy. The final – at the Kensington Oval in Barbados on 29 June – came to a nail-biting conclusion with India beating South Africa by seven runs to ... Between Kohli's vintage innings and Pandya's moment of redemption, Rohit's India end their long wait for a world title in Barbados.\u001b[0m\u001b[32;1m\u001b[1;3mThought: It seems India won the 2024 T20 World Cup. Now I need to find the home town of the captain and his contribution in the tournament.\n",
      "Action: Web Answer by search\n",
      "Action Input: Rohit Sharma hometown and contribution in 2024 T20 World Cup\u001b[0m\u001b[36;1m\u001b[1;3mIn May 2024, he was named as a captain in India's squad for the 2024 ICC Men's T20 World Cup tournament. In June 2024, during a match against Ireland, Rohit ... Full Name. Rohit Gurunath Sharma ; Born. April 30, 1987, Bansod, Nagpur, Maharashtra ; Age. 38y 10d ; Batting Style. Right hand Bat ; Bowling Style. Right arm ... Missing: hometown contribution. Sharma was born on April 30, 1987, in Bansod, Nagpur, in the state of Maharashtra, India. He first joined a cricket camp in 1999, when coach Dinesh Lad, a ... Rohit performed as a batsman(Tournaments best batsman) + Captain. You need to consider that Bumrah only contributed with bowling(Tournaments ... Missing: hometown | Show results with:hometown. In Bombay, it was all about the beyond Bandra schools and cricketers, but Rohit started that in the suburbs, and from there we all followed. Missing: hometown contribution. He also has the distinction of being the only player to score three ODI double-centuries and most recently also led India to back-to-back ICC trophies (the 2024 ... Missing: hometown contribution. Rohit Sharma, flag India, date of birth: 30/04/1987, role: Batter, batting style: Right Handed, bowling style: Off break. Missing: hometown contribution. Having represented India in 39 matches, he holds the record for the most appearances in the tournament, showcasing his enduring presence and stellar ... Missing: hometown | Show results with:hometown. He got off to a good start in his international career with crucial contributions in the T20 World Cup in 2007 and the CB Series in Australia. Missing: hometown | Show results with:hometown. Named the full-time skipper after the 2021 T20 World Cup, Rohit became the first captain to win 50 T20I matches. The 2024 T20 World Cup win was ... Missing: hometown | Show results with:hometown.\u001b[0m\u001b[32;1m\u001b[1;3mQuestion: Where is the home town of the 2024 T20 World Cup cricket winner captain and also tell its contribution with every match and its contribution in winning\n",
      "Thought:  I need to know who won the 2024 T20 World Cup to answer this question.  \n",
      "Action: Web Answer by search\n",
      "Action Input: 2024 T20 World Cup winner\u001b[0m\u001b[36;1m\u001b[1;3mIndia won all their matches, and were the first team to win a T20 World Cup undefeated. They joined England and West Indies as the only teams to win the title ... Series result, India won the 2024 ICC Men's T20 World Cup ; Match number, T20I no. 2729 ; Match days, 29 June 2024 - day (20-over match) ; Umpires. New Zealand. In the second innings, South Africa managed to post a score of 169/8 thus India claimed the victory by 7 runs to win their second T20 World Cup title. Virat ... India script stunning title win | Match Highlights | SA v IND | T20WC 2024 Final ... ICC Men's T20 World Cup, 2024. Staten Island Cricket Club - ... The moment India clinched the ICC Men's T20 World Cup 2024 trophy · Comments1.8K. Winner. India. Matches. RESULT. Final, Bridgetown, June 29, 2024, ICC Men's T20 World Cup. IND Flag. IND. 176/7. SA Flag. SA. (20 ov, T:177) 169/8. India won by ... T20 World Cup 2024 Winner- India. India beats South Africa by 7 runs and lifts the India lifts ICC T20 World Cup 2024 for 2nd time after 2007. India achieved its first ICC trophy in 11 years by winning the 2024 T20 World Cup, defeating South Africa under Rohit Sharma's captaincy. The final – at the Kensington Oval in Barbados on 29 June – came to a nail-biting conclusion with India beating South Africa by seven runs to ... I was witness to tough men outpouring emotions after India triumphed over South Africa in Barbados. Here's my first reaction in the ...\u001b[0m\u001b[32;1m\u001b[1;3mThought: It seems India won the 2024 T20 World Cup. Now I need to find the home town of the captain and his contribution in the tournament.\n",
      "Action: Web Answer by search\n",
      "Action Input: Rohit Sharma hometown and contribution in 2024 T20 World Cup\u001b[0m\u001b[36;1m\u001b[1;3mIn May 2024, he was named as a captain in India's squad for the 2024 ICC Men's T20 World Cup tournament. In June 2024, during a match against Ireland, Rohit ... Full Name. Rohit Gurunath Sharma ; Born. April 30, 1987, Bansod, Nagpur, Maharashtra ; Age. 38y 10d ; Batting Style. Right hand Bat ; Bowling Style. Right arm ... Missing: hometown contribution. Sharma was born on April 30, 1987, in Bansod, Nagpur, in the state of Maharashtra, India. He first joined a cricket camp in 1999, when coach Dinesh Lad, a ... Rohit performed as a batsman(Tournaments best batsman) + Captain. You need to consider that Bumrah only contributed with bowling(Tournaments ... Missing: hometown | Show results with:hometown. In Bombay, it was all about the beyond Bandra schools and cricketers, but Rohit started that in the suburbs, and from there we all followed. Missing: hometown contribution. He also has the distinction of being the only player to score three ODI double-centuries and most recently also led India to back-to-back ICC trophies (the 2024 ... Missing: hometown contribution. Rohit Sharma, flag India, date of birth: 30/04/1987, role: Batter, batting style: Right Handed, bowling style: Off break. Missing: hometown contribution. Having represented India in 39 matches, he holds the record for the most appearances in the tournament, showcasing his enduring presence and stellar ... Missing: hometown | Show results with:hometown. He got off to a good start in his international career with crucial contributions in the T20 World Cup in 2007 and the CB Series in Australia. Missing: hometown | Show results with:hometown. Named the full-time skipper after the 2021 T20 World Cup, Rohit became the first captain to win 50 T20I matches. The 2024 T20 World Cup win was ... Missing: hometown | Show results with:hometown.\u001b[0m\u001b[32;1m\u001b[1;3mThought: I now know the final answer\n",
      "Final Answer: The home town of the captain of the 2024 T20 World Cup winning team, Rohit Sharma, is Bansod, Nagpur, Maharashtra, India. Rohit Sharma was the captain of the winning team, India, and contributed as a batsman throughout the tournament. He led his team to victory in a nail-biting final against South Africa.  \n",
      "\n",
      "\n",
      "\n",
      "\n",
      "\n",
      "\u001b[0m\n",
      "\n",
      "\u001b[1m> Finished chain.\u001b[0m\n"
     ]
    },
    {
     "data": {
      "text/plain": [
       "{'input': 'Where is the home town of the 2024 T20 World Cup cricket winner captain and also tell its contribution with every match and its contribution in winning',\n",
       " 'output': 'The home town of the captain of the 2024 T20 World Cup winning team, Rohit Sharma, is Bansod, Nagpur, Maharashtra, India. Rohit Sharma was the captain of the winning team, India, and contributed as a batsman throughout the tournament. He led his team to victory in a nail-biting final against South Africa.',\n",
       " 'intermediate_steps': [(AgentAction(tool='Web Answer by search', tool_input='2024 T20 World Cup winner', log='Thought:  I need to know who won the 2024 T20 World Cup to answer this question.  \\nAction: Web Answer by search\\nAction Input: 2024 T20 World Cup winner'),\n",
       "   \"India won all their matches, and were the first team to win a T20 World Cup undefeated. They joined England and West Indies as the only teams to win the title ... Series result, India won the 2024 ICC Men's T20 World Cup ; Match number, T20I no. 2729 ; Match days, 29 June 2024 - day (20-over match) ; Umpires. New Zealand. In the second innings, South Africa managed to post a score of 169/8 thus India claimed the victory by 7 runs to win their second T20 World Cup title. Virat ... India script stunning title win | Match Highlights | SA v IND | T20WC 2024 Final ... ICC Men's T20 World Cup, 2024. Staten Island Cricket Club - ... The moment India clinched the ICC Men's T20 World Cup 2024 trophy · Comments1.8K. Winner. India. Matches. RESULT. Final, Bridgetown, June 29, 2024, ICC Men's T20 World Cup. IND Flag. IND. 176/7. SA Flag. SA. (20 ov, T:177) 169/8. India won by ... T20 World Cup 2024 Winner- India. India beats South Africa by 7 runs and lifts the India lifts ICC T20 World Cup 2024 for 2nd time after 2007. India achieved its first ICC trophy in 11 years by winning the 2024 T20 World Cup, defeating South Africa under Rohit Sharma's captaincy. The final – at the Kensington Oval in Barbados on 29 June – came to a nail-biting conclusion with India beating South Africa by seven runs to ... I was witness to tough men outpouring emotions after India triumphed over South Africa in Barbados. Here's my first reaction in the ...\"),\n",
       "  (AgentAction(tool='Web Answer by search', tool_input='Rohit Sharma hometown and contribution in 2024 T20 World Cup', log='Thought: It seems India won the 2024 T20 World Cup. Now I need to find the home town of the captain and his contribution in the tournament.\\nAction: Web Answer by search\\nAction Input: Rohit Sharma hometown and contribution in 2024 T20 World Cup'),\n",
       "   \"In May 2024, he was named as a captain in India's squad for the 2024 ICC Men's T20 World Cup tournament. In June 2024, during a match against Ireland, Rohit ... Full Name. Rohit Gurunath Sharma ; Born. April 30, 1987, Bansod, Nagpur, Maharashtra ; Age. 38y 10d ; Batting Style. Right hand Bat ; Bowling Style. Right arm ... Missing: hometown contribution. Sharma was born on April 30, 1987, in Bansod, Nagpur, in the state of Maharashtra, India. He first joined a cricket camp in 1999, when coach Dinesh Lad, a ... Rohit performed as a batsman(Tournaments best batsman) + Captain. You need to consider that Bumrah only contributed with bowling(Tournaments ... Missing: hometown | Show results with:hometown. In Bombay, it was all about the beyond Bandra schools and cricketers, but Rohit started that in the suburbs, and from there we all followed. Missing: hometown contribution. He also has the distinction of being the only player to score three ODI double-centuries and most recently also led India to back-to-back ICC trophies (the 2024 ... Missing: hometown contribution. Rohit Sharma, flag India, date of birth: 30/04/1987, role: Batter, batting style: Right Handed, bowling style: Off break. Missing: hometown contribution. Having represented India in 39 matches, he holds the record for the most appearances in the tournament, showcasing his enduring presence and stellar ... Missing: hometown | Show results with:hometown. He got off to a good start in his international career with crucial contributions in the T20 World Cup in 2007 and the CB Series in Australia. Missing: hometown | Show results with:hometown. Named the full-time skipper after the 2021 T20 World Cup, Rohit became the first captain to win 50 T20I matches. The 2024 T20 World Cup win was ... Missing: hometown | Show results with:hometown.\"),\n",
       "  (AgentAction(tool='Web Answer by search', tool_input='2024 T20 World Cup winner', log='Question: Where is the home town of the 2024 T20 World Cup cricket winner captain and also tell its contribution with every match and its contribution in winning\\nThought:  I need to know who won the 2024 T20 World Cup to answer this question.  \\nAction: Web Answer by search\\nAction Input: 2024 T20 World Cup winner'),\n",
       "   \"India won all their matches, and were the first team to win a T20 World Cup undefeated. They joined England and West Indies as the only teams to win the title ... Series result, India won the 2024 ICC Men's T20 World Cup ; Match number, T20I no. 2729 ; Match days, 29 June 2024 - day (20-over match) ; Umpires. New Zealand. In the second innings, South Africa managed to post a score of 169/8 thus India claimed the victory by 7 runs to win their second T20 World Cup title. Virat ... India script stunning title win | Match Highlights | SA v IND | T20WC 2024 Final ... ICC Men's T20 World Cup, 2024. Staten Island Cricket Club - ... The moment India clinched the ICC Men's T20 World Cup 2024 trophy · Comments1.8K. Winner. India. Matches. RESULT. Final, Bridgetown, June 29, 2024, ICC Men's T20 World Cup. IND Flag. IND. 176/7. SA Flag. SA. (20 ov, T:177) 169/8. India won by ... T20 World Cup 2024 Winner- India. India beats South Africa by 7 runs and lifts the India lifts ICC T20 World Cup 2024 for 2nd time after 2007. India achieved its first ICC trophy in 11 years by winning the 2024 T20 World Cup, defeating South Africa under Rohit Sharma's captaincy. The final – at the Kensington Oval in Barbados on 29 June – came to a nail-biting conclusion with India beating South Africa by seven runs to ... I was witness to tough men outpouring emotions after India triumphed over South Africa in Barbados. Here's my first reaction in the ...\"),\n",
       "  (AgentAction(tool='Web Answer by search', tool_input='Rohit Sharma hometown and contribution in 2024 T20 World Cup', log='Thought: It seems India won the 2024 T20 World Cup. Now I need to find the home town of the captain and his contribution in the tournament.\\nAction: Web Answer by search\\nAction Input: Rohit Sharma hometown and contribution in 2024 T20 World Cup'),\n",
       "   \"He is the only Indian player to win two T20 World Cups. He became the second Indian captain to win a T20 World Cup. He has received two national honours, the ... In 2024, Rohit became the first men's player to appear in over 150 T20Is, though he announced his retirement from the format after India's T20 World Cup win. Missing: hometown contribution. Sharma was born on April 30, 1987, in Bansod, Nagpur, in the state of Maharashtra, India. He first joined a cricket camp in 1999, when coach Dinesh Lad, a ... Rohit performed as a batsman(Tournaments best batsman) + Captain. You need to consider that Bumrah only contributed with bowling(Tournaments ... Missing: hometown | Show results with:hometown. In Bombay, it was all about the beyond Bandra schools and cricketers, but Rohit started that in the suburbs, and from there we all followed. Missing: hometown contribution. He also has the distinction of being the only player to score three ODI double-centuries and most recently also led India to back-to-back ICC trophies (the 2024 ... Missing: hometown contribution. Rohit Sharma, flag India, date of birth: 30/04/1987, role: Batter, batting style: Right Handed, bowling style: Off break. Missing: hometown contribution. Having represented India in 39 matches, he holds the record for the most appearances in the tournament, showcasing his enduring presence and stellar ... Missing: hometown | Show results with:hometown. He got off to a good start in his international career with crucial contributions in the T20 World Cup in 2007 and the CB Series in Australia. Missing: hometown | Show results with:hometown. The ninth man made his international debut during the inaugural T20 World Cup, and played an important role in helping India win the trophy. Missing: hometown | Show results with:hometown.\"),\n",
       "  (AgentAction(tool='Web Answer by search', tool_input='2024 T20 World Cup winner', log='Question: Where is the home town of the 2024 T20 World Cup cricket winner captain and also tell its contribution with every match and its contribution in winning\\nThought:  I need to know who won the 2024 T20 World Cup to answer this question.  \\nAction: Web Answer by search\\nAction Input: 2024 T20 World Cup winner'),\n",
       "   \"India won all their matches, and were the first team to win a T20 World Cup undefeated. They joined England and West Indies as the only teams to win the title ... Series result, India won the 2024 ICC Men's T20 World Cup ; Match number, T20I no. 2729 ; Match days, 29 June 2024 - day (20-over match) ; Umpires. New Zealand. In the second innings, South Africa managed to post a score of 169/8 thus India claimed the victory by 7 runs to win their second T20 World Cup title. Virat ... India script stunning title win | Match Highlights | SA v IND | T20WC 2024 Final ... ICC Men's T20 World Cup, 2024. Staten Island Cricket Club - ... The moment India clinched the ICC Men's T20 World Cup 2024 trophy · Comments1.8K. Winner. India. Matches. RESULT. Final, Bridgetown, June 29, 2024, ICC Men's T20 World Cup. IND Flag. IND. 176/7. SA Flag. SA. (20 ov, T:177) 169/8. India won by ... T20 World Cup 2024 Winner- India. India beats South Africa by 7 runs and lifts the India lifts ICC T20 World Cup 2024 for 2nd time after 2007. India achieved its first ICC trophy in 11 years by winning the 2024 T20 World Cup, defeating South Africa under Rohit Sharma's captaincy. The final – at the Kensington Oval in Barbados on 29 June – came to a nail-biting conclusion with India beating South Africa by seven runs to ... Between Kohli's vintage innings and Pandya's moment of redemption, Rohit's India end their long wait for a world title in Barbados.\"),\n",
       "  (AgentAction(tool='Web Answer by search', tool_input='Rohit Sharma hometown and contribution in 2024 T20 World Cup', log='Thought: It seems India won the 2024 T20 World Cup. Now I need to find the home town of the captain and his contribution in the tournament.\\nAction: Web Answer by search\\nAction Input: Rohit Sharma hometown and contribution in 2024 T20 World Cup'),\n",
       "   \"In May 2024, he was named as a captain in India's squad for the 2024 ICC Men's T20 World Cup tournament. In June 2024, during a match against Ireland, Rohit ... Full Name. Rohit Gurunath Sharma ; Born. April 30, 1987, Bansod, Nagpur, Maharashtra ; Age. 38y 10d ; Batting Style. Right hand Bat ; Bowling Style. Right arm ... Missing: hometown contribution. Sharma was born on April 30, 1987, in Bansod, Nagpur, in the state of Maharashtra, India. He first joined a cricket camp in 1999, when coach Dinesh Lad, a ... Rohit performed as a batsman(Tournaments best batsman) + Captain. You need to consider that Bumrah only contributed with bowling(Tournaments ... Missing: hometown | Show results with:hometown. In Bombay, it was all about the beyond Bandra schools and cricketers, but Rohit started that in the suburbs, and from there we all followed. Missing: hometown contribution. He also has the distinction of being the only player to score three ODI double-centuries and most recently also led India to back-to-back ICC trophies (the 2024 ... Missing: hometown contribution. Rohit Sharma, flag India, date of birth: 30/04/1987, role: Batter, batting style: Right Handed, bowling style: Off break. Missing: hometown contribution. Having represented India in 39 matches, he holds the record for the most appearances in the tournament, showcasing his enduring presence and stellar ... Missing: hometown | Show results with:hometown. He got off to a good start in his international career with crucial contributions in the T20 World Cup in 2007 and the CB Series in Australia. Missing: hometown | Show results with:hometown. Named the full-time skipper after the 2021 T20 World Cup, Rohit became the first captain to win 50 T20I matches. The 2024 T20 World Cup win was ... Missing: hometown | Show results with:hometown.\"),\n",
       "  (AgentAction(tool='Web Answer by search', tool_input='2024 T20 World Cup winner', log='Question: Where is the home town of the 2024 T20 World Cup cricket winner captain and also tell its contribution with every match and its contribution in winning\\nThought:  I need to know who won the 2024 T20 World Cup to answer this question.  \\nAction: Web Answer by search\\nAction Input: 2024 T20 World Cup winner'),\n",
       "   \"India won all their matches, and were the first team to win a T20 World Cup undefeated. They joined England and West Indies as the only teams to win the title ... Series result, India won the 2024 ICC Men's T20 World Cup ; Match number, T20I no. 2729 ; Match days, 29 June 2024 - day (20-over match) ; Umpires. New Zealand. In the second innings, South Africa managed to post a score of 169/8 thus India claimed the victory by 7 runs to win their second T20 World Cup title. Virat ... India script stunning title win | Match Highlights | SA v IND | T20WC 2024 Final ... ICC Men's T20 World Cup, 2024. Staten Island Cricket Club - ... The moment India clinched the ICC Men's T20 World Cup 2024 trophy · Comments1.8K. Winner. India. Matches. RESULT. Final, Bridgetown, June 29, 2024, ICC Men's T20 World Cup. IND Flag. IND. 176/7. SA Flag. SA. (20 ov, T:177) 169/8. India won by ... T20 World Cup 2024 Winner- India. India beats South Africa by 7 runs and lifts the India lifts ICC T20 World Cup 2024 for 2nd time after 2007. India achieved its first ICC trophy in 11 years by winning the 2024 T20 World Cup, defeating South Africa under Rohit Sharma's captaincy. The final – at the Kensington Oval in Barbados on 29 June – came to a nail-biting conclusion with India beating South Africa by seven runs to ... I was witness to tough men outpouring emotions after India triumphed over South Africa in Barbados. Here's my first reaction in the ...\"),\n",
       "  (AgentAction(tool='Web Answer by search', tool_input='Rohit Sharma hometown and contribution in 2024 T20 World Cup', log='Thought: It seems India won the 2024 T20 World Cup. Now I need to find the home town of the captain and his contribution in the tournament.\\nAction: Web Answer by search\\nAction Input: Rohit Sharma hometown and contribution in 2024 T20 World Cup'),\n",
       "   \"In May 2024, he was named as a captain in India's squad for the 2024 ICC Men's T20 World Cup tournament. In June 2024, during a match against Ireland, Rohit ... Full Name. Rohit Gurunath Sharma ; Born. April 30, 1987, Bansod, Nagpur, Maharashtra ; Age. 38y 10d ; Batting Style. Right hand Bat ; Bowling Style. Right arm ... Missing: hometown contribution. Sharma was born on April 30, 1987, in Bansod, Nagpur, in the state of Maharashtra, India. He first joined a cricket camp in 1999, when coach Dinesh Lad, a ... Rohit performed as a batsman(Tournaments best batsman) + Captain. You need to consider that Bumrah only contributed with bowling(Tournaments ... Missing: hometown | Show results with:hometown. In Bombay, it was all about the beyond Bandra schools and cricketers, but Rohit started that in the suburbs, and from there we all followed. Missing: hometown contribution. He also has the distinction of being the only player to score three ODI double-centuries and most recently also led India to back-to-back ICC trophies (the 2024 ... Missing: hometown contribution. Rohit Sharma, flag India, date of birth: 30/04/1987, role: Batter, batting style: Right Handed, bowling style: Off break. Missing: hometown contribution. Having represented India in 39 matches, he holds the record for the most appearances in the tournament, showcasing his enduring presence and stellar ... Missing: hometown | Show results with:hometown. He got off to a good start in his international career with crucial contributions in the T20 World Cup in 2007 and the CB Series in Australia. Missing: hometown | Show results with:hometown. Named the full-time skipper after the 2021 T20 World Cup, Rohit became the first captain to win 50 T20I matches. The 2024 T20 World Cup win was ... Missing: hometown | Show results with:hometown.\")]}"
      ]
     },
     "execution_count": 39,
     "metadata": {},
     "output_type": "execute_result"
    }
   ],
   "source": [
    "agent_executor({'input':\"Where is the home town of the 2024 T20 World Cup cricket winner captain and also tell its contribution with every match and its contribution in winning\"})"
   ]
  },
  {
   "cell_type": "code",
   "execution_count": 40,
   "metadata": {},
   "outputs": [
    {
     "name": "stdout",
     "output_type": "stream",
     "text": [
      "\n",
      "\n",
      "\u001b[1m> Entering new AgentExecutor chain...\u001b[0m\n",
      "\u001b[32;1m\u001b[1;3mThought:  This question asks about a fictional \"god of cricket\" and real-world cricket statistics.  It's likely a playful question.\n",
      "\n",
      "Thought: To answer the first part, I'll need to find information about a figure often called the \"God of Cricket\".  \n",
      "\n",
      "Action: Web Answer by search\n",
      "Action Input: Who is called the God of Cricket \u001b[0m\u001b[36;1m\u001b[1;3mFondly called the “God of Cricket” or “Master Blaster,” Sachin Tendulkar is considered one of the greatest batsmen of all time in the sport that is considered a national institution in India, cricket.\u001b[0m\u001b[32;1m\u001b[1;3mThought:  I know Sachin Tendulkar is referred to as the \"God of Cricket\". Now I need to find his cricket statistics.\n",
      "\n",
      "Action: Web Answer by search\n",
      "Action Input: Sachin Tendulkar ODI, Test, T20, IPL stats\u001b[0m\u001b[36;1m\u001b[1;3mAllround: Batting and bowling · 1000 runs and 100 wickets · 250 runs and 10 wickets in a series · A hundred and four wickets in an innings. Allround: Batting, ... Sachin Tendulkar Career Stats ; Tests, 200, 329 ; ODIs, 463, 452 ; T20Is, 1, 1 ; FC, 310, 490 ... Check out details of Sachin Tendulkar - Profile, Matches, IPL Stats for Batting, Bowling, Fielding, Total Matches and much more on IPL 2025. Missing: Test, | Show results with:Test,. INDIAN PREMIER LEAGUE ; 6s: 29 ; Balls Faced: 1948 ; Scoring Rate, 119.82 ; Opened Batting: 74 ; Top Scored in Innings: 21 ... In all, Tendulkar scored 215 runs at an average of 35.83 in the Test series, and was dismissed without scoring a run in the only One Day International (ODI) he ... ONE DAY INTERNATIONALS ; Balls Faced: 21367 ; Scoring Rate, 86.24 ; Opened Batting: 340 ; Top Scored in Innings: 129 ; % of Team Runs Scored: 17.89 ... Sachin Tendulkar IPL Stats ; Against Team: CSK ; Venue: Mumbai ; Batting Records. MAT. HS. INS. N/O · R · BF. 100s. 50s. 4s. 6s. AVG. S/R · Overall. 78. 100 vs KTK. Missing: ODI, Test,. Matches, Balls ; Tests, 200, 4240 ; ODI, 463, 8054 ; T20Is, 1, 15 ; IPL, 78, 36 ... Sachin led the Indian Test team in 25 matches, registering 4 wins, 9 losses, and 12 draws, resulting in a win percentage of 16%.\u001b[0m\u001b[32;1m\u001b[1;3mThought: I see that Sachin Tendulkar's stats are available across different formats, including his IPL stats.  I need to extract the specific scores for each format.\n",
      "\n",
      "Action: Web Answer by search\n",
      "Action Input: Sachin Tendulkar highest score in ODI, Test, T20, IPL\u001b[0m\u001b[36;1m\u001b[1;3mSachin Tendulkar Career Stats Format Mat HS Tests 200 248* ODIs 463 200* T20Is 1 10 FC 310 248*\u001b[0m\u001b[32;1m\u001b[1;3mThought: I now know the final answer\n",
      "Final Answer: Sachin Tendulkar is often called the \"God of Cricket\".  His highest scores in different formats are:\n",
      "\n",
      "* **Tests:** 248*\n",
      "* **ODIs:** 200*\n",
      "* **T20Is:** 10\n",
      "* **IPL:**  No specific highest score provided in the results. \n",
      "\n",
      "The last match Sachin Tendulkar played for India was against  **West Indies on November 16, 2013**. \n",
      "\n",
      "\n",
      "\u001b[0m\n",
      "\n",
      "\u001b[1m> Finished chain.\u001b[0m\n"
     ]
    },
    {
     "data": {
      "text/plain": [
       "{'input': ' Who is the god of cricket what is his heighest score in odis,test,t20, and ipl.Which is the last match palyed by him for his country.',\n",
       " 'output': 'Sachin Tendulkar is often called the \"God of Cricket\".  His highest scores in different formats are:\\n\\n* **Tests:** 248*\\n* **ODIs:** 200*\\n* **T20Is:** 10\\n* **IPL:**  No specific highest score provided in the results. \\n\\nThe last match Sachin Tendulkar played for India was against  **West Indies on November 16, 2013**.',\n",
       " 'intermediate_steps': [(AgentAction(tool='Web Answer by search', tool_input='Who is called the God of Cricket', log='Thought:  This question asks about a fictional \"god of cricket\" and real-world cricket statistics.  It\\'s likely a playful question.\\n\\nThought: To answer the first part, I\\'ll need to find information about a figure often called the \"God of Cricket\".  \\n\\nAction: Web Answer by search\\nAction Input: Who is called the God of Cricket '),\n",
       "   'Fondly called the “God of Cricket” or “Master Blaster,” Sachin Tendulkar is considered one of the greatest batsmen of all time in the sport that is considered a national institution in India, cricket.'),\n",
       "  (AgentAction(tool='Web Answer by search', tool_input='Sachin Tendulkar ODI, Test, T20, IPL stats', log='Thought:  I know Sachin Tendulkar is referred to as the \"God of Cricket\". Now I need to find his cricket statistics.\\n\\nAction: Web Answer by search\\nAction Input: Sachin Tendulkar ODI, Test, T20, IPL stats'),\n",
       "   'Allround: Batting and bowling · 1000 runs and 100 wickets · 250 runs and 10 wickets in a series · A hundred and four wickets in an innings. Allround: Batting, ... Sachin Tendulkar Career Stats ; Tests, 200, 329 ; ODIs, 463, 452 ; T20Is, 1, 1 ; FC, 310, 490 ... Check out details of Sachin Tendulkar - Profile, Matches, IPL Stats for Batting, Bowling, Fielding, Total Matches and much more on IPL 2025. Missing: Test, | Show results with:Test,. INDIAN PREMIER LEAGUE ; 6s: 29 ; Balls Faced: 1948 ; Scoring Rate, 119.82 ; Opened Batting: 74 ; Top Scored in Innings: 21 ... In all, Tendulkar scored 215 runs at an average of 35.83 in the Test series, and was dismissed without scoring a run in the only One Day International (ODI) he ... ONE DAY INTERNATIONALS ; Balls Faced: 21367 ; Scoring Rate, 86.24 ; Opened Batting: 340 ; Top Scored in Innings: 129 ; % of Team Runs Scored: 17.89 ... Sachin Tendulkar IPL Stats ; Against Team: CSK ; Venue: Mumbai ; Batting Records. MAT. HS. INS. N/O · R · BF. 100s. 50s. 4s. 6s. AVG. S/R · Overall. 78. 100 vs KTK. Missing: ODI, Test,. Matches, Balls ; Tests, 200, 4240 ; ODI, 463, 8054 ; T20Is, 1, 15 ; IPL, 78, 36 ... Sachin led the Indian Test team in 25 matches, registering 4 wins, 9 losses, and 12 draws, resulting in a win percentage of 16%.'),\n",
       "  (AgentAction(tool='Web Answer by search', tool_input='Sachin Tendulkar highest score in ODI, Test, T20, IPL', log=\"Thought: I see that Sachin Tendulkar's stats are available across different formats, including his IPL stats.  I need to extract the specific scores for each format.\\n\\nAction: Web Answer by search\\nAction Input: Sachin Tendulkar highest score in ODI, Test, T20, IPL\"),\n",
       "   'Sachin Tendulkar Career Stats Format Mat HS Tests 200 248* ODIs 463 200* T20Is 1 10 FC 310 248*')]}"
      ]
     },
     "execution_count": 40,
     "metadata": {},
     "output_type": "execute_result"
    }
   ],
   "source": [
    "agent_executor({'input':\" Who is the god of cricket what is his heighest score in odis,test,t20, and ipl.Which is the last match palyed by him for his country.\"})"
   ]
  },
  {
   "cell_type": "code",
   "execution_count": 50,
   "metadata": {},
   "outputs": [],
   "source": [
    "@tool\n",
    "def multiplication(a,b):\n",
    "    \"Multiply two numbers\"\n",
    "    return a*b"
   ]
  },
  {
   "cell_type": "code",
   "execution_count": 51,
   "metadata": {},
   "outputs": [],
   "source": [
    "@tool\n",
    "def addition(a,b):\n",
    "    \"Add two numbers\"\n",
    "    return a+b"
   ]
  },
  {
   "cell_type": "code",
   "execution_count": 52,
   "metadata": {},
   "outputs": [],
   "source": [
    "@tool\n",
    "def substraction(a,b):\n",
    "    \"Substract a from b\"\n",
    "    return a-b"
   ]
  },
  {
   "cell_type": "code",
   "execution_count": 53,
   "metadata": {},
   "outputs": [],
   "source": [
    "@tool\n",
    "def division(a,b):\n",
    "    \"Divide two numbers\"\n",
    "    return a/b"
   ]
  },
  {
   "cell_type": "code",
   "execution_count": 54,
   "metadata": {},
   "outputs": [],
   "source": [
    "@tool\n",
    "def modulas(a,b):\n",
    "    \"Remainder of two numbers\"\n",
    "    return a%b"
   ]
  },
  {
   "cell_type": "code",
   "execution_count": 55,
   "metadata": {},
   "outputs": [],
   "source": [
    "tools = [\n",
    "    Tool.from_function(\n",
    "        name=\"Addition\",\n",
    "        func=addition,\n",
    "        description=\"Useful for when you need to add two numbers. Input must be two numbers.\"\n",
    "    ),\n",
    "    Tool.from_function(\n",
    "        name=\"Subtraction\",\n",
    "        func=substraction,\n",
    "        description=\"Useful for when you need to subtract two numbers. Input must be two numbers.\"\n",
    "    ),\n",
    "    Tool.from_function(\n",
    "        name=\"Multiplication\",\n",
    "        func=multiplication,\n",
    "        description=\"Useful for when you need to multiply two numbers. Input must be two numbers.\"\n",
    "    ),\n",
    "    Tool.from_function(\n",
    "        name=\"Division\",\n",
    "        func=division,\n",
    "        description=\"Useful for when you need to divide two numbers. Input must be two numbers.\"\n",
    "    ),\n",
    "    Tool.from_function(\n",
    "        name=\"Remainder/Modulus\",\n",
    "        func=modulas,\n",
    "        description=\"Useful for when you need to find remainder of two numbers. Input must be two numbers.\"\n",
    "    ),\n",
    "]"
   ]
  },
  {
   "cell_type": "code",
   "execution_count": 56,
   "metadata": {},
   "outputs": [],
   "source": [
    "calculator_agent=create_react_agent(llm,tools,prompt)"
   ]
  },
  {
   "cell_type": "code",
   "execution_count": 57,
   "metadata": {},
   "outputs": [],
   "source": [
    "agent_executor=AgentExecutor(agent=calculator_agent,tools=tools,verbose=True)"
   ]
  },
  {
   "cell_type": "code",
   "execution_count": 58,
   "metadata": {},
   "outputs": [
    {
     "name": "stdout",
     "output_type": "stream",
     "text": [
      "\n",
      "\n",
      "\u001b[1m> Entering new AgentExecutor chain...\u001b[0m\n",
      "\u001b[32;1m\u001b[1;3mThought: I need to use the Multiplication tool.\n",
      "Action: Multiplication\n",
      "Action Input: 5 2\u001b[0m"
     ]
    },
    {
     "ename": "ValidationError",
     "evalue": "1 validation error for multiplication\nb\n  Field required [type=missing, input_value={'a': '5 2'}, input_type=dict]\n    For further information visit https://errors.pydantic.dev/2.11/v/missing",
     "output_type": "error",
     "traceback": [
      "\u001b[31m---------------------------------------------------------------------------\u001b[39m",
      "\u001b[31mValidationError\u001b[39m                           Traceback (most recent call last)",
      "\u001b[36mCell\u001b[39m\u001b[36m \u001b[39m\u001b[32mIn[58]\u001b[39m\u001b[32m, line 1\u001b[39m\n\u001b[32m----> \u001b[39m\u001b[32m1\u001b[39m \u001b[43magent_executor\u001b[49m\u001b[43m.\u001b[49m\u001b[43minvoke\u001b[49m\u001b[43m(\u001b[49m\u001b[43m{\u001b[49m\u001b[33;43m'\u001b[39;49m\u001b[33;43minput\u001b[39;49m\u001b[33;43m'\u001b[39;49m\u001b[43m:\u001b[49m\u001b[33;43m'\u001b[39;49m\u001b[33;43mMultiply a= 5 and b=2\u001b[39;49m\u001b[33;43m'\u001b[39;49m\u001b[43m}\u001b[49m\u001b[43m)\u001b[49m\n",
      "\u001b[36mFile \u001b[39m\u001b[32mc:\\Users\\gyanb\\OneDrive\\Desktop\\langgraph_agents\\.venv\\Lib\\site-packages\\langchain\\chains\\base.py:167\u001b[39m, in \u001b[36mChain.invoke\u001b[39m\u001b[34m(self, input, config, **kwargs)\u001b[39m\n\u001b[32m    165\u001b[39m \u001b[38;5;28;01mexcept\u001b[39;00m \u001b[38;5;167;01mBaseException\u001b[39;00m \u001b[38;5;28;01mas\u001b[39;00m e:\n\u001b[32m    166\u001b[39m     run_manager.on_chain_error(e)\n\u001b[32m--> \u001b[39m\u001b[32m167\u001b[39m     \u001b[38;5;28;01mraise\u001b[39;00m e\n\u001b[32m    168\u001b[39m run_manager.on_chain_end(outputs)\n\u001b[32m    170\u001b[39m \u001b[38;5;28;01mif\u001b[39;00m include_run_info:\n",
      "\u001b[36mFile \u001b[39m\u001b[32mc:\\Users\\gyanb\\OneDrive\\Desktop\\langgraph_agents\\.venv\\Lib\\site-packages\\langchain\\chains\\base.py:157\u001b[39m, in \u001b[36mChain.invoke\u001b[39m\u001b[34m(self, input, config, **kwargs)\u001b[39m\n\u001b[32m    154\u001b[39m \u001b[38;5;28;01mtry\u001b[39;00m:\n\u001b[32m    155\u001b[39m     \u001b[38;5;28mself\u001b[39m._validate_inputs(inputs)\n\u001b[32m    156\u001b[39m     outputs = (\n\u001b[32m--> \u001b[39m\u001b[32m157\u001b[39m         \u001b[38;5;28;43mself\u001b[39;49m\u001b[43m.\u001b[49m\u001b[43m_call\u001b[49m\u001b[43m(\u001b[49m\u001b[43minputs\u001b[49m\u001b[43m,\u001b[49m\u001b[43m \u001b[49m\u001b[43mrun_manager\u001b[49m\u001b[43m=\u001b[49m\u001b[43mrun_manager\u001b[49m\u001b[43m)\u001b[49m\n\u001b[32m    158\u001b[39m         \u001b[38;5;28;01mif\u001b[39;00m new_arg_supported\n\u001b[32m    159\u001b[39m         \u001b[38;5;28;01melse\u001b[39;00m \u001b[38;5;28mself\u001b[39m._call(inputs)\n\u001b[32m    160\u001b[39m     )\n\u001b[32m    162\u001b[39m     final_outputs: \u001b[38;5;28mdict\u001b[39m[\u001b[38;5;28mstr\u001b[39m, Any] = \u001b[38;5;28mself\u001b[39m.prep_outputs(\n\u001b[32m    163\u001b[39m         inputs, outputs, return_only_outputs\n\u001b[32m    164\u001b[39m     )\n\u001b[32m    165\u001b[39m \u001b[38;5;28;01mexcept\u001b[39;00m \u001b[38;5;167;01mBaseException\u001b[39;00m \u001b[38;5;28;01mas\u001b[39;00m e:\n",
      "\u001b[36mFile \u001b[39m\u001b[32mc:\\Users\\gyanb\\OneDrive\\Desktop\\langgraph_agents\\.venv\\Lib\\site-packages\\langchain\\agents\\agent.py:1620\u001b[39m, in \u001b[36mAgentExecutor._call\u001b[39m\u001b[34m(self, inputs, run_manager)\u001b[39m\n\u001b[32m   1618\u001b[39m \u001b[38;5;66;03m# We now enter the agent loop (until it returns something).\u001b[39;00m\n\u001b[32m   1619\u001b[39m \u001b[38;5;28;01mwhile\u001b[39;00m \u001b[38;5;28mself\u001b[39m._should_continue(iterations, time_elapsed):\n\u001b[32m-> \u001b[39m\u001b[32m1620\u001b[39m     next_step_output = \u001b[38;5;28;43mself\u001b[39;49m\u001b[43m.\u001b[49m\u001b[43m_take_next_step\u001b[49m\u001b[43m(\u001b[49m\n\u001b[32m   1621\u001b[39m \u001b[43m        \u001b[49m\u001b[43mname_to_tool_map\u001b[49m\u001b[43m,\u001b[49m\n\u001b[32m   1622\u001b[39m \u001b[43m        \u001b[49m\u001b[43mcolor_mapping\u001b[49m\u001b[43m,\u001b[49m\n\u001b[32m   1623\u001b[39m \u001b[43m        \u001b[49m\u001b[43minputs\u001b[49m\u001b[43m,\u001b[49m\n\u001b[32m   1624\u001b[39m \u001b[43m        \u001b[49m\u001b[43mintermediate_steps\u001b[49m\u001b[43m,\u001b[49m\n\u001b[32m   1625\u001b[39m \u001b[43m        \u001b[49m\u001b[43mrun_manager\u001b[49m\u001b[43m=\u001b[49m\u001b[43mrun_manager\u001b[49m\u001b[43m,\u001b[49m\n\u001b[32m   1626\u001b[39m \u001b[43m    \u001b[49m\u001b[43m)\u001b[49m\n\u001b[32m   1627\u001b[39m     \u001b[38;5;28;01mif\u001b[39;00m \u001b[38;5;28misinstance\u001b[39m(next_step_output, AgentFinish):\n\u001b[32m   1628\u001b[39m         \u001b[38;5;28;01mreturn\u001b[39;00m \u001b[38;5;28mself\u001b[39m._return(\n\u001b[32m   1629\u001b[39m             next_step_output, intermediate_steps, run_manager=run_manager\n\u001b[32m   1630\u001b[39m         )\n",
      "\u001b[36mFile \u001b[39m\u001b[32mc:\\Users\\gyanb\\OneDrive\\Desktop\\langgraph_agents\\.venv\\Lib\\site-packages\\langchain\\agents\\agent.py:1326\u001b[39m, in \u001b[36mAgentExecutor._take_next_step\u001b[39m\u001b[34m(self, name_to_tool_map, color_mapping, inputs, intermediate_steps, run_manager)\u001b[39m\n\u001b[32m   1317\u001b[39m \u001b[38;5;28;01mdef\u001b[39;00m\u001b[38;5;250m \u001b[39m\u001b[34m_take_next_step\u001b[39m(\n\u001b[32m   1318\u001b[39m     \u001b[38;5;28mself\u001b[39m,\n\u001b[32m   1319\u001b[39m     name_to_tool_map: \u001b[38;5;28mdict\u001b[39m[\u001b[38;5;28mstr\u001b[39m, BaseTool],\n\u001b[32m   (...)\u001b[39m\u001b[32m   1323\u001b[39m     run_manager: Optional[CallbackManagerForChainRun] = \u001b[38;5;28;01mNone\u001b[39;00m,\n\u001b[32m   1324\u001b[39m ) -> Union[AgentFinish, \u001b[38;5;28mlist\u001b[39m[\u001b[38;5;28mtuple\u001b[39m[AgentAction, \u001b[38;5;28mstr\u001b[39m]]]:\n\u001b[32m   1325\u001b[39m     \u001b[38;5;28;01mreturn\u001b[39;00m \u001b[38;5;28mself\u001b[39m._consume_next_step(\n\u001b[32m-> \u001b[39m\u001b[32m1326\u001b[39m         \u001b[43m[\u001b[49m\n\u001b[32m   1327\u001b[39m \u001b[43m            \u001b[49m\u001b[43ma\u001b[49m\n\u001b[32m   1328\u001b[39m \u001b[43m            \u001b[49m\u001b[38;5;28;43;01mfor\u001b[39;49;00m\u001b[43m \u001b[49m\u001b[43ma\u001b[49m\u001b[43m \u001b[49m\u001b[38;5;129;43;01min\u001b[39;49;00m\u001b[43m \u001b[49m\u001b[38;5;28;43mself\u001b[39;49m\u001b[43m.\u001b[49m\u001b[43m_iter_next_step\u001b[49m\u001b[43m(\u001b[49m\n\u001b[32m   1329\u001b[39m \u001b[43m                \u001b[49m\u001b[43mname_to_tool_map\u001b[49m\u001b[43m,\u001b[49m\n\u001b[32m   1330\u001b[39m \u001b[43m                \u001b[49m\u001b[43mcolor_mapping\u001b[49m\u001b[43m,\u001b[49m\n\u001b[32m   1331\u001b[39m \u001b[43m                \u001b[49m\u001b[43minputs\u001b[49m\u001b[43m,\u001b[49m\n\u001b[32m   1332\u001b[39m \u001b[43m                \u001b[49m\u001b[43mintermediate_steps\u001b[49m\u001b[43m,\u001b[49m\n\u001b[32m   1333\u001b[39m \u001b[43m                \u001b[49m\u001b[43mrun_manager\u001b[49m\u001b[43m,\u001b[49m\n\u001b[32m   1334\u001b[39m \u001b[43m            \u001b[49m\u001b[43m)\u001b[49m\n\u001b[32m   1335\u001b[39m \u001b[43m        \u001b[49m\u001b[43m]\u001b[49m\n\u001b[32m   1336\u001b[39m     )\n",
      "\u001b[36mFile \u001b[39m\u001b[32mc:\\Users\\gyanb\\OneDrive\\Desktop\\langgraph_agents\\.venv\\Lib\\site-packages\\langchain\\agents\\agent.py:1326\u001b[39m, in \u001b[36m<listcomp>\u001b[39m\u001b[34m(.0)\u001b[39m\n\u001b[32m   1317\u001b[39m \u001b[38;5;28;01mdef\u001b[39;00m\u001b[38;5;250m \u001b[39m\u001b[34m_take_next_step\u001b[39m(\n\u001b[32m   1318\u001b[39m     \u001b[38;5;28mself\u001b[39m,\n\u001b[32m   1319\u001b[39m     name_to_tool_map: \u001b[38;5;28mdict\u001b[39m[\u001b[38;5;28mstr\u001b[39m, BaseTool],\n\u001b[32m   (...)\u001b[39m\u001b[32m   1323\u001b[39m     run_manager: Optional[CallbackManagerForChainRun] = \u001b[38;5;28;01mNone\u001b[39;00m,\n\u001b[32m   1324\u001b[39m ) -> Union[AgentFinish, \u001b[38;5;28mlist\u001b[39m[\u001b[38;5;28mtuple\u001b[39m[AgentAction, \u001b[38;5;28mstr\u001b[39m]]]:\n\u001b[32m   1325\u001b[39m     \u001b[38;5;28;01mreturn\u001b[39;00m \u001b[38;5;28mself\u001b[39m._consume_next_step(\n\u001b[32m-> \u001b[39m\u001b[32m1326\u001b[39m         \u001b[43m[\u001b[49m\n\u001b[32m   1327\u001b[39m \u001b[43m            \u001b[49m\u001b[43ma\u001b[49m\n\u001b[32m   1328\u001b[39m \u001b[43m            \u001b[49m\u001b[38;5;28;43;01mfor\u001b[39;49;00m\u001b[43m \u001b[49m\u001b[43ma\u001b[49m\u001b[43m \u001b[49m\u001b[38;5;129;43;01min\u001b[39;49;00m\u001b[43m \u001b[49m\u001b[38;5;28;43mself\u001b[39;49m\u001b[43m.\u001b[49m\u001b[43m_iter_next_step\u001b[49m\u001b[43m(\u001b[49m\n\u001b[32m   1329\u001b[39m \u001b[43m                \u001b[49m\u001b[43mname_to_tool_map\u001b[49m\u001b[43m,\u001b[49m\n\u001b[32m   1330\u001b[39m \u001b[43m                \u001b[49m\u001b[43mcolor_mapping\u001b[49m\u001b[43m,\u001b[49m\n\u001b[32m   1331\u001b[39m \u001b[43m                \u001b[49m\u001b[43minputs\u001b[49m\u001b[43m,\u001b[49m\n\u001b[32m   1332\u001b[39m \u001b[43m                \u001b[49m\u001b[43mintermediate_steps\u001b[49m\u001b[43m,\u001b[49m\n\u001b[32m   1333\u001b[39m \u001b[43m                \u001b[49m\u001b[43mrun_manager\u001b[49m\u001b[43m,\u001b[49m\n\u001b[32m   1334\u001b[39m \u001b[43m            \u001b[49m\u001b[43m)\u001b[49m\n\u001b[32m   1335\u001b[39m \u001b[43m        \u001b[49m\u001b[43m]\u001b[49m\n\u001b[32m   1336\u001b[39m     )\n",
      "\u001b[36mFile \u001b[39m\u001b[32mc:\\Users\\gyanb\\OneDrive\\Desktop\\langgraph_agents\\.venv\\Lib\\site-packages\\langchain\\agents\\agent.py:1411\u001b[39m, in \u001b[36mAgentExecutor._iter_next_step\u001b[39m\u001b[34m(self, name_to_tool_map, color_mapping, inputs, intermediate_steps, run_manager)\u001b[39m\n\u001b[32m   1409\u001b[39m     \u001b[38;5;28;01myield\u001b[39;00m agent_action\n\u001b[32m   1410\u001b[39m \u001b[38;5;28;01mfor\u001b[39;00m agent_action \u001b[38;5;129;01min\u001b[39;00m actions:\n\u001b[32m-> \u001b[39m\u001b[32m1411\u001b[39m     \u001b[38;5;28;01myield\u001b[39;00m \u001b[38;5;28;43mself\u001b[39;49m\u001b[43m.\u001b[49m\u001b[43m_perform_agent_action\u001b[49m\u001b[43m(\u001b[49m\n\u001b[32m   1412\u001b[39m \u001b[43m        \u001b[49m\u001b[43mname_to_tool_map\u001b[49m\u001b[43m,\u001b[49m\u001b[43m \u001b[49m\u001b[43mcolor_mapping\u001b[49m\u001b[43m,\u001b[49m\u001b[43m \u001b[49m\u001b[43magent_action\u001b[49m\u001b[43m,\u001b[49m\u001b[43m \u001b[49m\u001b[43mrun_manager\u001b[49m\n\u001b[32m   1413\u001b[39m \u001b[43m    \u001b[49m\u001b[43m)\u001b[49m\n",
      "\u001b[36mFile \u001b[39m\u001b[32mc:\\Users\\gyanb\\OneDrive\\Desktop\\langgraph_agents\\.venv\\Lib\\site-packages\\langchain\\agents\\agent.py:1433\u001b[39m, in \u001b[36mAgentExecutor._perform_agent_action\u001b[39m\u001b[34m(self, name_to_tool_map, color_mapping, agent_action, run_manager)\u001b[39m\n\u001b[32m   1431\u001b[39m         tool_run_kwargs[\u001b[33m\"\u001b[39m\u001b[33mllm_prefix\u001b[39m\u001b[33m\"\u001b[39m] = \u001b[33m\"\u001b[39m\u001b[33m\"\u001b[39m\n\u001b[32m   1432\u001b[39m     \u001b[38;5;66;03m# We then call the tool on the tool input to get an observation\u001b[39;00m\n\u001b[32m-> \u001b[39m\u001b[32m1433\u001b[39m     observation = \u001b[43mtool\u001b[49m\u001b[43m.\u001b[49m\u001b[43mrun\u001b[49m\u001b[43m(\u001b[49m\n\u001b[32m   1434\u001b[39m \u001b[43m        \u001b[49m\u001b[43magent_action\u001b[49m\u001b[43m.\u001b[49m\u001b[43mtool_input\u001b[49m\u001b[43m,\u001b[49m\n\u001b[32m   1435\u001b[39m \u001b[43m        \u001b[49m\u001b[43mverbose\u001b[49m\u001b[43m=\u001b[49m\u001b[38;5;28;43mself\u001b[39;49m\u001b[43m.\u001b[49m\u001b[43mverbose\u001b[49m\u001b[43m,\u001b[49m\n\u001b[32m   1436\u001b[39m \u001b[43m        \u001b[49m\u001b[43mcolor\u001b[49m\u001b[43m=\u001b[49m\u001b[43mcolor\u001b[49m\u001b[43m,\u001b[49m\n\u001b[32m   1437\u001b[39m \u001b[43m        \u001b[49m\u001b[43mcallbacks\u001b[49m\u001b[43m=\u001b[49m\u001b[43mrun_manager\u001b[49m\u001b[43m.\u001b[49m\u001b[43mget_child\u001b[49m\u001b[43m(\u001b[49m\u001b[43m)\u001b[49m\u001b[43m \u001b[49m\u001b[38;5;28;43;01mif\u001b[39;49;00m\u001b[43m \u001b[49m\u001b[43mrun_manager\u001b[49m\u001b[43m \u001b[49m\u001b[38;5;28;43;01melse\u001b[39;49;00m\u001b[43m \u001b[49m\u001b[38;5;28;43;01mNone\u001b[39;49;00m\u001b[43m,\u001b[49m\n\u001b[32m   1438\u001b[39m \u001b[43m        \u001b[49m\u001b[43m*\u001b[49m\u001b[43m*\u001b[49m\u001b[43mtool_run_kwargs\u001b[49m\u001b[43m,\u001b[49m\n\u001b[32m   1439\u001b[39m \u001b[43m    \u001b[49m\u001b[43m)\u001b[49m\n\u001b[32m   1440\u001b[39m \u001b[38;5;28;01melse\u001b[39;00m:\n\u001b[32m   1441\u001b[39m     tool_run_kwargs = \u001b[38;5;28mself\u001b[39m._action_agent.tool_run_logging_kwargs()\n",
      "\u001b[36mFile \u001b[39m\u001b[32mc:\\Users\\gyanb\\OneDrive\\Desktop\\langgraph_agents\\.venv\\Lib\\site-packages\\langchain_core\\tools\\base.py:774\u001b[39m, in \u001b[36mBaseTool.run\u001b[39m\u001b[34m(self, tool_input, verbose, start_color, color, callbacks, tags, metadata, run_name, run_id, config, tool_call_id, **kwargs)\u001b[39m\n\u001b[32m    772\u001b[39m \u001b[38;5;28;01mif\u001b[39;00m error_to_raise:\n\u001b[32m    773\u001b[39m     run_manager.on_tool_error(error_to_raise)\n\u001b[32m--> \u001b[39m\u001b[32m774\u001b[39m     \u001b[38;5;28;01mraise\u001b[39;00m error_to_raise\n\u001b[32m    775\u001b[39m output = _format_output(content, artifact, tool_call_id, \u001b[38;5;28mself\u001b[39m.name, status)\n\u001b[32m    776\u001b[39m run_manager.on_tool_end(output, color=color, name=\u001b[38;5;28mself\u001b[39m.name, **kwargs)\n",
      "\u001b[36mFile \u001b[39m\u001b[32mc:\\Users\\gyanb\\OneDrive\\Desktop\\langgraph_agents\\.venv\\Lib\\site-packages\\langchain_core\\tools\\base.py:743\u001b[39m, in \u001b[36mBaseTool.run\u001b[39m\u001b[34m(self, tool_input, verbose, start_color, color, callbacks, tags, metadata, run_name, run_id, config, tool_call_id, **kwargs)\u001b[39m\n\u001b[32m    741\u001b[39m     \u001b[38;5;28;01mif\u001b[39;00m config_param := _get_runnable_config_param(\u001b[38;5;28mself\u001b[39m._run):\n\u001b[32m    742\u001b[39m         tool_kwargs = tool_kwargs | {config_param: config}\n\u001b[32m--> \u001b[39m\u001b[32m743\u001b[39m     response = \u001b[43mcontext\u001b[49m\u001b[43m.\u001b[49m\u001b[43mrun\u001b[49m\u001b[43m(\u001b[49m\u001b[38;5;28;43mself\u001b[39;49m\u001b[43m.\u001b[49m\u001b[43m_run\u001b[49m\u001b[43m,\u001b[49m\u001b[43m \u001b[49m\u001b[43m*\u001b[49m\u001b[43mtool_args\u001b[49m\u001b[43m,\u001b[49m\u001b[43m \u001b[49m\u001b[43m*\u001b[49m\u001b[43m*\u001b[49m\u001b[43mtool_kwargs\u001b[49m\u001b[43m)\u001b[49m\n\u001b[32m    744\u001b[39m \u001b[38;5;28;01mif\u001b[39;00m \u001b[38;5;28mself\u001b[39m.response_format == \u001b[33m\"\u001b[39m\u001b[33mcontent_and_artifact\u001b[39m\u001b[33m\"\u001b[39m:\n\u001b[32m    745\u001b[39m     \u001b[38;5;28;01mif\u001b[39;00m \u001b[38;5;129;01mnot\u001b[39;00m \u001b[38;5;28misinstance\u001b[39m(response, \u001b[38;5;28mtuple\u001b[39m) \u001b[38;5;129;01mor\u001b[39;00m \u001b[38;5;28mlen\u001b[39m(response) != \u001b[32m2\u001b[39m:\n",
      "\u001b[36mFile \u001b[39m\u001b[32mc:\\Users\\gyanb\\OneDrive\\Desktop\\langgraph_agents\\.venv\\Lib\\site-packages\\langchain_core\\tools\\simple.py:105\u001b[39m, in \u001b[36mTool._run\u001b[39m\u001b[34m(self, config, run_manager, *args, **kwargs)\u001b[39m\n\u001b[32m    103\u001b[39m     \u001b[38;5;28;01mif\u001b[39;00m config_param := _get_runnable_config_param(\u001b[38;5;28mself\u001b[39m.func):\n\u001b[32m    104\u001b[39m         kwargs[config_param] = config\n\u001b[32m--> \u001b[39m\u001b[32m105\u001b[39m     \u001b[38;5;28;01mreturn\u001b[39;00m \u001b[38;5;28;43mself\u001b[39;49m\u001b[43m.\u001b[49m\u001b[43mfunc\u001b[49m\u001b[43m(\u001b[49m\u001b[43m*\u001b[49m\u001b[43margs\u001b[49m\u001b[43m,\u001b[49m\u001b[43m \u001b[49m\u001b[43m*\u001b[49m\u001b[43m*\u001b[49m\u001b[43mkwargs\u001b[49m\u001b[43m)\u001b[49m\n\u001b[32m    106\u001b[39m msg = \u001b[33m\"\u001b[39m\u001b[33mTool does not support sync invocation.\u001b[39m\u001b[33m\"\u001b[39m\n\u001b[32m    107\u001b[39m \u001b[38;5;28;01mraise\u001b[39;00m \u001b[38;5;167;01mNotImplementedError\u001b[39;00m(msg)\n",
      "\u001b[36mFile \u001b[39m\u001b[32mc:\\Users\\gyanb\\OneDrive\\Desktop\\langgraph_agents\\.venv\\Lib\\site-packages\\langchain_core\\_api\\deprecation.py:191\u001b[39m, in \u001b[36mdeprecated.<locals>.deprecate.<locals>.warning_emitting_wrapper\u001b[39m\u001b[34m(*args, **kwargs)\u001b[39m\n\u001b[32m    189\u001b[39m     warned = \u001b[38;5;28;01mTrue\u001b[39;00m\n\u001b[32m    190\u001b[39m     emit_warning()\n\u001b[32m--> \u001b[39m\u001b[32m191\u001b[39m \u001b[38;5;28;01mreturn\u001b[39;00m \u001b[43mwrapped\u001b[49m\u001b[43m(\u001b[49m\u001b[43m*\u001b[49m\u001b[43margs\u001b[49m\u001b[43m,\u001b[49m\u001b[43m \u001b[49m\u001b[43m*\u001b[49m\u001b[43m*\u001b[49m\u001b[43mkwargs\u001b[49m\u001b[43m)\u001b[49m\n",
      "\u001b[36mFile \u001b[39m\u001b[32mc:\\Users\\gyanb\\OneDrive\\Desktop\\langgraph_agents\\.venv\\Lib\\site-packages\\langchain_core\\tools\\base.py:896\u001b[39m, in \u001b[36mBaseTool.__call__\u001b[39m\u001b[34m(self, tool_input, callbacks)\u001b[39m\n\u001b[32m    893\u001b[39m \u001b[38;5;129m@deprecated\u001b[39m(\u001b[33m\"\u001b[39m\u001b[33m0.1.47\u001b[39m\u001b[33m\"\u001b[39m, alternative=\u001b[33m\"\u001b[39m\u001b[33minvoke\u001b[39m\u001b[33m\"\u001b[39m, removal=\u001b[33m\"\u001b[39m\u001b[33m1.0\u001b[39m\u001b[33m\"\u001b[39m)\n\u001b[32m    894\u001b[39m \u001b[38;5;28;01mdef\u001b[39;00m\u001b[38;5;250m \u001b[39m\u001b[34m__call__\u001b[39m(\u001b[38;5;28mself\u001b[39m, tool_input: \u001b[38;5;28mstr\u001b[39m, callbacks: Callbacks = \u001b[38;5;28;01mNone\u001b[39;00m) -> \u001b[38;5;28mstr\u001b[39m:\n\u001b[32m    895\u001b[39m \u001b[38;5;250m    \u001b[39m\u001b[33;03m\"\"\"Make tool callable.\"\"\"\u001b[39;00m\n\u001b[32m--> \u001b[39m\u001b[32m896\u001b[39m     \u001b[38;5;28;01mreturn\u001b[39;00m \u001b[38;5;28;43mself\u001b[39;49m\u001b[43m.\u001b[49m\u001b[43mrun\u001b[49m\u001b[43m(\u001b[49m\u001b[43mtool_input\u001b[49m\u001b[43m,\u001b[49m\u001b[43m \u001b[49m\u001b[43mcallbacks\u001b[49m\u001b[43m=\u001b[49m\u001b[43mcallbacks\u001b[49m\u001b[43m)\u001b[49m\n",
      "\u001b[36mFile \u001b[39m\u001b[32mc:\\Users\\gyanb\\OneDrive\\Desktop\\langgraph_agents\\.venv\\Lib\\site-packages\\langchain_core\\tools\\base.py:774\u001b[39m, in \u001b[36mBaseTool.run\u001b[39m\u001b[34m(self, tool_input, verbose, start_color, color, callbacks, tags, metadata, run_name, run_id, config, tool_call_id, **kwargs)\u001b[39m\n\u001b[32m    772\u001b[39m \u001b[38;5;28;01mif\u001b[39;00m error_to_raise:\n\u001b[32m    773\u001b[39m     run_manager.on_tool_error(error_to_raise)\n\u001b[32m--> \u001b[39m\u001b[32m774\u001b[39m     \u001b[38;5;28;01mraise\u001b[39;00m error_to_raise\n\u001b[32m    775\u001b[39m output = _format_output(content, artifact, tool_call_id, \u001b[38;5;28mself\u001b[39m.name, status)\n\u001b[32m    776\u001b[39m run_manager.on_tool_end(output, color=color, name=\u001b[38;5;28mself\u001b[39m.name, **kwargs)\n",
      "\u001b[36mFile \u001b[39m\u001b[32mc:\\Users\\gyanb\\OneDrive\\Desktop\\langgraph_agents\\.venv\\Lib\\site-packages\\langchain_core\\tools\\base.py:736\u001b[39m, in \u001b[36mBaseTool.run\u001b[39m\u001b[34m(self, tool_input, verbose, start_color, color, callbacks, tags, metadata, run_name, run_id, config, tool_call_id, **kwargs)\u001b[39m\n\u001b[32m    734\u001b[39m child_config = patch_config(config, callbacks=run_manager.get_child())\n\u001b[32m    735\u001b[39m \u001b[38;5;28;01mwith\u001b[39;00m set_config_context(child_config) \u001b[38;5;28;01mas\u001b[39;00m context:\n\u001b[32m--> \u001b[39m\u001b[32m736\u001b[39m     tool_args, tool_kwargs = \u001b[38;5;28;43mself\u001b[39;49m\u001b[43m.\u001b[49m\u001b[43m_to_args_and_kwargs\u001b[49m\u001b[43m(\u001b[49m\n\u001b[32m    737\u001b[39m \u001b[43m        \u001b[49m\u001b[43mtool_input\u001b[49m\u001b[43m,\u001b[49m\u001b[43m \u001b[49m\u001b[43mtool_call_id\u001b[49m\n\u001b[32m    738\u001b[39m \u001b[43m    \u001b[49m\u001b[43m)\u001b[49m\n\u001b[32m    739\u001b[39m     \u001b[38;5;28;01mif\u001b[39;00m signature(\u001b[38;5;28mself\u001b[39m._run).parameters.get(\u001b[33m\"\u001b[39m\u001b[33mrun_manager\u001b[39m\u001b[33m\"\u001b[39m):\n\u001b[32m    740\u001b[39m         tool_kwargs = tool_kwargs | {\u001b[33m\"\u001b[39m\u001b[33mrun_manager\u001b[39m\u001b[33m\"\u001b[39m: run_manager}\n",
      "\u001b[36mFile \u001b[39m\u001b[32mc:\\Users\\gyanb\\OneDrive\\Desktop\\langgraph_agents\\.venv\\Lib\\site-packages\\langchain_core\\tools\\base.py:651\u001b[39m, in \u001b[36mBaseTool._to_args_and_kwargs\u001b[39m\u001b[34m(self, tool_input, tool_call_id)\u001b[39m\n\u001b[32m    643\u001b[39m \u001b[38;5;28;01mif\u001b[39;00m (\n\u001b[32m    644\u001b[39m     \u001b[38;5;28mself\u001b[39m.args_schema \u001b[38;5;129;01mis\u001b[39;00m \u001b[38;5;129;01mnot\u001b[39;00m \u001b[38;5;28;01mNone\u001b[39;00m\n\u001b[32m    645\u001b[39m     \u001b[38;5;129;01mand\u001b[39;00m \u001b[38;5;28misinstance\u001b[39m(\u001b[38;5;28mself\u001b[39m.args_schema, \u001b[38;5;28mtype\u001b[39m)\n\u001b[32m   (...)\u001b[39m\u001b[32m    648\u001b[39m ):\n\u001b[32m    649\u001b[39m     \u001b[38;5;66;03m# StructuredTool with no args\u001b[39;00m\n\u001b[32m    650\u001b[39m     \u001b[38;5;28;01mreturn\u001b[39;00m (), {}\n\u001b[32m--> \u001b[39m\u001b[32m651\u001b[39m tool_input = \u001b[38;5;28;43mself\u001b[39;49m\u001b[43m.\u001b[49m\u001b[43m_parse_input\u001b[49m\u001b[43m(\u001b[49m\u001b[43mtool_input\u001b[49m\u001b[43m,\u001b[49m\u001b[43m \u001b[49m\u001b[43mtool_call_id\u001b[49m\u001b[43m)\u001b[49m\n\u001b[32m    652\u001b[39m \u001b[38;5;66;03m# For backwards compatibility, if run_input is a string,\u001b[39;00m\n\u001b[32m    653\u001b[39m \u001b[38;5;66;03m# pass as a positional argument.\u001b[39;00m\n\u001b[32m    654\u001b[39m \u001b[38;5;28;01mif\u001b[39;00m \u001b[38;5;28misinstance\u001b[39m(tool_input, \u001b[38;5;28mstr\u001b[39m):\n",
      "\u001b[36mFile \u001b[39m\u001b[32mc:\\Users\\gyanb\\OneDrive\\Desktop\\langgraph_agents\\.venv\\Lib\\site-packages\\langchain_core\\tools\\base.py:547\u001b[39m, in \u001b[36mBaseTool._parse_input\u001b[39m\u001b[34m(self, tool_input, tool_call_id)\u001b[39m\n\u001b[32m    545\u001b[39m key_ = \u001b[38;5;28mnext\u001b[39m(\u001b[38;5;28miter\u001b[39m(get_fields(input_args).keys()))\n\u001b[32m    546\u001b[39m \u001b[38;5;28;01mif\u001b[39;00m \u001b[38;5;28mhasattr\u001b[39m(input_args, \u001b[33m\"\u001b[39m\u001b[33mmodel_validate\u001b[39m\u001b[33m\"\u001b[39m):\n\u001b[32m--> \u001b[39m\u001b[32m547\u001b[39m     \u001b[43minput_args\u001b[49m\u001b[43m.\u001b[49m\u001b[43mmodel_validate\u001b[49m\u001b[43m(\u001b[49m\u001b[43m{\u001b[49m\u001b[43mkey_\u001b[49m\u001b[43m:\u001b[49m\u001b[43m \u001b[49m\u001b[43mtool_input\u001b[49m\u001b[43m}\u001b[49m\u001b[43m)\u001b[49m\n\u001b[32m    548\u001b[39m \u001b[38;5;28;01melse\u001b[39;00m:\n\u001b[32m    549\u001b[39m     input_args.parse_obj({key_: tool_input})\n",
      "\u001b[36mFile \u001b[39m\u001b[32mc:\\Users\\gyanb\\OneDrive\\Desktop\\langgraph_agents\\.venv\\Lib\\site-packages\\pydantic\\main.py:703\u001b[39m, in \u001b[36mBaseModel.model_validate\u001b[39m\u001b[34m(cls, obj, strict, from_attributes, context, by_alias, by_name)\u001b[39m\n\u001b[32m    697\u001b[39m \u001b[38;5;28;01mif\u001b[39;00m by_alias \u001b[38;5;129;01mis\u001b[39;00m \u001b[38;5;28;01mFalse\u001b[39;00m \u001b[38;5;129;01mand\u001b[39;00m by_name \u001b[38;5;129;01mis\u001b[39;00m \u001b[38;5;129;01mnot\u001b[39;00m \u001b[38;5;28;01mTrue\u001b[39;00m:\n\u001b[32m    698\u001b[39m     \u001b[38;5;28;01mraise\u001b[39;00m PydanticUserError(\n\u001b[32m    699\u001b[39m         \u001b[33m'\u001b[39m\u001b[33mAt least one of `by_alias` or `by_name` must be set to True.\u001b[39m\u001b[33m'\u001b[39m,\n\u001b[32m    700\u001b[39m         code=\u001b[33m'\u001b[39m\u001b[33mvalidate-by-alias-and-name-false\u001b[39m\u001b[33m'\u001b[39m,\n\u001b[32m    701\u001b[39m     )\n\u001b[32m--> \u001b[39m\u001b[32m703\u001b[39m \u001b[38;5;28;01mreturn\u001b[39;00m \u001b[38;5;28;43mcls\u001b[39;49m\u001b[43m.\u001b[49m\u001b[43m__pydantic_validator__\u001b[49m\u001b[43m.\u001b[49m\u001b[43mvalidate_python\u001b[49m\u001b[43m(\u001b[49m\n\u001b[32m    704\u001b[39m \u001b[43m    \u001b[49m\u001b[43mobj\u001b[49m\u001b[43m,\u001b[49m\u001b[43m \u001b[49m\u001b[43mstrict\u001b[49m\u001b[43m=\u001b[49m\u001b[43mstrict\u001b[49m\u001b[43m,\u001b[49m\u001b[43m \u001b[49m\u001b[43mfrom_attributes\u001b[49m\u001b[43m=\u001b[49m\u001b[43mfrom_attributes\u001b[49m\u001b[43m,\u001b[49m\u001b[43m \u001b[49m\u001b[43mcontext\u001b[49m\u001b[43m=\u001b[49m\u001b[43mcontext\u001b[49m\u001b[43m,\u001b[49m\u001b[43m \u001b[49m\u001b[43mby_alias\u001b[49m\u001b[43m=\u001b[49m\u001b[43mby_alias\u001b[49m\u001b[43m,\u001b[49m\u001b[43m \u001b[49m\u001b[43mby_name\u001b[49m\u001b[43m=\u001b[49m\u001b[43mby_name\u001b[49m\n\u001b[32m    705\u001b[39m \u001b[43m\u001b[49m\u001b[43m)\u001b[49m\n",
      "\u001b[31mValidationError\u001b[39m: 1 validation error for multiplication\nb\n  Field required [type=missing, input_value={'a': '5 2'}, input_type=dict]\n    For further information visit https://errors.pydantic.dev/2.11/v/missing"
     ]
    }
   ],
   "source": [
    "agent_executor.invoke({'input':'Multiply a= 5 and b=2'})"
   ]
  },
  {
   "cell_type": "code",
   "execution_count": 59,
   "metadata": {},
   "outputs": [
    {
     "name": "stdout",
     "output_type": "stream",
     "text": [
      "\n",
      "\n",
      "\u001b[1m> Entering new AgentExecutor chain...\u001b[0m\n",
      "\u001b[32;1m\u001b[1;3mThought:  We need to follow the order of operations (PEMDAS/BODMAS) to solve this: Multiplication and Division first, then Addition and Subtraction.\n",
      "\n",
      "Action: Multiplication\n",
      "Action Input: 5 * 36\u001b[0m"
     ]
    },
    {
     "ename": "ValidationError",
     "evalue": "1 validation error for multiplication\nb\n  Field required [type=missing, input_value={'a': '5 * 36'}, input_type=dict]\n    For further information visit https://errors.pydantic.dev/2.11/v/missing",
     "output_type": "error",
     "traceback": [
      "\u001b[31m---------------------------------------------------------------------------\u001b[39m",
      "\u001b[31mValidationError\u001b[39m                           Traceback (most recent call last)",
      "\u001b[36mCell\u001b[39m\u001b[36m \u001b[39m\u001b[32mIn[59]\u001b[39m\u001b[32m, line 1\u001b[39m\n\u001b[32m----> \u001b[39m\u001b[32m1\u001b[39m \u001b[43magent_executor\u001b[49m\u001b[43m.\u001b[49m\u001b[43minvoke\u001b[49m\u001b[43m(\u001b[49m\u001b[43m{\u001b[49m\u001b[33;43m'\u001b[39;49m\u001b[33;43minput\u001b[39;49m\u001b[33;43m'\u001b[39;49m\u001b[43m:\u001b[49m\u001b[33;43m'\u001b[39;49m\u001b[33;43mValue of 2+5*36/6-7+2\u001b[39;49m\u001b[33;43m'\u001b[39;49m\u001b[43m}\u001b[49m\u001b[43m)\u001b[49m\n",
      "\u001b[36mFile \u001b[39m\u001b[32mc:\\Users\\gyanb\\OneDrive\\Desktop\\langgraph_agents\\.venv\\Lib\\site-packages\\langchain\\chains\\base.py:167\u001b[39m, in \u001b[36mChain.invoke\u001b[39m\u001b[34m(self, input, config, **kwargs)\u001b[39m\n\u001b[32m    165\u001b[39m \u001b[38;5;28;01mexcept\u001b[39;00m \u001b[38;5;167;01mBaseException\u001b[39;00m \u001b[38;5;28;01mas\u001b[39;00m e:\n\u001b[32m    166\u001b[39m     run_manager.on_chain_error(e)\n\u001b[32m--> \u001b[39m\u001b[32m167\u001b[39m     \u001b[38;5;28;01mraise\u001b[39;00m e\n\u001b[32m    168\u001b[39m run_manager.on_chain_end(outputs)\n\u001b[32m    170\u001b[39m \u001b[38;5;28;01mif\u001b[39;00m include_run_info:\n",
      "\u001b[36mFile \u001b[39m\u001b[32mc:\\Users\\gyanb\\OneDrive\\Desktop\\langgraph_agents\\.venv\\Lib\\site-packages\\langchain\\chains\\base.py:157\u001b[39m, in \u001b[36mChain.invoke\u001b[39m\u001b[34m(self, input, config, **kwargs)\u001b[39m\n\u001b[32m    154\u001b[39m \u001b[38;5;28;01mtry\u001b[39;00m:\n\u001b[32m    155\u001b[39m     \u001b[38;5;28mself\u001b[39m._validate_inputs(inputs)\n\u001b[32m    156\u001b[39m     outputs = (\n\u001b[32m--> \u001b[39m\u001b[32m157\u001b[39m         \u001b[38;5;28;43mself\u001b[39;49m\u001b[43m.\u001b[49m\u001b[43m_call\u001b[49m\u001b[43m(\u001b[49m\u001b[43minputs\u001b[49m\u001b[43m,\u001b[49m\u001b[43m \u001b[49m\u001b[43mrun_manager\u001b[49m\u001b[43m=\u001b[49m\u001b[43mrun_manager\u001b[49m\u001b[43m)\u001b[49m\n\u001b[32m    158\u001b[39m         \u001b[38;5;28;01mif\u001b[39;00m new_arg_supported\n\u001b[32m    159\u001b[39m         \u001b[38;5;28;01melse\u001b[39;00m \u001b[38;5;28mself\u001b[39m._call(inputs)\n\u001b[32m    160\u001b[39m     )\n\u001b[32m    162\u001b[39m     final_outputs: \u001b[38;5;28mdict\u001b[39m[\u001b[38;5;28mstr\u001b[39m, Any] = \u001b[38;5;28mself\u001b[39m.prep_outputs(\n\u001b[32m    163\u001b[39m         inputs, outputs, return_only_outputs\n\u001b[32m    164\u001b[39m     )\n\u001b[32m    165\u001b[39m \u001b[38;5;28;01mexcept\u001b[39;00m \u001b[38;5;167;01mBaseException\u001b[39;00m \u001b[38;5;28;01mas\u001b[39;00m e:\n",
      "\u001b[36mFile \u001b[39m\u001b[32mc:\\Users\\gyanb\\OneDrive\\Desktop\\langgraph_agents\\.venv\\Lib\\site-packages\\langchain\\agents\\agent.py:1620\u001b[39m, in \u001b[36mAgentExecutor._call\u001b[39m\u001b[34m(self, inputs, run_manager)\u001b[39m\n\u001b[32m   1618\u001b[39m \u001b[38;5;66;03m# We now enter the agent loop (until it returns something).\u001b[39;00m\n\u001b[32m   1619\u001b[39m \u001b[38;5;28;01mwhile\u001b[39;00m \u001b[38;5;28mself\u001b[39m._should_continue(iterations, time_elapsed):\n\u001b[32m-> \u001b[39m\u001b[32m1620\u001b[39m     next_step_output = \u001b[38;5;28;43mself\u001b[39;49m\u001b[43m.\u001b[49m\u001b[43m_take_next_step\u001b[49m\u001b[43m(\u001b[49m\n\u001b[32m   1621\u001b[39m \u001b[43m        \u001b[49m\u001b[43mname_to_tool_map\u001b[49m\u001b[43m,\u001b[49m\n\u001b[32m   1622\u001b[39m \u001b[43m        \u001b[49m\u001b[43mcolor_mapping\u001b[49m\u001b[43m,\u001b[49m\n\u001b[32m   1623\u001b[39m \u001b[43m        \u001b[49m\u001b[43minputs\u001b[49m\u001b[43m,\u001b[49m\n\u001b[32m   1624\u001b[39m \u001b[43m        \u001b[49m\u001b[43mintermediate_steps\u001b[49m\u001b[43m,\u001b[49m\n\u001b[32m   1625\u001b[39m \u001b[43m        \u001b[49m\u001b[43mrun_manager\u001b[49m\u001b[43m=\u001b[49m\u001b[43mrun_manager\u001b[49m\u001b[43m,\u001b[49m\n\u001b[32m   1626\u001b[39m \u001b[43m    \u001b[49m\u001b[43m)\u001b[49m\n\u001b[32m   1627\u001b[39m     \u001b[38;5;28;01mif\u001b[39;00m \u001b[38;5;28misinstance\u001b[39m(next_step_output, AgentFinish):\n\u001b[32m   1628\u001b[39m         \u001b[38;5;28;01mreturn\u001b[39;00m \u001b[38;5;28mself\u001b[39m._return(\n\u001b[32m   1629\u001b[39m             next_step_output, intermediate_steps, run_manager=run_manager\n\u001b[32m   1630\u001b[39m         )\n",
      "\u001b[36mFile \u001b[39m\u001b[32mc:\\Users\\gyanb\\OneDrive\\Desktop\\langgraph_agents\\.venv\\Lib\\site-packages\\langchain\\agents\\agent.py:1326\u001b[39m, in \u001b[36mAgentExecutor._take_next_step\u001b[39m\u001b[34m(self, name_to_tool_map, color_mapping, inputs, intermediate_steps, run_manager)\u001b[39m\n\u001b[32m   1317\u001b[39m \u001b[38;5;28;01mdef\u001b[39;00m\u001b[38;5;250m \u001b[39m\u001b[34m_take_next_step\u001b[39m(\n\u001b[32m   1318\u001b[39m     \u001b[38;5;28mself\u001b[39m,\n\u001b[32m   1319\u001b[39m     name_to_tool_map: \u001b[38;5;28mdict\u001b[39m[\u001b[38;5;28mstr\u001b[39m, BaseTool],\n\u001b[32m   (...)\u001b[39m\u001b[32m   1323\u001b[39m     run_manager: Optional[CallbackManagerForChainRun] = \u001b[38;5;28;01mNone\u001b[39;00m,\n\u001b[32m   1324\u001b[39m ) -> Union[AgentFinish, \u001b[38;5;28mlist\u001b[39m[\u001b[38;5;28mtuple\u001b[39m[AgentAction, \u001b[38;5;28mstr\u001b[39m]]]:\n\u001b[32m   1325\u001b[39m     \u001b[38;5;28;01mreturn\u001b[39;00m \u001b[38;5;28mself\u001b[39m._consume_next_step(\n\u001b[32m-> \u001b[39m\u001b[32m1326\u001b[39m         \u001b[43m[\u001b[49m\n\u001b[32m   1327\u001b[39m \u001b[43m            \u001b[49m\u001b[43ma\u001b[49m\n\u001b[32m   1328\u001b[39m \u001b[43m            \u001b[49m\u001b[38;5;28;43;01mfor\u001b[39;49;00m\u001b[43m \u001b[49m\u001b[43ma\u001b[49m\u001b[43m \u001b[49m\u001b[38;5;129;43;01min\u001b[39;49;00m\u001b[43m \u001b[49m\u001b[38;5;28;43mself\u001b[39;49m\u001b[43m.\u001b[49m\u001b[43m_iter_next_step\u001b[49m\u001b[43m(\u001b[49m\n\u001b[32m   1329\u001b[39m \u001b[43m                \u001b[49m\u001b[43mname_to_tool_map\u001b[49m\u001b[43m,\u001b[49m\n\u001b[32m   1330\u001b[39m \u001b[43m                \u001b[49m\u001b[43mcolor_mapping\u001b[49m\u001b[43m,\u001b[49m\n\u001b[32m   1331\u001b[39m \u001b[43m                \u001b[49m\u001b[43minputs\u001b[49m\u001b[43m,\u001b[49m\n\u001b[32m   1332\u001b[39m \u001b[43m                \u001b[49m\u001b[43mintermediate_steps\u001b[49m\u001b[43m,\u001b[49m\n\u001b[32m   1333\u001b[39m \u001b[43m                \u001b[49m\u001b[43mrun_manager\u001b[49m\u001b[43m,\u001b[49m\n\u001b[32m   1334\u001b[39m \u001b[43m            \u001b[49m\u001b[43m)\u001b[49m\n\u001b[32m   1335\u001b[39m \u001b[43m        \u001b[49m\u001b[43m]\u001b[49m\n\u001b[32m   1336\u001b[39m     )\n",
      "\u001b[36mFile \u001b[39m\u001b[32mc:\\Users\\gyanb\\OneDrive\\Desktop\\langgraph_agents\\.venv\\Lib\\site-packages\\langchain\\agents\\agent.py:1326\u001b[39m, in \u001b[36m<listcomp>\u001b[39m\u001b[34m(.0)\u001b[39m\n\u001b[32m   1317\u001b[39m \u001b[38;5;28;01mdef\u001b[39;00m\u001b[38;5;250m \u001b[39m\u001b[34m_take_next_step\u001b[39m(\n\u001b[32m   1318\u001b[39m     \u001b[38;5;28mself\u001b[39m,\n\u001b[32m   1319\u001b[39m     name_to_tool_map: \u001b[38;5;28mdict\u001b[39m[\u001b[38;5;28mstr\u001b[39m, BaseTool],\n\u001b[32m   (...)\u001b[39m\u001b[32m   1323\u001b[39m     run_manager: Optional[CallbackManagerForChainRun] = \u001b[38;5;28;01mNone\u001b[39;00m,\n\u001b[32m   1324\u001b[39m ) -> Union[AgentFinish, \u001b[38;5;28mlist\u001b[39m[\u001b[38;5;28mtuple\u001b[39m[AgentAction, \u001b[38;5;28mstr\u001b[39m]]]:\n\u001b[32m   1325\u001b[39m     \u001b[38;5;28;01mreturn\u001b[39;00m \u001b[38;5;28mself\u001b[39m._consume_next_step(\n\u001b[32m-> \u001b[39m\u001b[32m1326\u001b[39m         \u001b[43m[\u001b[49m\n\u001b[32m   1327\u001b[39m \u001b[43m            \u001b[49m\u001b[43ma\u001b[49m\n\u001b[32m   1328\u001b[39m \u001b[43m            \u001b[49m\u001b[38;5;28;43;01mfor\u001b[39;49;00m\u001b[43m \u001b[49m\u001b[43ma\u001b[49m\u001b[43m \u001b[49m\u001b[38;5;129;43;01min\u001b[39;49;00m\u001b[43m \u001b[49m\u001b[38;5;28;43mself\u001b[39;49m\u001b[43m.\u001b[49m\u001b[43m_iter_next_step\u001b[49m\u001b[43m(\u001b[49m\n\u001b[32m   1329\u001b[39m \u001b[43m                \u001b[49m\u001b[43mname_to_tool_map\u001b[49m\u001b[43m,\u001b[49m\n\u001b[32m   1330\u001b[39m \u001b[43m                \u001b[49m\u001b[43mcolor_mapping\u001b[49m\u001b[43m,\u001b[49m\n\u001b[32m   1331\u001b[39m \u001b[43m                \u001b[49m\u001b[43minputs\u001b[49m\u001b[43m,\u001b[49m\n\u001b[32m   1332\u001b[39m \u001b[43m                \u001b[49m\u001b[43mintermediate_steps\u001b[49m\u001b[43m,\u001b[49m\n\u001b[32m   1333\u001b[39m \u001b[43m                \u001b[49m\u001b[43mrun_manager\u001b[49m\u001b[43m,\u001b[49m\n\u001b[32m   1334\u001b[39m \u001b[43m            \u001b[49m\u001b[43m)\u001b[49m\n\u001b[32m   1335\u001b[39m \u001b[43m        \u001b[49m\u001b[43m]\u001b[49m\n\u001b[32m   1336\u001b[39m     )\n",
      "\u001b[36mFile \u001b[39m\u001b[32mc:\\Users\\gyanb\\OneDrive\\Desktop\\langgraph_agents\\.venv\\Lib\\site-packages\\langchain\\agents\\agent.py:1411\u001b[39m, in \u001b[36mAgentExecutor._iter_next_step\u001b[39m\u001b[34m(self, name_to_tool_map, color_mapping, inputs, intermediate_steps, run_manager)\u001b[39m\n\u001b[32m   1409\u001b[39m     \u001b[38;5;28;01myield\u001b[39;00m agent_action\n\u001b[32m   1410\u001b[39m \u001b[38;5;28;01mfor\u001b[39;00m agent_action \u001b[38;5;129;01min\u001b[39;00m actions:\n\u001b[32m-> \u001b[39m\u001b[32m1411\u001b[39m     \u001b[38;5;28;01myield\u001b[39;00m \u001b[38;5;28;43mself\u001b[39;49m\u001b[43m.\u001b[49m\u001b[43m_perform_agent_action\u001b[49m\u001b[43m(\u001b[49m\n\u001b[32m   1412\u001b[39m \u001b[43m        \u001b[49m\u001b[43mname_to_tool_map\u001b[49m\u001b[43m,\u001b[49m\u001b[43m \u001b[49m\u001b[43mcolor_mapping\u001b[49m\u001b[43m,\u001b[49m\u001b[43m \u001b[49m\u001b[43magent_action\u001b[49m\u001b[43m,\u001b[49m\u001b[43m \u001b[49m\u001b[43mrun_manager\u001b[49m\n\u001b[32m   1413\u001b[39m \u001b[43m    \u001b[49m\u001b[43m)\u001b[49m\n",
      "\u001b[36mFile \u001b[39m\u001b[32mc:\\Users\\gyanb\\OneDrive\\Desktop\\langgraph_agents\\.venv\\Lib\\site-packages\\langchain\\agents\\agent.py:1433\u001b[39m, in \u001b[36mAgentExecutor._perform_agent_action\u001b[39m\u001b[34m(self, name_to_tool_map, color_mapping, agent_action, run_manager)\u001b[39m\n\u001b[32m   1431\u001b[39m         tool_run_kwargs[\u001b[33m\"\u001b[39m\u001b[33mllm_prefix\u001b[39m\u001b[33m\"\u001b[39m] = \u001b[33m\"\u001b[39m\u001b[33m\"\u001b[39m\n\u001b[32m   1432\u001b[39m     \u001b[38;5;66;03m# We then call the tool on the tool input to get an observation\u001b[39;00m\n\u001b[32m-> \u001b[39m\u001b[32m1433\u001b[39m     observation = \u001b[43mtool\u001b[49m\u001b[43m.\u001b[49m\u001b[43mrun\u001b[49m\u001b[43m(\u001b[49m\n\u001b[32m   1434\u001b[39m \u001b[43m        \u001b[49m\u001b[43magent_action\u001b[49m\u001b[43m.\u001b[49m\u001b[43mtool_input\u001b[49m\u001b[43m,\u001b[49m\n\u001b[32m   1435\u001b[39m \u001b[43m        \u001b[49m\u001b[43mverbose\u001b[49m\u001b[43m=\u001b[49m\u001b[38;5;28;43mself\u001b[39;49m\u001b[43m.\u001b[49m\u001b[43mverbose\u001b[49m\u001b[43m,\u001b[49m\n\u001b[32m   1436\u001b[39m \u001b[43m        \u001b[49m\u001b[43mcolor\u001b[49m\u001b[43m=\u001b[49m\u001b[43mcolor\u001b[49m\u001b[43m,\u001b[49m\n\u001b[32m   1437\u001b[39m \u001b[43m        \u001b[49m\u001b[43mcallbacks\u001b[49m\u001b[43m=\u001b[49m\u001b[43mrun_manager\u001b[49m\u001b[43m.\u001b[49m\u001b[43mget_child\u001b[49m\u001b[43m(\u001b[49m\u001b[43m)\u001b[49m\u001b[43m \u001b[49m\u001b[38;5;28;43;01mif\u001b[39;49;00m\u001b[43m \u001b[49m\u001b[43mrun_manager\u001b[49m\u001b[43m \u001b[49m\u001b[38;5;28;43;01melse\u001b[39;49;00m\u001b[43m \u001b[49m\u001b[38;5;28;43;01mNone\u001b[39;49;00m\u001b[43m,\u001b[49m\n\u001b[32m   1438\u001b[39m \u001b[43m        \u001b[49m\u001b[43m*\u001b[49m\u001b[43m*\u001b[49m\u001b[43mtool_run_kwargs\u001b[49m\u001b[43m,\u001b[49m\n\u001b[32m   1439\u001b[39m \u001b[43m    \u001b[49m\u001b[43m)\u001b[49m\n\u001b[32m   1440\u001b[39m \u001b[38;5;28;01melse\u001b[39;00m:\n\u001b[32m   1441\u001b[39m     tool_run_kwargs = \u001b[38;5;28mself\u001b[39m._action_agent.tool_run_logging_kwargs()\n",
      "\u001b[36mFile \u001b[39m\u001b[32mc:\\Users\\gyanb\\OneDrive\\Desktop\\langgraph_agents\\.venv\\Lib\\site-packages\\langchain_core\\tools\\base.py:774\u001b[39m, in \u001b[36mBaseTool.run\u001b[39m\u001b[34m(self, tool_input, verbose, start_color, color, callbacks, tags, metadata, run_name, run_id, config, tool_call_id, **kwargs)\u001b[39m\n\u001b[32m    772\u001b[39m \u001b[38;5;28;01mif\u001b[39;00m error_to_raise:\n\u001b[32m    773\u001b[39m     run_manager.on_tool_error(error_to_raise)\n\u001b[32m--> \u001b[39m\u001b[32m774\u001b[39m     \u001b[38;5;28;01mraise\u001b[39;00m error_to_raise\n\u001b[32m    775\u001b[39m output = _format_output(content, artifact, tool_call_id, \u001b[38;5;28mself\u001b[39m.name, status)\n\u001b[32m    776\u001b[39m run_manager.on_tool_end(output, color=color, name=\u001b[38;5;28mself\u001b[39m.name, **kwargs)\n",
      "\u001b[36mFile \u001b[39m\u001b[32mc:\\Users\\gyanb\\OneDrive\\Desktop\\langgraph_agents\\.venv\\Lib\\site-packages\\langchain_core\\tools\\base.py:743\u001b[39m, in \u001b[36mBaseTool.run\u001b[39m\u001b[34m(self, tool_input, verbose, start_color, color, callbacks, tags, metadata, run_name, run_id, config, tool_call_id, **kwargs)\u001b[39m\n\u001b[32m    741\u001b[39m     \u001b[38;5;28;01mif\u001b[39;00m config_param := _get_runnable_config_param(\u001b[38;5;28mself\u001b[39m._run):\n\u001b[32m    742\u001b[39m         tool_kwargs = tool_kwargs | {config_param: config}\n\u001b[32m--> \u001b[39m\u001b[32m743\u001b[39m     response = \u001b[43mcontext\u001b[49m\u001b[43m.\u001b[49m\u001b[43mrun\u001b[49m\u001b[43m(\u001b[49m\u001b[38;5;28;43mself\u001b[39;49m\u001b[43m.\u001b[49m\u001b[43m_run\u001b[49m\u001b[43m,\u001b[49m\u001b[43m \u001b[49m\u001b[43m*\u001b[49m\u001b[43mtool_args\u001b[49m\u001b[43m,\u001b[49m\u001b[43m \u001b[49m\u001b[43m*\u001b[49m\u001b[43m*\u001b[49m\u001b[43mtool_kwargs\u001b[49m\u001b[43m)\u001b[49m\n\u001b[32m    744\u001b[39m \u001b[38;5;28;01mif\u001b[39;00m \u001b[38;5;28mself\u001b[39m.response_format == \u001b[33m\"\u001b[39m\u001b[33mcontent_and_artifact\u001b[39m\u001b[33m\"\u001b[39m:\n\u001b[32m    745\u001b[39m     \u001b[38;5;28;01mif\u001b[39;00m \u001b[38;5;129;01mnot\u001b[39;00m \u001b[38;5;28misinstance\u001b[39m(response, \u001b[38;5;28mtuple\u001b[39m) \u001b[38;5;129;01mor\u001b[39;00m \u001b[38;5;28mlen\u001b[39m(response) != \u001b[32m2\u001b[39m:\n",
      "\u001b[36mFile \u001b[39m\u001b[32mc:\\Users\\gyanb\\OneDrive\\Desktop\\langgraph_agents\\.venv\\Lib\\site-packages\\langchain_core\\tools\\simple.py:105\u001b[39m, in \u001b[36mTool._run\u001b[39m\u001b[34m(self, config, run_manager, *args, **kwargs)\u001b[39m\n\u001b[32m    103\u001b[39m     \u001b[38;5;28;01mif\u001b[39;00m config_param := _get_runnable_config_param(\u001b[38;5;28mself\u001b[39m.func):\n\u001b[32m    104\u001b[39m         kwargs[config_param] = config\n\u001b[32m--> \u001b[39m\u001b[32m105\u001b[39m     \u001b[38;5;28;01mreturn\u001b[39;00m \u001b[38;5;28;43mself\u001b[39;49m\u001b[43m.\u001b[49m\u001b[43mfunc\u001b[49m\u001b[43m(\u001b[49m\u001b[43m*\u001b[49m\u001b[43margs\u001b[49m\u001b[43m,\u001b[49m\u001b[43m \u001b[49m\u001b[43m*\u001b[49m\u001b[43m*\u001b[49m\u001b[43mkwargs\u001b[49m\u001b[43m)\u001b[49m\n\u001b[32m    106\u001b[39m msg = \u001b[33m\"\u001b[39m\u001b[33mTool does not support sync invocation.\u001b[39m\u001b[33m\"\u001b[39m\n\u001b[32m    107\u001b[39m \u001b[38;5;28;01mraise\u001b[39;00m \u001b[38;5;167;01mNotImplementedError\u001b[39;00m(msg)\n",
      "\u001b[36mFile \u001b[39m\u001b[32mc:\\Users\\gyanb\\OneDrive\\Desktop\\langgraph_agents\\.venv\\Lib\\site-packages\\langchain_core\\_api\\deprecation.py:191\u001b[39m, in \u001b[36mdeprecated.<locals>.deprecate.<locals>.warning_emitting_wrapper\u001b[39m\u001b[34m(*args, **kwargs)\u001b[39m\n\u001b[32m    189\u001b[39m     warned = \u001b[38;5;28;01mTrue\u001b[39;00m\n\u001b[32m    190\u001b[39m     emit_warning()\n\u001b[32m--> \u001b[39m\u001b[32m191\u001b[39m \u001b[38;5;28;01mreturn\u001b[39;00m \u001b[43mwrapped\u001b[49m\u001b[43m(\u001b[49m\u001b[43m*\u001b[49m\u001b[43margs\u001b[49m\u001b[43m,\u001b[49m\u001b[43m \u001b[49m\u001b[43m*\u001b[49m\u001b[43m*\u001b[49m\u001b[43mkwargs\u001b[49m\u001b[43m)\u001b[49m\n",
      "\u001b[36mFile \u001b[39m\u001b[32mc:\\Users\\gyanb\\OneDrive\\Desktop\\langgraph_agents\\.venv\\Lib\\site-packages\\langchain_core\\tools\\base.py:896\u001b[39m, in \u001b[36mBaseTool.__call__\u001b[39m\u001b[34m(self, tool_input, callbacks)\u001b[39m\n\u001b[32m    893\u001b[39m \u001b[38;5;129m@deprecated\u001b[39m(\u001b[33m\"\u001b[39m\u001b[33m0.1.47\u001b[39m\u001b[33m\"\u001b[39m, alternative=\u001b[33m\"\u001b[39m\u001b[33minvoke\u001b[39m\u001b[33m\"\u001b[39m, removal=\u001b[33m\"\u001b[39m\u001b[33m1.0\u001b[39m\u001b[33m\"\u001b[39m)\n\u001b[32m    894\u001b[39m \u001b[38;5;28;01mdef\u001b[39;00m\u001b[38;5;250m \u001b[39m\u001b[34m__call__\u001b[39m(\u001b[38;5;28mself\u001b[39m, tool_input: \u001b[38;5;28mstr\u001b[39m, callbacks: Callbacks = \u001b[38;5;28;01mNone\u001b[39;00m) -> \u001b[38;5;28mstr\u001b[39m:\n\u001b[32m    895\u001b[39m \u001b[38;5;250m    \u001b[39m\u001b[33;03m\"\"\"Make tool callable.\"\"\"\u001b[39;00m\n\u001b[32m--> \u001b[39m\u001b[32m896\u001b[39m     \u001b[38;5;28;01mreturn\u001b[39;00m \u001b[38;5;28;43mself\u001b[39;49m\u001b[43m.\u001b[49m\u001b[43mrun\u001b[49m\u001b[43m(\u001b[49m\u001b[43mtool_input\u001b[49m\u001b[43m,\u001b[49m\u001b[43m \u001b[49m\u001b[43mcallbacks\u001b[49m\u001b[43m=\u001b[49m\u001b[43mcallbacks\u001b[49m\u001b[43m)\u001b[49m\n",
      "\u001b[36mFile \u001b[39m\u001b[32mc:\\Users\\gyanb\\OneDrive\\Desktop\\langgraph_agents\\.venv\\Lib\\site-packages\\langchain_core\\tools\\base.py:774\u001b[39m, in \u001b[36mBaseTool.run\u001b[39m\u001b[34m(self, tool_input, verbose, start_color, color, callbacks, tags, metadata, run_name, run_id, config, tool_call_id, **kwargs)\u001b[39m\n\u001b[32m    772\u001b[39m \u001b[38;5;28;01mif\u001b[39;00m error_to_raise:\n\u001b[32m    773\u001b[39m     run_manager.on_tool_error(error_to_raise)\n\u001b[32m--> \u001b[39m\u001b[32m774\u001b[39m     \u001b[38;5;28;01mraise\u001b[39;00m error_to_raise\n\u001b[32m    775\u001b[39m output = _format_output(content, artifact, tool_call_id, \u001b[38;5;28mself\u001b[39m.name, status)\n\u001b[32m    776\u001b[39m run_manager.on_tool_end(output, color=color, name=\u001b[38;5;28mself\u001b[39m.name, **kwargs)\n",
      "\u001b[36mFile \u001b[39m\u001b[32mc:\\Users\\gyanb\\OneDrive\\Desktop\\langgraph_agents\\.venv\\Lib\\site-packages\\langchain_core\\tools\\base.py:736\u001b[39m, in \u001b[36mBaseTool.run\u001b[39m\u001b[34m(self, tool_input, verbose, start_color, color, callbacks, tags, metadata, run_name, run_id, config, tool_call_id, **kwargs)\u001b[39m\n\u001b[32m    734\u001b[39m child_config = patch_config(config, callbacks=run_manager.get_child())\n\u001b[32m    735\u001b[39m \u001b[38;5;28;01mwith\u001b[39;00m set_config_context(child_config) \u001b[38;5;28;01mas\u001b[39;00m context:\n\u001b[32m--> \u001b[39m\u001b[32m736\u001b[39m     tool_args, tool_kwargs = \u001b[38;5;28;43mself\u001b[39;49m\u001b[43m.\u001b[49m\u001b[43m_to_args_and_kwargs\u001b[49m\u001b[43m(\u001b[49m\n\u001b[32m    737\u001b[39m \u001b[43m        \u001b[49m\u001b[43mtool_input\u001b[49m\u001b[43m,\u001b[49m\u001b[43m \u001b[49m\u001b[43mtool_call_id\u001b[49m\n\u001b[32m    738\u001b[39m \u001b[43m    \u001b[49m\u001b[43m)\u001b[49m\n\u001b[32m    739\u001b[39m     \u001b[38;5;28;01mif\u001b[39;00m signature(\u001b[38;5;28mself\u001b[39m._run).parameters.get(\u001b[33m\"\u001b[39m\u001b[33mrun_manager\u001b[39m\u001b[33m\"\u001b[39m):\n\u001b[32m    740\u001b[39m         tool_kwargs = tool_kwargs | {\u001b[33m\"\u001b[39m\u001b[33mrun_manager\u001b[39m\u001b[33m\"\u001b[39m: run_manager}\n",
      "\u001b[36mFile \u001b[39m\u001b[32mc:\\Users\\gyanb\\OneDrive\\Desktop\\langgraph_agents\\.venv\\Lib\\site-packages\\langchain_core\\tools\\base.py:651\u001b[39m, in \u001b[36mBaseTool._to_args_and_kwargs\u001b[39m\u001b[34m(self, tool_input, tool_call_id)\u001b[39m\n\u001b[32m    643\u001b[39m \u001b[38;5;28;01mif\u001b[39;00m (\n\u001b[32m    644\u001b[39m     \u001b[38;5;28mself\u001b[39m.args_schema \u001b[38;5;129;01mis\u001b[39;00m \u001b[38;5;129;01mnot\u001b[39;00m \u001b[38;5;28;01mNone\u001b[39;00m\n\u001b[32m    645\u001b[39m     \u001b[38;5;129;01mand\u001b[39;00m \u001b[38;5;28misinstance\u001b[39m(\u001b[38;5;28mself\u001b[39m.args_schema, \u001b[38;5;28mtype\u001b[39m)\n\u001b[32m   (...)\u001b[39m\u001b[32m    648\u001b[39m ):\n\u001b[32m    649\u001b[39m     \u001b[38;5;66;03m# StructuredTool with no args\u001b[39;00m\n\u001b[32m    650\u001b[39m     \u001b[38;5;28;01mreturn\u001b[39;00m (), {}\n\u001b[32m--> \u001b[39m\u001b[32m651\u001b[39m tool_input = \u001b[38;5;28;43mself\u001b[39;49m\u001b[43m.\u001b[49m\u001b[43m_parse_input\u001b[49m\u001b[43m(\u001b[49m\u001b[43mtool_input\u001b[49m\u001b[43m,\u001b[49m\u001b[43m \u001b[49m\u001b[43mtool_call_id\u001b[49m\u001b[43m)\u001b[49m\n\u001b[32m    652\u001b[39m \u001b[38;5;66;03m# For backwards compatibility, if run_input is a string,\u001b[39;00m\n\u001b[32m    653\u001b[39m \u001b[38;5;66;03m# pass as a positional argument.\u001b[39;00m\n\u001b[32m    654\u001b[39m \u001b[38;5;28;01mif\u001b[39;00m \u001b[38;5;28misinstance\u001b[39m(tool_input, \u001b[38;5;28mstr\u001b[39m):\n",
      "\u001b[36mFile \u001b[39m\u001b[32mc:\\Users\\gyanb\\OneDrive\\Desktop\\langgraph_agents\\.venv\\Lib\\site-packages\\langchain_core\\tools\\base.py:547\u001b[39m, in \u001b[36mBaseTool._parse_input\u001b[39m\u001b[34m(self, tool_input, tool_call_id)\u001b[39m\n\u001b[32m    545\u001b[39m key_ = \u001b[38;5;28mnext\u001b[39m(\u001b[38;5;28miter\u001b[39m(get_fields(input_args).keys()))\n\u001b[32m    546\u001b[39m \u001b[38;5;28;01mif\u001b[39;00m \u001b[38;5;28mhasattr\u001b[39m(input_args, \u001b[33m\"\u001b[39m\u001b[33mmodel_validate\u001b[39m\u001b[33m\"\u001b[39m):\n\u001b[32m--> \u001b[39m\u001b[32m547\u001b[39m     \u001b[43minput_args\u001b[49m\u001b[43m.\u001b[49m\u001b[43mmodel_validate\u001b[49m\u001b[43m(\u001b[49m\u001b[43m{\u001b[49m\u001b[43mkey_\u001b[49m\u001b[43m:\u001b[49m\u001b[43m \u001b[49m\u001b[43mtool_input\u001b[49m\u001b[43m}\u001b[49m\u001b[43m)\u001b[49m\n\u001b[32m    548\u001b[39m \u001b[38;5;28;01melse\u001b[39;00m:\n\u001b[32m    549\u001b[39m     input_args.parse_obj({key_: tool_input})\n",
      "\u001b[36mFile \u001b[39m\u001b[32mc:\\Users\\gyanb\\OneDrive\\Desktop\\langgraph_agents\\.venv\\Lib\\site-packages\\pydantic\\main.py:703\u001b[39m, in \u001b[36mBaseModel.model_validate\u001b[39m\u001b[34m(cls, obj, strict, from_attributes, context, by_alias, by_name)\u001b[39m\n\u001b[32m    697\u001b[39m \u001b[38;5;28;01mif\u001b[39;00m by_alias \u001b[38;5;129;01mis\u001b[39;00m \u001b[38;5;28;01mFalse\u001b[39;00m \u001b[38;5;129;01mand\u001b[39;00m by_name \u001b[38;5;129;01mis\u001b[39;00m \u001b[38;5;129;01mnot\u001b[39;00m \u001b[38;5;28;01mTrue\u001b[39;00m:\n\u001b[32m    698\u001b[39m     \u001b[38;5;28;01mraise\u001b[39;00m PydanticUserError(\n\u001b[32m    699\u001b[39m         \u001b[33m'\u001b[39m\u001b[33mAt least one of `by_alias` or `by_name` must be set to True.\u001b[39m\u001b[33m'\u001b[39m,\n\u001b[32m    700\u001b[39m         code=\u001b[33m'\u001b[39m\u001b[33mvalidate-by-alias-and-name-false\u001b[39m\u001b[33m'\u001b[39m,\n\u001b[32m    701\u001b[39m     )\n\u001b[32m--> \u001b[39m\u001b[32m703\u001b[39m \u001b[38;5;28;01mreturn\u001b[39;00m \u001b[38;5;28;43mcls\u001b[39;49m\u001b[43m.\u001b[49m\u001b[43m__pydantic_validator__\u001b[49m\u001b[43m.\u001b[49m\u001b[43mvalidate_python\u001b[49m\u001b[43m(\u001b[49m\n\u001b[32m    704\u001b[39m \u001b[43m    \u001b[49m\u001b[43mobj\u001b[49m\u001b[43m,\u001b[49m\u001b[43m \u001b[49m\u001b[43mstrict\u001b[49m\u001b[43m=\u001b[49m\u001b[43mstrict\u001b[49m\u001b[43m,\u001b[49m\u001b[43m \u001b[49m\u001b[43mfrom_attributes\u001b[49m\u001b[43m=\u001b[49m\u001b[43mfrom_attributes\u001b[49m\u001b[43m,\u001b[49m\u001b[43m \u001b[49m\u001b[43mcontext\u001b[49m\u001b[43m=\u001b[49m\u001b[43mcontext\u001b[49m\u001b[43m,\u001b[49m\u001b[43m \u001b[49m\u001b[43mby_alias\u001b[49m\u001b[43m=\u001b[49m\u001b[43mby_alias\u001b[49m\u001b[43m,\u001b[49m\u001b[43m \u001b[49m\u001b[43mby_name\u001b[49m\u001b[43m=\u001b[49m\u001b[43mby_name\u001b[49m\n\u001b[32m    705\u001b[39m \u001b[43m\u001b[49m\u001b[43m)\u001b[49m\n",
      "\u001b[31mValidationError\u001b[39m: 1 validation error for multiplication\nb\n  Field required [type=missing, input_value={'a': '5 * 36'}, input_type=dict]\n    For further information visit https://errors.pydantic.dev/2.11/v/missing"
     ]
    }
   ],
   "source": [
    "agent_executor.invoke({'input':'Value of 2+5*36/6-7+2'})"
   ]
  },
  {
   "cell_type": "code",
   "execution_count": 61,
   "metadata": {},
   "outputs": [
    {
     "name": "stdout",
     "output_type": "stream",
     "text": [
      "\n",
      "\n",
      "\u001b[1m> Entering new AgentExecutor chain...\u001b[0m\n",
      "\u001b[32;1m\u001b[1;3mThought: I need to follow the order of operations (PEMDAS/BODMAS) to solve this.\n",
      "Action: Calculator\n",
      "Action Input: 2 + 5 * 36 / 6 - 7 + 2\u001b[0m\n",
      "Observation: \u001b[36;1m\u001b[1;3m27.0\u001b[0m\n",
      "Thought:\u001b[32;1m\u001b[1;3mThought: I now know the final answer\n",
      "Final Answer: 27.0 \n",
      "\u001b[0m\n",
      "\n",
      "\u001b[1m> Finished chain.\u001b[0m\n",
      "Answer: 27.0\n"
     ]
    }
   ],
   "source": [
    "from langchain.agents import initialize_agent, Tool\n",
    "from langchain.agents.agent_types import AgentType\n",
    "\n",
    "# Tool: A simple calculator function\n",
    "def calculator_tool(query: str) -> str:\n",
    "    try:\n",
    "        result = eval(query)\n",
    "        return str(result)\n",
    "    except Exception as e:\n",
    "        return f\"Error: {str(e)}\"\n",
    "\n",
    "# Wrap it in LangChain's Tool interface\n",
    "calc_tool = Tool(\n",
    "    name=\"Calculator\",\n",
    "    func=calculator_tool,\n",
    "    description=\"Useful for when you need to do math calculations. Input should be a valid Python expression like '2 + 2' or '3 * (4 + 1)'.\"\n",
    ")\n",
    "\n",
    "\n",
    "\n",
    "# Initialize the agent with the tool\n",
    "agent = initialize_agent(\n",
    "    tools=[calc_tool],\n",
    "    llm=llm,\n",
    "    agent=AgentType.ZERO_SHOT_REACT_DESCRIPTION,\n",
    "    verbose=True,\n",
    ")\n",
    "\n",
    "# Test the agent\n",
    "response = agent.run(\"What is  2+5*36/6-7+2?\")\n",
    "print(\"Answer:\", response)\n"
   ]
  },
  {
   "cell_type": "code",
   "execution_count": 63,
   "metadata": {},
   "outputs": [],
   "source": [
    "@tool\n",
    "def get_emp_id(name):\n",
    "    \"\"\"\n",
    "    To get the employee id, it takes employee name as arguments \n",
    "    name(str): Name of the the employee\n",
    "    \"\"\"\n",
    "    employee={\n",
    "        \"Gyanbardhan\":\"E001\",\n",
    "        \"Lakshit Upreti\":\"E002\",\n",
    "        \"Daulat Ojha\":\"E003\",\n",
    "        \"Yash Gangan\":\"E004\",\n",
    "        \"Guransh Singh\":\"E005\",\n",
    "        \"Aditya Prasad\":\"E006\",\n",
    "        \"Harsh Verma\":\"E007\",\n",
    "        \"Vasu Kapasia\":\"E008\"\n",
    "    }\n",
    "    return employee.get(name,\"Employee not found\")"
   ]
  },
  {
   "cell_type": "code",
   "execution_count": 65,
   "metadata": {},
   "outputs": [],
   "source": [
    "@tool\n",
    "def get_emp_sal(emp_id):\n",
    "    \"\"\"To get the salary of employee, it tales emp_id as input and return salary\"\"\"\n",
    "    salaries={\n",
    "        \"E001\":\"18 LPA\",\n",
    "        \"E002\":\"12 LPA\",\n",
    "        \"E003\":\"21.5 LPA\",\n",
    "        \"E004\":\"12 LPA\",\n",
    "        \"E005\":\"14 LPA\",\n",
    "        \"E006\":\"13 LPA\",\n",
    "        \"E008\":\"21.5 LPA\"\n",
    "    }\n",
    "    return salaries.get(emp_id,\"Employee not found\")"
   ]
  },
  {
   "cell_type": "code",
   "execution_count": 68,
   "metadata": {},
   "outputs": [
    {
     "name": "stdout",
     "output_type": "stream",
     "text": [
      "Answer the following questions as best you can. You have access to the following tools:\n",
      "\n",
      "{tools}\n",
      "\n",
      "Use the following format:\n",
      "\n",
      "Question: the input question you must answer\n",
      "Thought: you should always think about what to do\n",
      "Action: the action to take, should be one of [{tool_names}]\n",
      "Action Input: the input to the action\n",
      "Observation: the result of the action\n",
      "... (this Thought/Action/Action Input/Observation can repeat N times)\n",
      "Thought: I now know the final answer\n",
      "Final Answer: the final answer to the original input question\n",
      "\n",
      "Begin!\n",
      "\n",
      "Question: {input}\n",
      "Thought:{agent_scratchpad}\n"
     ]
    }
   ],
   "source": [
    "prompt=hub.pull(\"hwchase17/react\")\n",
    "print(prompt.template)"
   ]
  },
  {
   "cell_type": "code",
   "execution_count": 69,
   "metadata": {},
   "outputs": [],
   "source": [
    "tools=[get_emp_id,get_emp_sal]"
   ]
  },
  {
   "cell_type": "code",
   "execution_count": 72,
   "metadata": {},
   "outputs": [],
   "source": [
    "emp_agent=create_react_agent(llm,tools,prompt)\n",
    "agent_executor=AgentExecutor(agent=emp_agent,tools=tools,verbose=True)"
   ]
  },
  {
   "cell_type": "code",
   "execution_count": 77,
   "metadata": {},
   "outputs": [
    {
     "name": "stdout",
     "output_type": "stream",
     "text": [
      "\n",
      "\n",
      "\u001b[1m> Entering new AgentExecutor chain...\u001b[0m\n",
      "\u001b[32;1m\u001b[1;3mThought: I need to first find Gyanbardhan's employee ID using his name. Then, I can use his employee ID to find his salary. \n",
      "Action: get_emp_id\n",
      "Action Input: Gyanbardhan\u001b[0m\u001b[36;1m\u001b[1;3mE001\u001b[0m\u001b[32;1m\u001b[1;3mThought: Now that I have Gyanbardhan's employee ID (E001), I can use it to find his salary.\n",
      "Action: get_emp_sal\n",
      "Action Input: E001\u001b[0m\u001b[33;1m\u001b[1;3m18 LPA\u001b[0m\u001b[32;1m\u001b[1;3mI now know the final answer\n",
      "Final Answer:  18 LPA \n",
      "\u001b[0m\n",
      "\n",
      "\u001b[1m> Finished chain.\u001b[0m\n"
     ]
    },
    {
     "data": {
      "text/plain": [
       "{'input': 'Salary of  Gyanbardhan', 'output': '18 LPA'}"
      ]
     },
     "execution_count": 77,
     "metadata": {},
     "output_type": "execute_result"
    }
   ],
   "source": [
    "agent_executor.invoke({'input':'Salary of  Gyanbardhan'})"
   ]
  },
  {
   "cell_type": "code",
   "execution_count": 79,
   "metadata": {},
   "outputs": [
    {
     "name": "stdout",
     "output_type": "stream",
     "text": [
      "\n",
      "\n",
      "\u001b[1m> Entering new AgentExecutor chain...\u001b[0m\n",
      "\u001b[32;1m\u001b[1;3mThought: To find Lakshit Upreti's salary, I need to first find their employee ID using their name. \n",
      "Action: get_emp_id\n",
      "Action Input: Lakshit Upreti\u001b[0m\u001b[36;1m\u001b[1;3mE002\u001b[0m\u001b[32;1m\u001b[1;3mThought: Now that I have the employee ID, I can use it to find Lakshit Upreti's salary.\n",
      "Action: get_emp_sal\n",
      "Action Input: E002\u001b[0m\u001b[33;1m\u001b[1;3m12 LPA\u001b[0m\u001b[32;1m\u001b[1;3m Thought: I now know the final answer\n",
      "Final Answer: 12 LPA \n",
      "\u001b[0m\n",
      "\n",
      "\u001b[1m> Finished chain.\u001b[0m\n"
     ]
    },
    {
     "data": {
      "text/plain": [
       "{'input': 'What is the Salary of  Lakshit Upreti', 'output': '12 LPA'}"
      ]
     },
     "execution_count": 79,
     "metadata": {},
     "output_type": "execute_result"
    }
   ],
   "source": [
    "agent_executor.invoke({'input':'What is the Salary of  Lakshit Upreti'})"
   ]
  },
  {
   "cell_type": "markdown",
   "metadata": {},
   "source": [
    "## 🧠 Self-Ask Agent\n",
    "\n",
    "\n",
    "- **Self-Ask** is an agent architecture where an LLM decomposes complex questions into sub-questions.\n",
    "- Introduced in the paper **“Large Language Models are Zero-Shot Reasoners”**.\n",
    "- Enables **multi-step reasoning** and the use of **external tools** like calculators or search APIs.\n",
    "\n",
    "\n",
    "#### 🔄 Working Mechanism\n",
    "\n",
    "1. Receive Query\n",
    "- Input: A complex or multi-step question.\n",
    "  - Example: `\"What is 25 squared minus 100?\"`\n",
    "\n",
    "2. Decompose Into Sub-Questions\n",
    "- Breaks the main question into simpler ones:\n",
    "  - \"What is 25 squared?\"\n",
    "  - \"Then subtract 100.\"\n",
    "\n",
    "<img src=\"Self_Ask.png\" alt=\"Self Ask\" style=\"width:300px; height:auto;\"/>\n",
    "\n",
    "3. Use External Tools\n",
    "- Uses tools (like a calculator) to answer intermediate questions.\n",
    "\n",
    "4. Combine Results\n",
    "- Final answer is derived from the sub-results.\n",
    "\n",
    "![Self Rag](Self_Ask_Agent.png)\n"
   ]
  },
  {
   "cell_type": "code",
   "execution_count": 81,
   "metadata": {},
   "outputs": [],
   "source": [
    "from langchain_google_genai import ChatGoogleGenerativeAI\n",
    "llm=ChatGoogleGenerativeAI(model=\"gemini-2.0-flash\")"
   ]
  },
  {
   "cell_type": "code",
   "execution_count": 82,
   "metadata": {},
   "outputs": [],
   "source": [
    "from langchain import hub\n",
    "from langchain.agents import AgentExecutor,create_self_ask_with_search_agent\n",
    "from langchain_community.tools.tavily_search import TavilyAnswer"
   ]
  },
  {
   "cell_type": "code",
   "execution_count": 87,
   "metadata": {},
   "outputs": [],
   "source": [
    "tools=[\n",
    "    Tool(\n",
    "        name=\"Intermediate Answer\",\n",
    "        func=google_search.run,\n",
    "        description=\"useful for when you need to ask with search\",\n",
    "        verbose=True,\n",
    "    )\n",
    "]"
   ]
  },
  {
   "cell_type": "code",
   "execution_count": 88,
   "metadata": {},
   "outputs": [],
   "source": [
    "prompt=hub.pull(\"hwchase17/self-ask-with-search\")"
   ]
  },
  {
   "cell_type": "code",
   "execution_count": 89,
   "metadata": {},
   "outputs": [
    {
     "name": "stdout",
     "output_type": "stream",
     "text": [
      "Question: Who lived longer, Muhammad Ali or Alan Turing?\n",
      "Are follow up questions needed here: Yes.\n",
      "Follow up: How old was Muhammad Ali when he died?\n",
      "Intermediate answer: Muhammad Ali was 74 years old when he died.\n",
      "Follow up: How old was Alan Turing when he died?\n",
      "Intermediate answer: Alan Turing was 41 years old when he died.\n",
      "So the final answer is: Muhammad Ali\n",
      "\n",
      "Question: When was the founder of craigslist born?\n",
      "Are follow up questions needed here: Yes.\n",
      "Follow up: Who was the founder of craigslist?\n",
      "Intermediate answer: Craigslist was founded by Craig Newmark.\n",
      "Follow up: When was Craig Newmark born?\n",
      "Intermediate answer: Craig Newmark was born on December 6, 1952.\n",
      "So the final answer is: December 6, 1952\n",
      "\n",
      "Question: Who was the maternal grandfather of George Washington?\n",
      "Are follow up questions needed here: Yes.\n",
      "Follow up: Who was the mother of George Washington?\n",
      "Intermediate answer: The mother of George Washington was Mary Ball Washington.\n",
      "Follow up: Who was the father of Mary Ball Washington?\n",
      "Intermediate answer: The father of Mary Ball Washington was Joseph Ball.\n",
      "So the final answer is: Joseph Ball\n",
      "\n",
      "Question: Are both the directors of Jaws and Casino Royale from the same country?\n",
      "Are follow up questions needed here: Yes.\n",
      "Follow up: Who is the director of Jaws?\n",
      "Intermediate answer: The director of Jaws is Steven Spielberg.\n",
      "Follow up: Where is Steven Spielberg from?\n",
      "Intermediate answer: The United States.\n",
      "Follow up: Who is the director of Casino Royale?\n",
      "Intermediate answer: The director of Casino Royale is Martin Campbell.\n",
      "Follow up: Where is Martin Campbell from?\n",
      "Intermediate answer: New Zealand.\n",
      "So the final answer is: No\n",
      "\n",
      "Question: {input}\n",
      "Are followup questions needed here:{agent_scratchpad}\n"
     ]
    }
   ],
   "source": [
    "print(prompt.template)"
   ]
  },
  {
   "cell_type": "code",
   "execution_count": 91,
   "metadata": {},
   "outputs": [],
   "source": [
    "agent_self_ask=create_self_ask_with_search_agent(llm,tools,prompt)"
   ]
  },
  {
   "cell_type": "code",
   "execution_count": 92,
   "metadata": {},
   "outputs": [],
   "source": [
    "agent_executor=AgentExecutor(agent=agent_self_ask,tools=tools,verbose=True,handle_parsing_errors=True)"
   ]
  },
  {
   "cell_type": "code",
   "execution_count": 93,
   "metadata": {},
   "outputs": [
    {
     "name": "stdout",
     "output_type": "stream",
     "text": [
      "\n",
      "\n",
      "\u001b[1m> Entering new AgentExecutor chain...\u001b[0m\n",
      "\u001b[32;1m\u001b[1;3mYes.\n",
      "Follow up: Who is the current Prime Minister of India?\u001b[0m\u001b[36;1m\u001b[1;3mNarendra Modi\u001b[0m\u001b[32;1m\u001b[1;3mFollow up: What is Narendra Modi's home town?\u001b[0m\u001b[36;1m\u001b[1;3mModi was born and raised in Vadnagar, Gujarat, where he completed his secondary education. He was introduced to the RSS at the age of eight. Modi became a full-time worker for the RSS in Gujarat in 1971. The RSS assigned him to the BJP in 1985 and he rose through the party hierarchy, becoming general secretary in 1998.\u001b[0m\u001b[32;1m\u001b[1;3mSo the final answer is: Vadnagar, Gujarat\u001b[0m\n",
      "\n",
      "\u001b[1m> Finished chain.\u001b[0m\n"
     ]
    },
    {
     "data": {
      "text/plain": [
       "{'input': 'What is the home town of current Prime Minister of India',\n",
       " 'output': 'Vadnagar, Gujarat'}"
      ]
     },
     "execution_count": 93,
     "metadata": {},
     "output_type": "execute_result"
    }
   ],
   "source": [
    "agent_executor.invoke({'input':'What is the home town of current Prime Minister of India'})"
   ]
  },
  {
   "cell_type": "code",
   "execution_count": null,
   "metadata": {},
   "outputs": [],
   "source": []
  }
 ],
 "metadata": {
  "kernelspec": {
   "display_name": ".venv",
   "language": "python",
   "name": "python3"
  },
  "language_info": {
   "codemirror_mode": {
    "name": "ipython",
    "version": 3
   },
   "file_extension": ".py",
   "mimetype": "text/x-python",
   "name": "python",
   "nbconvert_exporter": "python",
   "pygments_lexer": "ipython3",
   "version": "3.11.0"
  }
 },
 "nbformat": 4,
 "nbformat_minor": 2
}
